{
 "cells": [
  {
   "cell_type": "code",
   "execution_count": 1,
   "id": "ea85c6ee-3842-465b-8994-e25de11f1af9",
   "metadata": {},
   "outputs": [
    {
     "name": "stderr",
     "output_type": "stream",
     "text": [
      "[nltk_data] Downloading package stopwords to C:\\Users\\Njabulo\n",
      "[nltk_data]     Magd\\AppData\\Roaming\\nltk_data...\n",
      "[nltk_data]   Package stopwords is already up-to-date!\n",
      "[nltk_data] Downloading package punkt to C:\\Users\\Njabulo\n",
      "[nltk_data]     Magd\\AppData\\Roaming\\nltk_data...\n",
      "[nltk_data]   Package punkt is already up-to-date!\n"
     ]
    }
   ],
   "source": [
    "import networkx as nx\n",
    "import matplotlib.pyplot as plt\n",
    "from sklearn.feature_extraction.text import TfidfVectorizer, CountVectorizer\n",
    "\n",
    "import pandas as pd\n",
    "import seaborn as sns\n",
    "import numpy as np\n",
    "import ast\n",
    "from wordcloud import WordCloud\n",
    "\n",
    "import CleanTweets as ct"
   ]
  },
  {
   "cell_type": "code",
   "execution_count": 2,
   "id": "7cbb3dcb-13fd-4b0b-b21b-5c86ff2ccfd2",
   "metadata": {},
   "outputs": [],
   "source": [
    "import plotly.express as px"
   ]
  },
  {
   "cell_type": "code",
   "execution_count": 73,
   "id": "8f5ca983-4dc7-44bc-8db9-c896fd4c5e72",
   "metadata": {},
   "outputs": [],
   "source": [
    "def draw_bubble(df, x_name, y_name, name, size_,  weight = 60, \n",
    "\n",
    "                height=1200, marker_size=None, xaxis= \"influencer\"\n",
    "\n",
    "               , yaxis = 'retweet'):\n",
    "\n",
    "    \"\"\"df: output of agg_multi_col_bubbles\"\"\"\n",
    "\n",
    "    \"\"\" \n",
    "\n",
    "    Weighted net sentiment per topic (Engagement) vs net sentiment per topic.\n",
    "\n",
    "    Size of bubble is a measure of tweet contribution. \n",
    "\n",
    "    \n",
    "\n",
    "    \n",
    "\n",
    "    Parameters:\n",
    "\n",
    "    df\n",
    "\n",
    "    x_name='net_sent',  y_name='w_sent' \n",
    "\n",
    "    net_sentiment(float): Net sentiment per tweet (Previously calculated)\n",
    "\n",
    "    weighted_sentiment(float): Weighted sentiment per tweet (based on influencer score and retweet count,\n",
    "\n",
    "                                                             determined by agg_multi_col_bubbles) \n",
    "\n",
    "                                                             \n",
    "\n",
    " \n",
    "\n",
    "    Returns:\n",
    "\n",
    "    Bubble (scatter) graph showing weighted net sentiment (Possible Engagement) vs Net Sentiment per topic.    \n",
    "\n",
    "    \"\"\"\n",
    "\n",
    "  \n",
    "\n",
    "    fig = px.scatter(df, x=x_name, y=y_name,size=size_,\n",
    "\n",
    "        hover_name=name, size_max=weight, width=1000, height=height,\n",
    "\n",
    "                     color_discrete_sequence=px.colors.qualitative.Plotly +\n",
    "\n",
    "                                             px.colors.qualitative.D3+\n",
    "\n",
    "                                             px.colors.qualitative.G10+\n",
    "\n",
    "                                             px.colors.qualitative.T10+\n",
    "\n",
    "                                             px.colors.qualitative.Pastel,\n",
    "\n",
    "        labels={\n",
    "\n",
    "                     x_name: xaxis,\n",
    "\n",
    "                     y_name: yaxis,\n",
    "\n",
    "                 },log_y=False)\n",
    "\n",
    "    #fig.update_layout(showlegend=False)\n",
    "\n",
    "    \n",
    "\n",
    "    fig.update_layout(legend=dict(\n",
    "\n",
    "        orientation=\"h\",\n",
    "\n",
    "        yanchor=\"bottom\",\n",
    "\n",
    "        y=1.02,\n",
    "\n",
    "        xanchor=\"right\",\n",
    "\n",
    "        x=1\n",
    "\n",
    "    ))\n",
    "\n",
    "    fig.update_layout(\n",
    "\n",
    "                yaxis=dict(\n",
    "\n",
    "                    title=yaxis,\n",
    "\n",
    "                    titlefont_size=16,\n",
    "\n",
    "                    tickfont_size=14,\n",
    "\n",
    "                ))\n",
    "\n",
    "    if marker_size is not None:\n",
    "\n",
    "        fig.update_traces(mode='markers', marker_size=marker_size)\n",
    "\n",
    "    else:\n",
    "\n",
    "        fig.update_yaxes(showticklabels=False)\n",
    "\n",
    "        fig.update_layout(legend_title_text='Cluster')\n",
    "\n",
    "    fig.update_xaxes()\n",
    "    \n",
    "    fig.write_html(\"../viz_images/topInfluencers_tendaguru.html\")\n",
    "    \n",
    "\n",
    "    fig.show()"
   ]
  },
  {
   "cell_type": "code",
   "execution_count": 8,
   "id": "25cce482-ca94-451a-a64d-9fca0f14c283",
   "metadata": {},
   "outputs": [],
   "source": [
    "tendaguru = pd.read_json('../data/tendaguru.json', lines=True)"
   ]
  },
  {
   "cell_type": "code",
   "execution_count": 9,
   "id": "ffeca352-fcbc-4eb1-be2c-37b73e4b3d08",
   "metadata": {},
   "outputs": [
    {
     "name": "stdout",
     "output_type": "stream",
     "text": [
      "time taken to clean tweets: 6.54787802696228s. Use the [clean_tweet] column to perform your analysis/modeling on\n"
     ]
    }
   ],
   "source": [
    "tendaguru_clean = ct.clean_tweets(tendaguru,content='content',col_name='clean_tweet',\n",
    "                general_clean=True,lemma=True,stem=False,remove_tag=True,remove_mention=True,\n",
    "                remove_emoji=False, remove_stopword=True,min_length=2, untokenized_return=True\n",
    "                )"
   ]
  },
  {
   "cell_type": "code",
   "execution_count": 6,
   "id": "95a2bd5a-38a4-4109-a67c-06f8fc81c374",
   "metadata": {},
   "outputs": [],
   "source": [
    "# tendaguru_clean.to_csv('tendaguru_clean.csv')"
   ]
  },
  {
   "cell_type": "code",
   "execution_count": 3,
   "id": "69a134ec-80f6-4f33-8dce-8b1dfcd6b17d",
   "metadata": {},
   "outputs": [],
   "source": [
    "# tendaguru_clean = pd.read_csv('../data/tendaguru_clean.csv')"
   ]
  },
  {
   "cell_type": "markdown",
   "id": "8d071cdb-4c50-4d24-8785-201bd2cfc612",
   "metadata": {},
   "source": [
    "## Time/volume tweets - line chart"
   ]
  },
  {
   "cell_type": "code",
   "execution_count": 13,
   "id": "bdf046dd-7d4d-4357-9aa0-ee9e7797da0a",
   "metadata": {},
   "outputs": [
    {
     "data": {
      "text/plain": [
       "Index(['_type', 'url', 'date', 'content', 'renderedContent', 'id', 'user',\n",
       "       'replyCount', 'retweetCount', 'likeCount', 'quoteCount',\n",
       "       'conversationId', 'lang', 'source', 'sourceUrl', 'sourceLabel',\n",
       "       'outlinks', 'tcooutlinks', 'media', 'retweetedTweet', 'quotedTweet',\n",
       "       'inReplyToTweetId', 'inReplyToUser', 'mentionedUsers', 'coordinates',\n",
       "       'place', 'hashtags', 'cashtags', 'clean_tweet'],\n",
       "      dtype='object')"
      ]
     },
     "execution_count": 13,
     "metadata": {},
     "output_type": "execute_result"
    }
   ],
   "source": [
    "tendaguru_clean.columns"
   ]
  },
  {
   "cell_type": "code",
   "execution_count": 14,
   "id": "873a84dd-f528-48e5-8538-bdeec14b3220",
   "metadata": {},
   "outputs": [
    {
     "data": {
      "text/plain": [
       "0     2021-07-06 09:12:17+00:00\n",
       "1     2021-07-05 20:04:59+00:00\n",
       "2     2021-07-04 08:37:17+00:00\n",
       "3     2021-07-03 06:44:43+00:00\n",
       "4     2021-07-02 17:21:46+00:00\n",
       "                 ...           \n",
       "336   2016-04-07 14:07:31+00:00\n",
       "337   2016-04-04 17:22:35+00:00\n",
       "338   2016-03-29 07:50:52+00:00\n",
       "339   2016-03-29 07:45:18+00:00\n",
       "340   2016-02-04 07:45:54+00:00\n",
       "Name: date, Length: 341, dtype: datetime64[ns, UTC]"
      ]
     },
     "execution_count": 14,
     "metadata": {},
     "output_type": "execute_result"
    }
   ],
   "source": [
    "tendaguru_clean.date"
   ]
  },
  {
   "cell_type": "code",
   "execution_count": 15,
   "id": "4513be5d-9c91-41e4-9855-8a2b5c8ebf6a",
   "metadata": {},
   "outputs": [
    {
     "data": {
      "text/plain": [
       "2021"
      ]
     },
     "execution_count": 15,
     "metadata": {},
     "output_type": "execute_result"
    }
   ],
   "source": [
    "tendaguru_clean.date[0].year"
   ]
  },
  {
   "cell_type": "code",
   "execution_count": 16,
   "id": "0561f1ed-314a-4194-bcce-9cee989f91bf",
   "metadata": {},
   "outputs": [],
   "source": [
    "tendaguru_clean['year'] = tendaguru_clean['date'].apply(lambda x: x.year)"
   ]
  },
  {
   "cell_type": "code",
   "execution_count": 17,
   "id": "13630efa-2f64-4c72-8d5c-a764dd404a3c",
   "metadata": {},
   "outputs": [
    {
     "data": {
      "text/plain": [
       "131    2020\n",
       "331    2016\n",
       "129    2020\n",
       "92     2020\n",
       "212    2018\n",
       "Name: year, dtype: int64"
      ]
     },
     "execution_count": 17,
     "metadata": {},
     "output_type": "execute_result"
    }
   ],
   "source": [
    "tendaguru_clean['year'].sample(5)"
   ]
  },
  {
   "cell_type": "markdown",
   "id": "44c565dd-412a-4c6a-aa39-d3cbbeb82913",
   "metadata": {},
   "source": [
    "## Time/volume tweets - line chart"
   ]
  },
  {
   "cell_type": "code",
   "execution_count": 18,
   "id": "7affa668-03a8-4c45-96be-7dd9ffa5bf68",
   "metadata": {},
   "outputs": [],
   "source": [
    "tweetByYear = tendaguru_clean.groupby('year').count().reset_index()"
   ]
  },
  {
   "cell_type": "code",
   "execution_count": 19,
   "id": "8e225891-1d6f-43d0-be96-64a14b33ae29",
   "metadata": {},
   "outputs": [
    {
     "data": {
      "text/html": [
       "<div>\n",
       "<style scoped>\n",
       "    .dataframe tbody tr th:only-of-type {\n",
       "        vertical-align: middle;\n",
       "    }\n",
       "\n",
       "    .dataframe tbody tr th {\n",
       "        vertical-align: top;\n",
       "    }\n",
       "\n",
       "    .dataframe thead th {\n",
       "        text-align: right;\n",
       "    }\n",
       "</style>\n",
       "<table border=\"1\" class=\"dataframe\">\n",
       "  <thead>\n",
       "    <tr style=\"text-align: right;\">\n",
       "      <th></th>\n",
       "      <th>year</th>\n",
       "      <th>_type</th>\n",
       "      <th>url</th>\n",
       "      <th>date</th>\n",
       "      <th>content</th>\n",
       "      <th>renderedContent</th>\n",
       "      <th>id</th>\n",
       "      <th>user</th>\n",
       "      <th>replyCount</th>\n",
       "      <th>retweetCount</th>\n",
       "      <th>...</th>\n",
       "      <th>retweetedTweet</th>\n",
       "      <th>quotedTweet</th>\n",
       "      <th>inReplyToTweetId</th>\n",
       "      <th>inReplyToUser</th>\n",
       "      <th>mentionedUsers</th>\n",
       "      <th>coordinates</th>\n",
       "      <th>place</th>\n",
       "      <th>hashtags</th>\n",
       "      <th>cashtags</th>\n",
       "      <th>clean_tweet</th>\n",
       "    </tr>\n",
       "  </thead>\n",
       "  <tbody>\n",
       "    <tr>\n",
       "      <th>0</th>\n",
       "      <td>2016</td>\n",
       "      <td>27</td>\n",
       "      <td>27</td>\n",
       "      <td>27</td>\n",
       "      <td>27</td>\n",
       "      <td>27</td>\n",
       "      <td>27</td>\n",
       "      <td>27</td>\n",
       "      <td>27</td>\n",
       "      <td>27</td>\n",
       "      <td>...</td>\n",
       "      <td>0</td>\n",
       "      <td>1</td>\n",
       "      <td>4</td>\n",
       "      <td>4</td>\n",
       "      <td>6</td>\n",
       "      <td>0</td>\n",
       "      <td>0</td>\n",
       "      <td>12</td>\n",
       "      <td>0</td>\n",
       "      <td>27</td>\n",
       "    </tr>\n",
       "    <tr>\n",
       "      <th>1</th>\n",
       "      <td>2017</td>\n",
       "      <td>52</td>\n",
       "      <td>52</td>\n",
       "      <td>52</td>\n",
       "      <td>52</td>\n",
       "      <td>52</td>\n",
       "      <td>52</td>\n",
       "      <td>52</td>\n",
       "      <td>52</td>\n",
       "      <td>52</td>\n",
       "      <td>...</td>\n",
       "      <td>0</td>\n",
       "      <td>1</td>\n",
       "      <td>7</td>\n",
       "      <td>7</td>\n",
       "      <td>21</td>\n",
       "      <td>0</td>\n",
       "      <td>0</td>\n",
       "      <td>25</td>\n",
       "      <td>0</td>\n",
       "      <td>52</td>\n",
       "    </tr>\n",
       "    <tr>\n",
       "      <th>2</th>\n",
       "      <td>2018</td>\n",
       "      <td>68</td>\n",
       "      <td>68</td>\n",
       "      <td>68</td>\n",
       "      <td>68</td>\n",
       "      <td>68</td>\n",
       "      <td>68</td>\n",
       "      <td>68</td>\n",
       "      <td>68</td>\n",
       "      <td>68</td>\n",
       "      <td>...</td>\n",
       "      <td>0</td>\n",
       "      <td>5</td>\n",
       "      <td>12</td>\n",
       "      <td>12</td>\n",
       "      <td>14</td>\n",
       "      <td>1</td>\n",
       "      <td>1</td>\n",
       "      <td>30</td>\n",
       "      <td>0</td>\n",
       "      <td>68</td>\n",
       "    </tr>\n",
       "    <tr>\n",
       "      <th>3</th>\n",
       "      <td>2019</td>\n",
       "      <td>53</td>\n",
       "      <td>53</td>\n",
       "      <td>53</td>\n",
       "      <td>53</td>\n",
       "      <td>53</td>\n",
       "      <td>53</td>\n",
       "      <td>53</td>\n",
       "      <td>53</td>\n",
       "      <td>53</td>\n",
       "      <td>...</td>\n",
       "      <td>0</td>\n",
       "      <td>4</td>\n",
       "      <td>10</td>\n",
       "      <td>10</td>\n",
       "      <td>23</td>\n",
       "      <td>3</td>\n",
       "      <td>3</td>\n",
       "      <td>18</td>\n",
       "      <td>0</td>\n",
       "      <td>53</td>\n",
       "    </tr>\n",
       "    <tr>\n",
       "      <th>4</th>\n",
       "      <td>2020</td>\n",
       "      <td>65</td>\n",
       "      <td>65</td>\n",
       "      <td>65</td>\n",
       "      <td>65</td>\n",
       "      <td>65</td>\n",
       "      <td>65</td>\n",
       "      <td>65</td>\n",
       "      <td>65</td>\n",
       "      <td>65</td>\n",
       "      <td>...</td>\n",
       "      <td>0</td>\n",
       "      <td>4</td>\n",
       "      <td>25</td>\n",
       "      <td>25</td>\n",
       "      <td>27</td>\n",
       "      <td>2</td>\n",
       "      <td>2</td>\n",
       "      <td>15</td>\n",
       "      <td>0</td>\n",
       "      <td>65</td>\n",
       "    </tr>\n",
       "    <tr>\n",
       "      <th>5</th>\n",
       "      <td>2021</td>\n",
       "      <td>76</td>\n",
       "      <td>76</td>\n",
       "      <td>76</td>\n",
       "      <td>76</td>\n",
       "      <td>76</td>\n",
       "      <td>76</td>\n",
       "      <td>76</td>\n",
       "      <td>76</td>\n",
       "      <td>76</td>\n",
       "      <td>...</td>\n",
       "      <td>0</td>\n",
       "      <td>2</td>\n",
       "      <td>53</td>\n",
       "      <td>53</td>\n",
       "      <td>40</td>\n",
       "      <td>0</td>\n",
       "      <td>0</td>\n",
       "      <td>6</td>\n",
       "      <td>0</td>\n",
       "      <td>76</td>\n",
       "    </tr>\n",
       "  </tbody>\n",
       "</table>\n",
       "<p>6 rows × 30 columns</p>\n",
       "</div>"
      ],
      "text/plain": [
       "   year  _type  url  date  content  renderedContent  id  user  replyCount  \\\n",
       "0  2016     27   27    27       27               27  27    27          27   \n",
       "1  2017     52   52    52       52               52  52    52          52   \n",
       "2  2018     68   68    68       68               68  68    68          68   \n",
       "3  2019     53   53    53       53               53  53    53          53   \n",
       "4  2020     65   65    65       65               65  65    65          65   \n",
       "5  2021     76   76    76       76               76  76    76          76   \n",
       "\n",
       "   retweetCount  ...  retweetedTweet  quotedTweet  inReplyToTweetId  \\\n",
       "0            27  ...               0            1                 4   \n",
       "1            52  ...               0            1                 7   \n",
       "2            68  ...               0            5                12   \n",
       "3            53  ...               0            4                10   \n",
       "4            65  ...               0            4                25   \n",
       "5            76  ...               0            2                53   \n",
       "\n",
       "   inReplyToUser  mentionedUsers  coordinates  place  hashtags  cashtags  \\\n",
       "0              4               6            0      0        12         0   \n",
       "1              7              21            0      0        25         0   \n",
       "2             12              14            1      1        30         0   \n",
       "3             10              23            3      3        18         0   \n",
       "4             25              27            2      2        15         0   \n",
       "5             53              40            0      0         6         0   \n",
       "\n",
       "   clean_tweet  \n",
       "0           27  \n",
       "1           52  \n",
       "2           68  \n",
       "3           53  \n",
       "4           65  \n",
       "5           76  \n",
       "\n",
       "[6 rows x 30 columns]"
      ]
     },
     "execution_count": 19,
     "metadata": {},
     "output_type": "execute_result"
    }
   ],
   "source": [
    "tweetByYear"
   ]
  },
  {
   "cell_type": "code",
   "execution_count": 22,
   "id": "cd1126e6-8093-4505-a708-b0d3515d8215",
   "metadata": {},
   "outputs": [
    {
     "data": {
      "image/png": "[encoded data removed]",
      "text/plain": [
       "<Figure size 1224x288 with 1 Axes>"
      ]
     },
     "metadata": {
      "needs_background": "light"
     },
     "output_type": "display_data"
    }
   ],
   "source": [
    "plt.figure(figsize=[17,4])\n",
    "plt.xticks(rotation=45)\n",
    "plt.title('Count of Twitter Conversations Per Year Scraped from Google Scholar: Benin Bronzes')\n",
    "g = sns.barplot(data=tweetByYear, \n",
    "             x=\"year\", \n",
    "             y=\"content\") \n",
    "ax=g\n",
    "for p in ax.patches:\n",
    "    ax.annotate(\"%.0f\" % p.get_height(), (p.get_x() + p.get_width() / 2., p.get_height()),\n",
    "                ha='center', va='center', fontsize=8, color='gray', xytext=(0, 5),\n",
    "                textcoords='offset points')\n",
    "_ = ax.set_ylim(0,200) #To make space for the annotations62222\n",
    "plt.savefig('TwitterConvCount_tendaguru')"
   ]
  },
  {
   "cell_type": "markdown",
   "id": "2c502664-f829-4cac-b506-7b6454013b7b",
   "metadata": {},
   "source": [
    "## Keywords - Network diagram"
   ]
  },
  {
   "cell_type": "code",
   "execution_count": 23,
   "id": "17da3ffc-0cae-48af-b408-f1022f816114",
   "metadata": {},
   "outputs": [
    {
     "data": {
      "text/html": [
       "<div>\n",
       "<style scoped>\n",
       "    .dataframe tbody tr th:only-of-type {\n",
       "        vertical-align: middle;\n",
       "    }\n",
       "\n",
       "    .dataframe tbody tr th {\n",
       "        vertical-align: top;\n",
       "    }\n",
       "\n",
       "    .dataframe thead th {\n",
       "        text-align: right;\n",
       "    }\n",
       "</style>\n",
       "<table border=\"1\" class=\"dataframe\">\n",
       "  <thead>\n",
       "    <tr style=\"text-align: right;\">\n",
       "      <th></th>\n",
       "      <th>_type</th>\n",
       "      <th>url</th>\n",
       "      <th>date</th>\n",
       "      <th>content</th>\n",
       "      <th>renderedContent</th>\n",
       "      <th>id</th>\n",
       "      <th>user</th>\n",
       "      <th>replyCount</th>\n",
       "      <th>retweetCount</th>\n",
       "      <th>likeCount</th>\n",
       "      <th>...</th>\n",
       "      <th>quotedTweet</th>\n",
       "      <th>inReplyToTweetId</th>\n",
       "      <th>inReplyToUser</th>\n",
       "      <th>mentionedUsers</th>\n",
       "      <th>coordinates</th>\n",
       "      <th>place</th>\n",
       "      <th>hashtags</th>\n",
       "      <th>cashtags</th>\n",
       "      <th>clean_tweet</th>\n",
       "      <th>year</th>\n",
       "    </tr>\n",
       "  </thead>\n",
       "  <tbody>\n",
       "  </tbody>\n",
       "</table>\n",
       "<p>0 rows × 30 columns</p>\n",
       "</div>"
      ],
      "text/plain": [
       "Empty DataFrame\n",
       "Columns: [_type, url, date, content, renderedContent, id, user, replyCount, retweetCount, likeCount, quoteCount, conversationId, lang, source, sourceUrl, sourceLabel, outlinks, tcooutlinks, media, retweetedTweet, quotedTweet, inReplyToTweetId, inReplyToUser, mentionedUsers, coordinates, place, hashtags, cashtags, clean_tweet, year]\n",
       "Index: []\n",
       "\n",
       "[0 rows x 30 columns]"
      ]
     },
     "execution_count": 23,
     "metadata": {},
     "output_type": "execute_result"
    }
   ],
   "source": [
    "tendaguru_clean[tendaguru_clean.clean_tweet == None]"
   ]
  },
  {
   "cell_type": "code",
   "execution_count": 24,
   "id": "33a16307-5ec5-40a7-a6a5-9e1d3f1bfd94",
   "metadata": {},
   "outputs": [
    {
     "data": {
      "image/png": "[encoded data removed]",
      "text/plain": [
       "<Figure size 1440x720 with 1 Axes>"
      ]
     },
     "metadata": {},
     "output_type": "display_data"
    }
   ],
   "source": [
    "def network_diagram(content_col, filt_val):\n",
    "    \"\"\"Draws a network diagram from a given text column\n",
    "    \n",
    "        Args:\n",
    "            :param content_col: Series of strings, column we wish to get a network of.\n",
    "            :param filt_val: integer, higher numbers filters only on words that have the \n",
    "            strongest connection\n",
    "    \"\"\"\n",
    "    \n",
    "    # You can define your own parameters\n",
    "    cv = CountVectorizer(ngram_range=(1,1), stop_words = 'english') \n",
    "    X = cv.fit_transform(content_col.values.astype('U'))\n",
    "\n",
    "    # This is the matrix manipulation step\n",
    "    Xc = (X.T * X) \n",
    "\n",
    "    # This are the entity names (i.e. keywords)\n",
    "    names = cv.get_feature_names() \n",
    "    \n",
    "    # create dataframe of similar names\n",
    "    df_co = pd.DataFrame(data = Xc.toarray(), columns = names, index = names)\n",
    "\n",
    "    # put df in workable format\n",
    "    a = df_co.stack().reset_index()\n",
    "    a.columns = ['var1', 'var2','value']\n",
    "\n",
    "    a_filtered=a.loc[ (a['value'] > filt_val) & (a['var1'] != a['var2']) ]\n",
    "\n",
    "\n",
    "    # Build your graph\n",
    "    plt.figure(figsize=(20,10))\n",
    "\n",
    "    G=nx.from_pandas_edgelist(a_filtered, 'var1', 'var2')\n",
    "\n",
    "    # Plot the network\n",
    "    nx.draw(G, with_labels=True, node_color='orange', node_size=50, edge_color='green', linewidths=2, font_size=15)\n",
    "\n",
    "network_diagram(tendaguru_clean.clean_tweet, 10)\n",
    "plt.savefig('NetworkDiagram_tendaguru.png')"
   ]
  },
  {
   "cell_type": "markdown",
   "id": "7e3433b8-aa1d-4bd5-a9da-8f20d6c9a099",
   "metadata": {},
   "source": [
    "## People vs mentions - CSV list, bar chart"
   ]
  },
  {
   "cell_type": "code",
   "execution_count": 25,
   "id": "a6240e8e-cecc-4426-a3fd-e3c35882c979",
   "metadata": {},
   "outputs": [],
   "source": [
    "import json"
   ]
  },
  {
   "cell_type": "code",
   "execution_count": 26,
   "id": "a1fc3e2d-ce6e-47bb-958d-2287dac5b83e",
   "metadata": {},
   "outputs": [
    {
     "data": {
      "text/html": [
       "<div>\n",
       "<style scoped>\n",
       "    .dataframe tbody tr th:only-of-type {\n",
       "        vertical-align: middle;\n",
       "    }\n",
       "\n",
       "    .dataframe tbody tr th {\n",
       "        vertical-align: top;\n",
       "    }\n",
       "\n",
       "    .dataframe thead th {\n",
       "        text-align: right;\n",
       "    }\n",
       "</style>\n",
       "<table border=\"1\" class=\"dataframe\">\n",
       "  <thead>\n",
       "    <tr style=\"text-align: right;\">\n",
       "      <th></th>\n",
       "      <th>user</th>\n",
       "      <th>mentionedUsers</th>\n",
       "    </tr>\n",
       "  </thead>\n",
       "  <tbody>\n",
       "    <tr>\n",
       "      <th>33</th>\n",
       "      <td>{'_type': 'snscrape.modules.twitter.User', 'us...</td>\n",
       "      <td>[{'_type': 'snscrape.modules.twitter.User', 'u...</td>\n",
       "    </tr>\n",
       "    <tr>\n",
       "      <th>2</th>\n",
       "      <td>{'_type': 'snscrape.modules.twitter.User', 'us...</td>\n",
       "      <td>None</td>\n",
       "    </tr>\n",
       "    <tr>\n",
       "      <th>291</th>\n",
       "      <td>{'_type': 'snscrape.modules.twitter.User', 'us...</td>\n",
       "      <td>None</td>\n",
       "    </tr>\n",
       "    <tr>\n",
       "      <th>146</th>\n",
       "      <td>{'_type': 'snscrape.modules.twitter.User', 'us...</td>\n",
       "      <td>[{'_type': 'snscrape.modules.twitter.User', 'u...</td>\n",
       "    </tr>\n",
       "    <tr>\n",
       "      <th>215</th>\n",
       "      <td>{'_type': 'snscrape.modules.twitter.User', 'us...</td>\n",
       "      <td>None</td>\n",
       "    </tr>\n",
       "    <tr>\n",
       "      <th>73</th>\n",
       "      <td>{'_type': 'snscrape.modules.twitter.User', 'us...</td>\n",
       "      <td>[{'_type': 'snscrape.modules.twitter.User', 'u...</td>\n",
       "    </tr>\n",
       "    <tr>\n",
       "      <th>194</th>\n",
       "      <td>{'_type': 'snscrape.modules.twitter.User', 'us...</td>\n",
       "      <td>None</td>\n",
       "    </tr>\n",
       "    <tr>\n",
       "      <th>132</th>\n",
       "      <td>{'_type': 'snscrape.modules.twitter.User', 'us...</td>\n",
       "      <td>None</td>\n",
       "    </tr>\n",
       "    <tr>\n",
       "      <th>3</th>\n",
       "      <td>{'_type': 'snscrape.modules.twitter.User', 'us...</td>\n",
       "      <td>[{'_type': 'snscrape.modules.twitter.User', 'u...</td>\n",
       "    </tr>\n",
       "    <tr>\n",
       "      <th>212</th>\n",
       "      <td>{'_type': 'snscrape.modules.twitter.User', 'us...</td>\n",
       "      <td>None</td>\n",
       "    </tr>\n",
       "  </tbody>\n",
       "</table>\n",
       "</div>"
      ],
      "text/plain": [
       "                                                  user  \\\n",
       "33   {'_type': 'snscrape.modules.twitter.User', 'us...   \n",
       "2    {'_type': 'snscrape.modules.twitter.User', 'us...   \n",
       "291  {'_type': 'snscrape.modules.twitter.User', 'us...   \n",
       "146  {'_type': 'snscrape.modules.twitter.User', 'us...   \n",
       "215  {'_type': 'snscrape.modules.twitter.User', 'us...   \n",
       "73   {'_type': 'snscrape.modules.twitter.User', 'us...   \n",
       "194  {'_type': 'snscrape.modules.twitter.User', 'us...   \n",
       "132  {'_type': 'snscrape.modules.twitter.User', 'us...   \n",
       "3    {'_type': 'snscrape.modules.twitter.User', 'us...   \n",
       "212  {'_type': 'snscrape.modules.twitter.User', 'us...   \n",
       "\n",
       "                                        mentionedUsers  \n",
       "33   [{'_type': 'snscrape.modules.twitter.User', 'u...  \n",
       "2                                                 None  \n",
       "291                                               None  \n",
       "146  [{'_type': 'snscrape.modules.twitter.User', 'u...  \n",
       "215                                               None  \n",
       "73   [{'_type': 'snscrape.modules.twitter.User', 'u...  \n",
       "194                                               None  \n",
       "132                                               None  \n",
       "3    [{'_type': 'snscrape.modules.twitter.User', 'u...  \n",
       "212                                               None  "
      ]
     },
     "execution_count": 26,
     "metadata": {},
     "output_type": "execute_result"
    }
   ],
   "source": [
    "tendaguru_clean[['user','mentionedUsers']].sample(10)"
   ]
  },
  {
   "cell_type": "code",
   "execution_count": 61,
   "id": "cb81ec4f-c648-4db1-9735-2d1d3221c793",
   "metadata": {},
   "outputs": [],
   "source": [
    "def mentions(mentionedUsers):\n",
    "    mentions = []\n",
    "    try:\n",
    "        mentions = []\n",
    "        for d in mentionedUsers:\n",
    "            mentions.append(d['username'])\n",
    "    except TypeError:\n",
    "        pass\n",
    "    return mentions\n",
    "    "
   ]
  },
  {
   "cell_type": "code",
   "execution_count": 28,
   "id": "122fdc71-8a12-4262-a364-b7fa40a889b6",
   "metadata": {},
   "outputs": [],
   "source": [
    "pd.set_option('display.max_columns', None)  "
   ]
  },
  {
   "cell_type": "code",
   "execution_count": 29,
   "id": "8fe1f37b-6e8d-44c3-a136-16f554d82d18",
   "metadata": {},
   "outputs": [
    {
     "name": "stderr",
     "output_type": "stream",
     "text": [
      "<ipython-input-29-0891b765a168>:1: FutureWarning: Passing a negative integer is deprecated in version 1.0 and will not be supported in future version. Instead, use None to not limit the column width.\n",
      "  pd.set_option('display.max_colwidth', -1)\n"
     ]
    }
   ],
   "source": [
    "pd.set_option('display.max_colwidth', -1)"
   ]
  },
  {
   "cell_type": "code",
   "execution_count": 59,
   "id": "4462e085-6057-4ae2-b223-3dc8f68b225e",
   "metadata": {},
   "outputs": [],
   "source": [
    "tendaguru_clean['username'] = tendaguru_clean.user.apply(lambda x: x['username'])"
   ]
  },
  {
   "cell_type": "code",
   "execution_count": 62,
   "id": "86093cf0-eaf3-42ff-a0e4-6d385eea19e8",
   "metadata": {},
   "outputs": [],
   "source": [
    "tendaguru_clean['mentionedUsers'] = tendaguru_clean.mentionedUsers.apply(lambda x: mentions(x))"
   ]
  },
  {
   "cell_type": "code",
   "execution_count": 63,
   "id": "64f436fa-94fe-45ac-80d6-ca433178edec",
   "metadata": {},
   "outputs": [],
   "source": [
    "tendaguru_clean[['username', 'mentionedUsers']].to_csv('../data/peopleVmentions_tendaguru.csv')"
   ]
  },
  {
   "cell_type": "code",
   "execution_count": 33,
   "id": "6bf9f9c4-9df4-4c18-a567-caed0198950a",
   "metadata": {},
   "outputs": [],
   "source": [
    "from collections import Counter"
   ]
  },
  {
   "cell_type": "code",
   "execution_count": 34,
   "id": "21a2d2ab-4d25-490e-ab76-db235669a918",
   "metadata": {},
   "outputs": [
    {
     "data": {
      "text/plain": [
       "['yoofilos',\n",
       " 'CeraMtns',\n",
       " 'CeraMtns',\n",
       " 'TyrannosaurTJ',\n",
       " 'EDGEinthewild',\n",
       " 'MannThisguy',\n",
       " 'greasydirtgrub',\n",
       " 'noticebodi',\n",
       " 'Mgossi',\n",
       " 'MannThisguy']"
      ]
     },
     "execution_count": 34,
     "metadata": {},
     "output_type": "execute_result"
    }
   ],
   "source": [
    "mentionList = list(tendaguru_clean['mentionedUsers'])\n",
    "flat_list = [item for sublist in mentionList for item in sublist]\n",
    "flat_list[:10]"
   ]
  },
  {
   "cell_type": "code",
   "execution_count": 35,
   "id": "5793dedf-04fc-4a39-99ea-ff8536d27469",
   "metadata": {},
   "outputs": [
    {
     "data": {
      "text/plain": [
       "{'mfnberlin': 25,\n",
       " 'CeraMtns': 7,\n",
       " 'SerpenIllus': 5,\n",
       " 'JCRev4': 4,\n",
       " 'TomHoltzPaleo': 4,\n",
       " 'LikesPterosaurs': 4,\n",
       " 'MannThisguy': 3,\n",
       " 'P2N2222A': 3,\n",
       " 'YouTube': 3,\n",
       " 'king_lameck': 2,\n",
       " 'BrianEngh_Art': 2,\n",
       " 'TanzaniaNetwork': 2,\n",
       " 'SZ': 2,\n",
       " 'King_Edmarka': 2,\n",
       " 'ArminReindl': 2,\n",
       " 'TTBTanzania': 2,\n",
       " 'HKigwangalla': 2,\n",
       " 'dinodadreviews': 2,\n",
       " 'MarkoPalaeo': 2,\n",
       " 'bajabiri': 2}"
      ]
     },
     "execution_count": 35,
     "metadata": {},
     "output_type": "execute_result"
    }
   ],
   "source": [
    "most_mentioned = dict(Counter(flat_list).most_common(20))\n",
    "most_mentioned"
   ]
  },
  {
   "cell_type": "code",
   "execution_count": 37,
   "id": "5bfe3600-84b5-44cd-b948-4f7380fbadcf",
   "metadata": {},
   "outputs": [
    {
     "data": {
      "image/png": "[encoded data removed]",
      "text/plain": [
       "<Figure size 1224x288 with 1 Axes>"
      ]
     },
     "metadata": {
      "needs_background": "light"
     },
     "output_type": "display_data"
    }
   ],
   "source": [
    "plt.figure(figsize=[17,4])\n",
    "plt.xticks(rotation=45)\n",
    "plt.title('Most mentioned users')\n",
    "g = plt.bar(most_mentioned.keys(), most_mentioned.values())\n",
    "ax=g\n",
    "plt.savefig('MostMentioned_tendaguru.png')"
   ]
  },
  {
   "cell_type": "markdown",
   "id": "0fc43bb2-721c-4447-8fbb-e535ee8bc02a",
   "metadata": {
    "tags": []
   },
   "source": [
    "## Geography - bar chart"
   ]
  },
  {
   "cell_type": "code",
   "execution_count": 4,
   "id": "b6a355aa-1dd7-49b8-90ee-6acb8003589b",
   "metadata": {},
   "outputs": [
    {
     "data": {
      "text/plain": [
       "Index(['Unnamed: 0', '_type', 'url', 'date', 'content', 'renderedContent',\n",
       "       'id', 'user', 'replyCount', 'retweetCount', 'likeCount', 'quoteCount',\n",
       "       'conversationId', 'lang', 'source', 'sourceUrl', 'sourceLabel',\n",
       "       'outlinks', 'tcooutlinks', 'media', 'retweetedTweet', 'quotedTweet',\n",
       "       'inReplyToTweetId', 'inReplyToUser', 'mentionedUsers', 'coordinates',\n",
       "       'place', 'hashtags', 'cashtags', 'clean_tweet'],\n",
       "      dtype='object')"
      ]
     },
     "execution_count": 4,
     "metadata": {},
     "output_type": "execute_result"
    }
   ],
   "source": [
    "tendaguru_clean.columns"
   ]
  },
  {
   "cell_type": "code",
   "execution_count": 5,
   "id": "641117ac-1f90-4ea8-a4a0-c96cb0086526",
   "metadata": {},
   "outputs": [
    {
     "data": {
      "text/plain": [
       "False"
      ]
     },
     "execution_count": 5,
     "metadata": {},
     "output_type": "execute_result"
    }
   ],
   "source": [
    "tendaguru_clean.coordinates is None"
   ]
  },
  {
   "cell_type": "code",
   "execution_count": 6,
   "id": "263e465e-0384-4d27-ab52-102cc4698b0e",
   "metadata": {},
   "outputs": [
    {
     "name": "stdout",
     "output_type": "stream",
     "text": [
      "(6, 30)\n",
      "(341, 30)\n"
     ]
    }
   ],
   "source": [
    "loc_bb = tendaguru_clean[tendaguru_clean.coordinates.isnull() == False]\n",
    "print(loc_bb.shape)\n",
    "print(tendaguru_clean.shape)"
   ]
  },
  {
   "cell_type": "markdown",
   "id": "69dad0e9-db69-4661-a238-4e581770ed8f",
   "metadata": {},
   "source": [
    "For now, we will substitute with a simple bar graph with information about the countries in our dataset."
   ]
  },
  {
   "cell_type": "code",
   "execution_count": 41,
   "id": "748dd685-e744-4c8a-8134-b8975cc660cd",
   "metadata": {},
   "outputs": [
    {
     "name": "stderr",
     "output_type": "stream",
     "text": [
      "<ipython-input-41-a2c327c26317>:1: SettingWithCopyWarning: \n",
      "A value is trying to be set on a copy of a slice from a DataFrame.\n",
      "Try using .loc[row_indexer,col_indexer] = value instead\n",
      "\n",
      "See the caveats in the documentation: https://pandas.pydata.org/pandas-docs/stable/user_guide/indexing.html#returning-a-view-versus-a-copy\n",
      "  loc_bb['long'] = loc_bb.coordinates.apply(lambda x:x['longitude'])\n",
      "<ipython-input-41-a2c327c26317>:2: SettingWithCopyWarning: \n",
      "A value is trying to be set on a copy of a slice from a DataFrame.\n",
      "Try using .loc[row_indexer,col_indexer] = value instead\n",
      "\n",
      "See the caveats in the documentation: https://pandas.pydata.org/pandas-docs/stable/user_guide/indexing.html#returning-a-view-versus-a-copy\n",
      "  loc_bb['lat'] = loc_bb.coordinates.apply(lambda x:x['latitude'])\n"
     ]
    }
   ],
   "source": [
    "loc_bb['long'] = loc_bb.coordinates.apply(lambda x:x['longitude'])\n",
    "loc_bb['lat'] = loc_bb.coordinates.apply(lambda x:x['latitude'])"
   ]
  },
  {
   "cell_type": "code",
   "execution_count": null,
   "id": "903659c9-b8c5-4e66-93a9-f3eecaa00b0c",
   "metadata": {},
   "outputs": [],
   "source": [
    "# import plotly.express as px\n",
    "\n",
    "# fig = px.choropleth(df, geojson=counties, locations='fips', color='unemp',\n",
    "#                            color_continuous_scale=\"Viridis\",\n",
    "#                            range_color=(0, 12),\n",
    "#                            scope=\"usa\",\n",
    "#                            labels={'unemp':'unemployment rate'}\n",
    "#                           )\n",
    "# fig.update_layout(margin={\"r\":0,\"t\":0,\"l\":0,\"b\":0})\n",
    "# fig.show()"
   ]
  },
  {
   "cell_type": "code",
   "execution_count": 10,
   "id": "477cee8f-05d1-4bc2-a295-8c27a43b284d",
   "metadata": {},
   "outputs": [],
   "source": [
    "tendaguru_clean['location'] = tendaguru_clean.user.apply(lambda x: x['location'])"
   ]
  },
  {
   "cell_type": "code",
   "execution_count": 11,
   "id": "b87a3234-9ed8-4e3f-85c1-fd322d016ab4",
   "metadata": {},
   "outputs": [
    {
     "data": {
      "text/plain": [
       "(255, 30)"
      ]
     },
     "execution_count": 11,
     "metadata": {},
     "output_type": "execute_result"
    }
   ],
   "source": [
    "has_loc = tendaguru_clean[tendaguru_clean.location != '']\n",
    "has_loc.shape"
   ]
  },
  {
   "cell_type": "code",
   "execution_count": 12,
   "id": "ea9323a6-1ccf-40eb-954c-0cdcef7c57d1",
   "metadata": {},
   "outputs": [
    {
     "name": "stderr",
     "output_type": "stream",
     "text": [
      "<ipython-input-12-6d46060bb0ea>:2: SettingWithCopyWarning: \n",
      "A value is trying to be set on a copy of a slice from a DataFrame.\n",
      "Try using .loc[row_indexer,col_indexer] = value instead\n",
      "\n",
      "See the caveats in the documentation: https://pandas.pydata.org/pandas-docs/stable/user_guide/indexing.html#returning-a-view-versus-a-copy\n",
      "  s1['country'] = s1.location.apply(lambda x: x.split(', ')[-1])\n",
      "<ipython-input-12-6d46060bb0ea>:3: SettingWithCopyWarning: \n",
      "A value is trying to be set on a copy of a slice from a DataFrame.\n",
      "Try using .loc[row_indexer,col_indexer] = value instead\n",
      "\n",
      "See the caveats in the documentation: https://pandas.pydata.org/pandas-docs/stable/user_guide/indexing.html#returning-a-view-versus-a-copy\n",
      "  s1['no_words'] = s1.country.apply(lambda x: len(x.split()))\n"
     ]
    },
    {
     "data": {
      "text/plain": [
       "(116, 32)"
      ]
     },
     "execution_count": 12,
     "metadata": {},
     "output_type": "execute_result"
    }
   ],
   "source": [
    "s1 = has_loc[has_loc.location.str.contains(',')]\n",
    "s1['country'] = s1.location.apply(lambda x: x.split(', ')[-1])\n",
    "s1['no_words'] = s1.country.apply(lambda x: len(x.split()))\n",
    "s1 = s1[s1.no_words == 1]\n",
    "s1.shape"
   ]
  },
  {
   "cell_type": "code",
   "execution_count": 14,
   "id": "52c45f74-dc6c-4bd6-ab66-a2184847a69c",
   "metadata": {},
   "outputs": [],
   "source": [
    "african_countries = [\"Algeria\",\n",
    "\"Angola\",\n",
    "\"Benin\",\n",
    "\"Botswana\",\n",
    "\"Burkina Faso\",\n",
    "\"Burundi\",\n",
    "\"Cabo Verde\",\n",
    "\"Cameroon\",\n",
    "\"Central African Republic (CAR)\",\n",
    "\"Chad\",\n",
    "\"Comoros\",\n",
    "\"Congo, Democratic Republic of the\",\n",
    "\"Congo, Republic of the\",\n",
    "\"Cote d'Ivoire\",\n",
    "\"Djibouti\",\n",
    "\"Egypt\",\n",
    "\"Equatorial Guinea\",\n",
    "\"Eritrea\",\n",
    "\"Eswatini (formerly Swaziland)\",\n",
    "\"Ethiopia\",\n",
    "\"Gabon\",\n",
    "\"Gambia\",\n",
    "\"Ghana\",\n",
    "\"Guinea\",\n",
    "\"Guinea-Bissau\",\n",
    "\"Kenya\",\n",
    "\"Lesotho\",\n",
    "\"Liberia\",\n",
    "\"Libya\",\n",
    "\"Madagascar\",\n",
    "\"Malawi\",\n",
    "\"Mali\",\n",
    "\"Mauritania\",\n",
    "\"Mauritius\",\n",
    "\"Morocco\",\n",
    "\"Mozambique\",\n",
    "\"Namibia\",\n",
    "\"Niger\",\n",
    "\"Nigeria\",\n",
    "\"Rwanda\",\n",
    "\"Sao Tome and Principe\",\n",
    "\"Senegal\",\n",
    "\"Seychelles\",\n",
    "\"Sierra Leone\",\n",
    "\"Somalia\",\n",
    "\"South Africa\",\n",
    "\"South Sudan\",\n",
    "\"Sudan\",\n",
    "\"Tanzania\",\n",
    "\"Togo\",\n",
    "\"Tunisia\",\n",
    "\"Uganda\",\n",
    "\"Zambia\",\n",
    "\"Zimbabwe\"]"
   ]
  },
  {
   "cell_type": "code",
   "execution_count": 15,
   "id": "4dd15019-dd2f-40ee-a964-c75e6bfc3593",
   "metadata": {},
   "outputs": [],
   "source": [
    "african_countries_lower = [x.lower() for x in african_countries]"
   ]
  },
  {
   "cell_type": "code",
   "execution_count": 16,
   "id": "1e31cf14-9619-46ca-80be-75356fe66df5",
   "metadata": {},
   "outputs": [],
   "source": [
    "s1['african_vs_non_african'] = s1.country.apply(lambda x: \"African\" if x.lower() in african_countries_lower else \"Non African\")"
   ]
  },
  {
   "cell_type": "code",
   "execution_count": 21,
   "id": "28b529ba-79a3-4215-b1ea-2cda611603fc",
   "metadata": {},
   "outputs": [],
   "source": [
    "import pylab as pl"
   ]
  },
  {
   "cell_type": "code",
   "execution_count": 76,
   "id": "3f657b12-b713-41e6-8cd5-b3c50c15f711",
   "metadata": {},
   "outputs": [
    {
     "data": {
      "image/png": "[encoded data removed]",
      "text/plain": [
       "<Figure size 432x288 with 1 Axes>"
      ]
     },
     "metadata": {
      "needs_background": "light"
     },
     "output_type": "display_data"
    }
   ],
   "source": [
    "s1['african_vs_non_african'].value_counts().plot(kind=\"bar\")\n",
    "pl.suptitle(\"African vs Non African (Tendaguru Dinasaurs)\")\n",
    "plt.savefig('../viz_images/AfricanVSnonAfrican_tendaguru.png')"
   ]
  },
  {
   "cell_type": "code",
   "execution_count": 20,
   "id": "1229320f-b9e9-4257-acd0-29742da33f23",
   "metadata": {},
   "outputs": [
    {
     "data": {
      "text/plain": [
       "Non African    96\n",
       "African        20\n",
       "Name: african_vs_non_african, dtype: int64"
      ]
     },
     "execution_count": 20,
     "metadata": {},
     "output_type": "execute_result"
    }
   ],
   "source": [
    "s1['african_vs_non_african'].value_counts()"
   ]
  },
  {
   "cell_type": "markdown",
   "id": "d112f786-c083-45c4-a398-19c464ed405d",
   "metadata": {},
   "source": [
    "Origin of users that post tweets"
   ]
  },
  {
   "cell_type": "code",
   "execution_count": 77,
   "id": "56418f31-ce50-4e08-a98b-6afd23dca556",
   "metadata": {},
   "outputs": [
    {
     "data": {
      "text/plain": [
       "Index(['_type', 'url', 'date', 'content', 'renderedContent', 'id', 'user',\n",
       "       'replyCount', 'retweetCount', 'likeCount', 'quoteCount',\n",
       "       'conversationId', 'lang', 'source', 'sourceUrl', 'sourceLabel',\n",
       "       'outlinks', 'tcooutlinks', 'media', 'retweetedTweet', 'quotedTweet',\n",
       "       'inReplyToTweetId', 'inReplyToUser', 'mentionedUsers', 'coordinates',\n",
       "       'place', 'hashtags', 'cashtags', 'clean_tweet', 'location', 'country',\n",
       "       'no_words', 'african_vs_non_african'],\n",
       "      dtype='object')"
      ]
     },
     "execution_count": 77,
     "metadata": {},
     "output_type": "execute_result"
    }
   ],
   "source": [
    "s1.columns"
   ]
  },
  {
   "cell_type": "code",
   "execution_count": 78,
   "id": "11866c97-5d5c-4cc5-ad7d-077ed63f16ea",
   "metadata": {},
   "outputs": [],
   "source": [
    "s1.to_csv('../data/tweetGeography_tendaguru.csv')"
   ]
  },
  {
   "cell_type": "code",
   "execution_count": 13,
   "id": "40c96224-bbd3-41fc-bffd-319e9cc95a93",
   "metadata": {},
   "outputs": [
    {
     "data": {
      "image/png": "[encoded data removed]",
      "text/plain": [
       "<Figure size 432x288 with 1 Axes>"
      ]
     },
     "metadata": {
      "needs_background": "light"
     },
     "output_type": "display_data"
    }
   ],
   "source": [
    "s1['country'].value_counts()[:15].plot(kind=\"bar\")\n",
    "plt.savefig('UserCountry_tendaguru.png')"
   ]
  },
  {
   "cell_type": "markdown",
   "id": "a55b0de0-ab19-45cc-ba9f-cd05bfb7df5e",
   "metadata": {},
   "source": [
    "## User + Retweets + Replies + Followers (agregation) - Top 20 influencers(diagram), all csv "
   ]
  },
  {
   "cell_type": "code",
   "execution_count": 46,
   "id": "6d893ab7-bfcd-4114-b717-b3753d5224fe",
   "metadata": {},
   "outputs": [
    {
     "data": {
      "text/plain": [
       "Index(['_type', 'url', 'date', 'content', 'renderedContent', 'id', 'user',\n",
       "       'replyCount', 'retweetCount', 'likeCount', 'quoteCount',\n",
       "       'conversationId', 'lang', 'source', 'sourceUrl', 'sourceLabel',\n",
       "       'outlinks', 'tcooutlinks', 'media', 'retweetedTweet', 'quotedTweet',\n",
       "       'inReplyToTweetId', 'inReplyToUser', 'mentionedUsers', 'coordinates',\n",
       "       'place', 'hashtags', 'cashtags', 'clean_tweet', 'year', 'username',\n",
       "       'location'],\n",
       "      dtype='object')"
      ]
     },
     "execution_count": 46,
     "metadata": {},
     "output_type": "execute_result"
    }
   ],
   "source": [
    "tendaguru_clean.columns"
   ]
  },
  {
   "cell_type": "code",
   "execution_count": 57,
   "id": "46549512-564d-44f1-b624-3b0223db2222",
   "metadata": {},
   "outputs": [],
   "source": [
    "tendaguru_clean['followersCount'] = tendaguru_clean.user.apply(lambda x: x['followersCount'])"
   ]
  },
  {
   "cell_type": "code",
   "execution_count": 64,
   "id": "92dab9a3-8abe-46d3-822f-bde4a5f0a4b3",
   "metadata": {},
   "outputs": [],
   "source": [
    "topn = tendaguru_clean[['username', 'retweetCount', 'replyCount']].groupby('username').sum().sort_values('retweetCount', ascending=False).reset_index()"
   ]
  },
  {
   "cell_type": "code",
   "execution_count": 65,
   "id": "7f52a79d-1acc-41f6-9554-b200750f1ee4",
   "metadata": {},
   "outputs": [
    {
     "data": {
      "text/html": [
       "<div>\n",
       "<style scoped>\n",
       "    .dataframe tbody tr th:only-of-type {\n",
       "        vertical-align: middle;\n",
       "    }\n",
       "\n",
       "    .dataframe tbody tr th {\n",
       "        vertical-align: top;\n",
       "    }\n",
       "\n",
       "    .dataframe thead th {\n",
       "        text-align: right;\n",
       "    }\n",
       "</style>\n",
       "<table border=\"1\" class=\"dataframe\">\n",
       "  <thead>\n",
       "    <tr style=\"text-align: right;\">\n",
       "      <th></th>\n",
       "      <th>username</th>\n",
       "      <th>retweetCount</th>\n",
       "      <th>replyCount</th>\n",
       "    </tr>\n",
       "  </thead>\n",
       "  <tbody>\n",
       "    <tr>\n",
       "      <th>0</th>\n",
       "      <td>SerpenIllus</td>\n",
       "      <td>307</td>\n",
       "      <td>34</td>\n",
       "    </tr>\n",
       "    <tr>\n",
       "      <th>1</th>\n",
       "      <td>LagerstatteJohn</td>\n",
       "      <td>237</td>\n",
       "      <td>4</td>\n",
       "    </tr>\n",
       "    <tr>\n",
       "      <th>2</th>\n",
       "      <td>thejohnconway</td>\n",
       "      <td>170</td>\n",
       "      <td>6</td>\n",
       "    </tr>\n",
       "    <tr>\n",
       "      <th>3</th>\n",
       "      <td>lifeofmanuh</td>\n",
       "      <td>117</td>\n",
       "      <td>4</td>\n",
       "    </tr>\n",
       "    <tr>\n",
       "      <th>4</th>\n",
       "      <td>ildarotyrannus</td>\n",
       "      <td>75</td>\n",
       "      <td>10</td>\n",
       "    </tr>\n",
       "    <tr>\n",
       "      <th>...</th>\n",
       "      <td>...</td>\n",
       "      <td>...</td>\n",
       "      <td>...</td>\n",
       "    </tr>\n",
       "    <tr>\n",
       "      <th>199</th>\n",
       "      <td>Phengarornis</td>\n",
       "      <td>0</td>\n",
       "      <td>0</td>\n",
       "    </tr>\n",
       "    <tr>\n",
       "      <th>200</th>\n",
       "      <td>Philoceratops</td>\n",
       "      <td>0</td>\n",
       "      <td>0</td>\n",
       "    </tr>\n",
       "    <tr>\n",
       "      <th>201</th>\n",
       "      <td>ProfPeterDoyle</td>\n",
       "      <td>0</td>\n",
       "      <td>0</td>\n",
       "    </tr>\n",
       "    <tr>\n",
       "      <th>202</th>\n",
       "      <td>ProjektUzK100</td>\n",
       "      <td>0</td>\n",
       "      <td>0</td>\n",
       "    </tr>\n",
       "    <tr>\n",
       "      <th>203</th>\n",
       "      <td>TendanganSepeda</td>\n",
       "      <td>0</td>\n",
       "      <td>0</td>\n",
       "    </tr>\n",
       "  </tbody>\n",
       "</table>\n",
       "<p>204 rows × 3 columns</p>\n",
       "</div>"
      ],
      "text/plain": [
       "            username  retweetCount  replyCount\n",
       "0        SerpenIllus           307          34\n",
       "1    LagerstatteJohn           237           4\n",
       "2      thejohnconway           170           6\n",
       "3        lifeofmanuh           117           4\n",
       "4     ildarotyrannus            75          10\n",
       "..               ...           ...         ...\n",
       "199     Phengarornis             0           0\n",
       "200    Philoceratops             0           0\n",
       "201   ProfPeterDoyle             0           0\n",
       "202    ProjektUzK100             0           0\n",
       "203  TendanganSepeda             0           0\n",
       "\n",
       "[204 rows x 3 columns]"
      ]
     },
     "execution_count": 65,
     "metadata": {},
     "output_type": "execute_result"
    }
   ],
   "source": [
    "topn"
   ]
  },
  {
   "cell_type": "code",
   "execution_count": 66,
   "id": "47555066-b55a-4f4d-8ad6-ade62a54753b",
   "metadata": {},
   "outputs": [],
   "source": [
    "topInfl = pd.merge(topn, tendaguru_clean[['username', 'followersCount']], how='left', on='username').drop_duplicates().groupby('username').mean().round().reset_index().sort_values('retweetCount', ascending=False)"
   ]
  },
  {
   "cell_type": "code",
   "execution_count": 67,
   "id": "e667fc6a-b1eb-4252-a5b5-7ff21a91d7a9",
   "metadata": {},
   "outputs": [
    {
     "data": {
      "text/html": [
       "<div>\n",
       "<style scoped>\n",
       "    .dataframe tbody tr th:only-of-type {\n",
       "        vertical-align: middle;\n",
       "    }\n",
       "\n",
       "    .dataframe tbody tr th {\n",
       "        vertical-align: top;\n",
       "    }\n",
       "\n",
       "    .dataframe thead th {\n",
       "        text-align: right;\n",
       "    }\n",
       "</style>\n",
       "<table border=\"1\" class=\"dataframe\">\n",
       "  <thead>\n",
       "    <tr style=\"text-align: right;\">\n",
       "      <th></th>\n",
       "      <th>username</th>\n",
       "      <th>retweetCount</th>\n",
       "      <th>replyCount</th>\n",
       "      <th>followersCount</th>\n",
       "    </tr>\n",
       "  </thead>\n",
       "  <tbody>\n",
       "    <tr>\n",
       "      <th>94</th>\n",
       "      <td>SerpenIllus</td>\n",
       "      <td>307</td>\n",
       "      <td>34</td>\n",
       "      <td>22768</td>\n",
       "    </tr>\n",
       "    <tr>\n",
       "      <th>62</th>\n",
       "      <td>LagerstatteJohn</td>\n",
       "      <td>237</td>\n",
       "      <td>4</td>\n",
       "      <td>2476</td>\n",
       "    </tr>\n",
       "    <tr>\n",
       "      <th>194</th>\n",
       "      <td>thejohnconway</td>\n",
       "      <td>170</td>\n",
       "      <td>6</td>\n",
       "      <td>8732</td>\n",
       "    </tr>\n",
       "    <tr>\n",
       "      <th>168</th>\n",
       "      <td>lifeofmanuh</td>\n",
       "      <td>117</td>\n",
       "      <td>4</td>\n",
       "      <td>847</td>\n",
       "    </tr>\n",
       "    <tr>\n",
       "      <th>157</th>\n",
       "      <td>ildarotyrannus</td>\n",
       "      <td>75</td>\n",
       "      <td>10</td>\n",
       "      <td>1045</td>\n",
       "    </tr>\n",
       "    <tr>\n",
       "      <th>...</th>\n",
       "      <td>...</td>\n",
       "      <td>...</td>\n",
       "      <td>...</td>\n",
       "      <td>...</td>\n",
       "    </tr>\n",
       "    <tr>\n",
       "      <th>83</th>\n",
       "      <td>Phengarornis</td>\n",
       "      <td>0</td>\n",
       "      <td>0</td>\n",
       "      <td>100</td>\n",
       "    </tr>\n",
       "    <tr>\n",
       "      <th>84</th>\n",
       "      <td>Philoceratops</td>\n",
       "      <td>0</td>\n",
       "      <td>0</td>\n",
       "      <td>1645</td>\n",
       "    </tr>\n",
       "    <tr>\n",
       "      <th>85</th>\n",
       "      <td>ProfPeterDoyle</td>\n",
       "      <td>0</td>\n",
       "      <td>0</td>\n",
       "      <td>17770</td>\n",
       "    </tr>\n",
       "    <tr>\n",
       "      <th>86</th>\n",
       "      <td>ProjektUzK100</td>\n",
       "      <td>0</td>\n",
       "      <td>0</td>\n",
       "      <td>719</td>\n",
       "    </tr>\n",
       "    <tr>\n",
       "      <th>102</th>\n",
       "      <td>TendanganSepeda</td>\n",
       "      <td>0</td>\n",
       "      <td>0</td>\n",
       "      <td>942</td>\n",
       "    </tr>\n",
       "  </tbody>\n",
       "</table>\n",
       "<p>204 rows × 4 columns</p>\n",
       "</div>"
      ],
      "text/plain": [
       "            username  retweetCount  replyCount  followersCount\n",
       "94       SerpenIllus           307          34           22768\n",
       "62   LagerstatteJohn           237           4            2476\n",
       "194    thejohnconway           170           6            8732\n",
       "168      lifeofmanuh           117           4             847\n",
       "157   ildarotyrannus            75          10            1045\n",
       "..               ...           ...         ...             ...\n",
       "83      Phengarornis             0           0             100\n",
       "84     Philoceratops             0           0            1645\n",
       "85    ProfPeterDoyle             0           0           17770\n",
       "86     ProjektUzK100             0           0             719\n",
       "102  TendanganSepeda             0           0             942\n",
       "\n",
       "[204 rows x 4 columns]"
      ]
     },
     "execution_count": 67,
     "metadata": {},
     "output_type": "execute_result"
    }
   ],
   "source": [
    "topInfl"
   ]
  },
  {
   "cell_type": "code",
   "execution_count": 52,
   "id": "e101fa9d-9526-4d08-b215-670afff772c5",
   "metadata": {},
   "outputs": [],
   "source": [
    "topInfl.to_csv('../data/topInfluencers_tendaguru.csv')"
   ]
  },
  {
   "cell_type": "code",
   "execution_count": 74,
   "id": "f60a5af1-bf0f-451b-b1f3-eeff584a8caf",
   "metadata": {},
   "outputs": [
    {
     "data": {
      "application/vnd.plotly.v1+json": {
       "config": {
        "plotlyServerURL": "https://plot.ly"
       },
       "data": [
        {
         "hovertemplate": "<b>%{hovertext}</b><br><br>followers=%{x}<br>retweet=%{y}<br>retweetCount=%{marker.size}<extra></extra>",
         "hovertext": [
          "SerpenIllus",
          "LagerstatteJohn",
          "thejohnconway",
          "lifeofmanuh",
          "ildarotyrannus",
          "DavidEvans_ROM",
          "LikesPterosaurs",
          "dinosven",
          "Geology_History",
          "pdmannion",
          "OliverDemuth",
          "TanzaniaUpdates",
          "TanzaniaHistory",
          "alinemghilardi",
          "flyingreptiles",
          "JamiiForums",
          "Dave_Hone",
          "Dean_R_Lomax",
          "dinodadreviews",
          "msphuang",
          "Hakingowi",
          "TZEmbassyCN",
          "JamaleIjouiher",
          "David_Bressan",
          "King_Edmarka",
          "GeschichteFM",
          "bricksmashtv",
          "BdfJjl",
          "VincentReneleau",
          "JoaoVascoLeite",
          "Tweetisaurus",
          "nyrorosaurus",
          "GermanyTanzania",
          "BVisigodo",
          "Daniajinn",
          "MalukaKhamis",
          "vjcheng",
          "WMaliasili",
          "PD_Mocho",
          "GUnrecht",
          "esther_mmasi",
          "i_love_juju",
          "ChristianSidor",
          "AMBrandstetter",
          "TUBerlin",
          "flowermanase",
          "WWecker",
          "xplanatorium",
          "yerickonyerereT",
          "bertschulz",
          "paleokrahl",
          "JakeHRWilson",
          "dinojonrox",
          "TomHoltzPaleo",
          "KnappRew",
          "YBankole02",
          "Chris_Manias",
          "marioquiron",
          "Mgossi",
          "SLASHWILDLIFE",
          "Jordan_Mallon",
          "dustydino",
          "PembaLive",
          "TetZoo",
          "Rendedeer",
          "impelisa_travel",
          "RevMattK",
          "euleminerva",
          "MMarcosaurus",
          "christineax",
          "bwana_bayah",
          "BehavEcolPapers",
          "BellsproutArmy",
          "Cambroraster",
          "Colecionadores2",
          "bigbrotz",
          "SangitoE",
          "Immyrich2",
          "oselcz",
          "mfnberlin",
          "littlewisehen",
          "dylan44091709",
          "dr_r_fallon",
          "eBookBargainDls",
          "dinosauria_bot",
          "devinsaurusnext",
          "femke_holwerda",
          "excavatedegypt",
          "eventsintz",
          "deadtoothck",
          "donaldmajebele",
          "lafiladifer",
          "frank___furter",
          "tamati_biskit",
          "paleovert",
          "pegasaurus_42",
          "pklosko",
          "schiefgelesen",
          "schwarze0fm_bot",
          "scienceslam",
          "stevodarkly",
          "testeeves",
          "geschichtsadmin",
          "theImpalar",
          "thorkelyimo",
          "trzylfik",
          "ucl_discovery",
          "waytooshiny",
          "wessexbaryonyx",
          "yasebhase",
          "paleorob",
          "ohyeahfranzi",
          "odietrich_",
          "nakkyeo",
          "gimpasaura",
          "herrstang",
          "hrjkitten",
          "hydrarchos",
          "imhotep_gold",
          "javier_aeoa",
          "jeffalbert2hell",
          "jhettgreene",
          "jose_Zillah",
          "keystourstz",
          "kuzim_za",
          "la_lioness",
          "meszner",
          "motherovvinegar",
          "mpmartyniuk",
          "danielmadzia",
          "ABaillieStewart",
          "christian_am_i",
          "Life_Sciences_",
          "Fang83768513",
          "FlyingEagle8956",
          "Gabriela_Jean",
          "HabariTimes",
          "IndiaWAC",
          "IronhideArcee",
          "JSalasIIDinos",
          "JenLRossman",
          "JoschuaKnuppe",
          "JoshuaRojas19",
          "JuliotheArtist",
          "KBMusicmc",
          "KWhalord",
          "KennedyMmari",
          "KingRexy328",
          "FacepalmProf",
          "Elkeringhausen",
          "El_Pakozoico",
          "DGHTeV",
          "AkwilapoPatrick",
          "AlfredMoser",
          "ArBreatheWithUs",
          "ArtofFabricious",
          "AsPaleoGalega",
          "CornubiaGeol",
          "DarioEstraviz",
          "Duper_Aspergers",
          "DavidMbazza",
          "Dinobirdman3",
          "DinosaurBiology",
          "DinosaurBrendan",
          "Dinosauruslar",
          "DoubleBeam",
          "L_ssar",
          "Liquidodesign",
          "capstickquotes",
          "LongTany",
          "T3Fouinneteau",
          "TeaDrivenDev",
          "UtaliiTz",
          "Wilbright_jr",
          "WilliamBabey",
          "Yokomation",
          "Zegh8578",
          "ZoolJLinnSoc",
          "_pterojacktyl",
          "_salimjr",
          "agencecommunica",
          "altatoron",
          "amayor",
          "ameghiniana",
          "arungmeda",
          "ShelCompton",
          "SaraLutra",
          "Rohstahlski",
          "MyslCeska",
          "MannThisguy",
          "McBarakaBukoba",
          "Medienstuebchen",
          "MikeTaylor",
          "Ming_tfk27",
          "MwananchiNews",
          "PSigungu",
          "Randomdinos01",
          "Palaeo3D",
          "PalaeoPatch",
          "Phengarornis",
          "Philoceratops",
          "ProfPeterDoyle",
          "ProjektUzK100",
          "TendanganSepeda"
         ],
         "legendgroup": "",
         "marker": {
          "color": "#636EFA",
          "size": [
           307,
           237,
           170,
           117,
           75,
           75,
           69,
           64,
           62,
           53,
           42,
           40,
           36,
           34,
           28,
           26,
           20,
           17,
           17,
           16,
           16,
           14,
           14,
           13,
           13,
           11,
           10,
           10,
           10,
           9,
           9,
           8,
           8,
           7,
           6,
           6,
           6,
           6,
           5,
           5,
           5,
           4,
           4,
           4,
           4,
           3,
           3,
           3,
           3,
           3,
           3,
           2,
           2,
           2,
           2,
           2,
           2,
           2,
           2,
           2,
           2,
           2,
           1,
           1,
           1,
           1,
           1,
           1,
           1,
           1,
           1,
           1,
           1,
           1,
           1,
           1,
           1,
           1,
           1,
           1,
           1,
           0,
           0,
           0,
           0,
           0,
           0,
           0,
           0,
           0,
           0,
           0,
           0,
           0,
           0,
           0,
           0,
           0,
           0,
           0,
           0,
           0,
           0,
           0,
           0,
           0,
           0,
           0,
           0,
           0,
           0,
           0,
           0,
           0,
           0,
           0,
           0,
           0,
           0,
           0,
           0,
           0,
           0,
           0,
           0,
           0,
           0,
           0,
           0,
           0,
           0,
           0,
           0,
           0,
           0,
           0,
           0,
           0,
           0,
           0,
           0,
           0,
           0,
           0,
           0,
           0,
           0,
           0,
           0,
           0,
           0,
           0,
           0,
           0,
           0,
           0,
           0,
           0,
           0,
           0,
           0,
           0,
           0,
           0,
           0,
           0,
           0,
           0,
           0,
           0,
           0,
           0,
           0,
           0,
           0,
           0,
           0,
           0,
           0,
           0,
           0,
           0,
           0,
           0,
           0,
           0,
           0,
           0,
           0,
           0,
           0,
           0,
           0,
           0,
           0,
           0,
           0,
           0,
           0,
           0,
           0,
           0,
           0,
           0
          ],
          "sizemode": "area",
          "sizeref": 0.08527777777777777,
          "symbol": "circle"
         },
         "mode": "markers",
         "name": "",
         "orientation": "v",
         "showlegend": false,
         "type": "scatter",
         "x": [
          22768,
          2476,
          8732,
          847,
          1045,
          8791,
          2349,
          1261,
          19152,
          1622,
          1683,
          74050,
          35616,
          15289,
          2264,
          1143399,
          9885,
          11630,
          1210,
          37,
          340889,
          13770,
          608,
          5124,
          728,
          13885,
          481,
          308,
          1600,
          1099,
          8007,
          1157,
          23594,
          478,
          1580,
          1463,
          370,
          6105,
          1300,
          2143,
          2608,
          7923,
          2272,
          809,
          18943,
          202,
          4055,
          277,
          196757,
          1168,
          1051,
          29,
          892,
          15903,
          484,
          83,
          1857,
          13342,
          2457,
          5722,
          2398,
          8594,
          462,
          29089,
          73,
          19,
          886,
          4463,
          463,
          140,
          636,
          3869,
          329,
          381,
          5334,
          861,
          927,
          80,
          447,
          12391,
          29782,
          0,
          1015,
          302,
          6,
          602,
          2272,
          2884,
          499,
          209,
          377,
          1607,
          33,
          652,
          1126,
          536,
          291,
          1256,
          14,
          1712,
          245,
          1612,
          735,
          8619,
          12696,
          1283,
          1841,
          397,
          23,
          2594,
          1141,
          3100,
          4523,
          465,
          4373,
          1457,
          394,
          383,
          85,
          363,
          2037,
          263,
          207,
          724,
          1798,
          1152,
          8787,
          30,
          1005,
          358,
          409,
          147,
          5422,
          314,
          30,
          64,
          218,
          191,
          171,
          647,
          4087,
          8467,
          106,
          9362,
          1147,
          367,
          118167,
          5122,
          32,
          971,
          21164,
          954,
          47,
          31,
          942,
          879,
          151,
          2869,
          1794,
          785,
          57,
          245,
          986,
          361,
          176,
          2181,
          2429,
          53,
          554,
          261,
          110,
          932,
          1758,
          55403,
          1036,
          955,
          64,
          1464,
          14,
          12578,
          154,
          641,
          8126,
          853,
          93,
          1584,
          600,
          312,
          583,
          919,
          1137,
          325,
          4869,
          279,
          642393,
          125,
          561,
          1101,
          120,
          100,
          1645,
          17770,
          719,
          942
         ],
         "xaxis": "x",
         "y": [
          34,
          4,
          6,
          4,
          10,
          5,
          12,
          0,
          2,
          3,
          2,
          16,
          3,
          3,
          1,
          5,
          2,
          8,
          4,
          3,
          2,
          0,
          5,
          3,
          0,
          1,
          3,
          1,
          1,
          1,
          2,
          8,
          0,
          1,
          2,
          2,
          0,
          0,
          1,
          0,
          3,
          2,
          0,
          0,
          0,
          0,
          0,
          0,
          1,
          0,
          1,
          0,
          0,
          0,
          1,
          2,
          2,
          2,
          3,
          0,
          0,
          2,
          0,
          2,
          1,
          0,
          0,
          0,
          0,
          0,
          1,
          0,
          0,
          0,
          0,
          1,
          0,
          0,
          0,
          0,
          0,
          0,
          1,
          0,
          0,
          0,
          1,
          0,
          0,
          0,
          0,
          1,
          0,
          2,
          0,
          4,
          0,
          1,
          0,
          0,
          0,
          0,
          1,
          0,
          0,
          1,
          0,
          1,
          1,
          0,
          0,
          2,
          1,
          2,
          0,
          0,
          1,
          1,
          0,
          1,
          1,
          0,
          0,
          0,
          1,
          1,
          0,
          1,
          1,
          0,
          0,
          0,
          0,
          1,
          1,
          0,
          0,
          0,
          0,
          1,
          0,
          0,
          4,
          0,
          0,
          1,
          0,
          2,
          0,
          0,
          0,
          0,
          0,
          0,
          0,
          0,
          0,
          0,
          0,
          0,
          0,
          0,
          0,
          0,
          1,
          0,
          3,
          0,
          1,
          5,
          0,
          1,
          0,
          2,
          2,
          1,
          1,
          0,
          0,
          1,
          0,
          1,
          0,
          1,
          0,
          1,
          0,
          0,
          0,
          0,
          0,
          0,
          1,
          0,
          1,
          0,
          1,
          1,
          1,
          0,
          0,
          0,
          0,
          0
         ],
         "yaxis": "y"
        }
       ],
       "layout": {
        "height": 1200,
        "legend": {
         "itemsizing": "constant",
         "orientation": "h",
         "title": {
          "text": "Cluster"
         },
         "tracegroupgap": 0,
         "x": 1,
         "xanchor": "right",
         "y": 1.02,
         "yanchor": "bottom"
        },
        "margin": {
         "t": 60
        },
        "template": {
         "data": {
          "bar": [
           {
            "error_x": {
             "color": "#2a3f5f"
            },
            "error_y": {
             "color": "#2a3f5f"
            },
            "marker": {
             "line": {
              "color": "#E5ECF6",
              "width": 0.5
             },
             "pattern": {
              "fillmode": "overlay",
              "size": 10,
              "solidity": 0.2
             }
            },
            "type": "bar"
           }
          ],
          "barpolar": [
           {
            "marker": {
             "line": {
              "color": "#E5ECF6",
              "width": 0.5
             },
             "pattern": {
              "fillmode": "overlay",
              "size": 10,
              "solidity": 0.2
             }
            },
            "type": "barpolar"
           }
          ],
          "carpet": [
           {
            "aaxis": {
             "endlinecolor": "#2a3f5f",
             "gridcolor": "white",
             "linecolor": "white",
             "minorgridcolor": "white",
             "startlinecolor": "#2a3f5f"
            },
            "baxis": {
             "endlinecolor": "#2a3f5f",
             "gridcolor": "white",
             "linecolor": "white",
             "minorgridcolor": "white",
             "startlinecolor": "#2a3f5f"
            },
            "type": "carpet"
           }
          ],
          "choropleth": [
           {
            "colorbar": {
             "outlinewidth": 0,
             "ticks": ""
            },
            "type": "choropleth"
           }
          ],
          "contour": [
           {
            "colorbar": {
             "outlinewidth": 0,
             "ticks": ""
            },
            "colorscale": [
             [
              0,
              "#0d0887"
             ],
             [
              0.1111111111111111,
              "#46039f"
             ],
             [
              0.2222222222222222,
              "#7201a8"
             ],
             [
              0.3333333333333333,
              "#9c179e"
             ],
             [
              0.4444444444444444,
              "#bd3786"
             ],
             [
              0.5555555555555556,
              "#d8576b"
             ],
             [
              0.6666666666666666,
              "#ed7953"
             ],
             [
              0.7777777777777778,
              "#fb9f3a"
             ],
             [
              0.8888888888888888,
              "#fdca26"
             ],
             [
              1,
              "#f0f921"
             ]
            ],
            "type": "contour"
           }
          ],
          "contourcarpet": [
           {
            "colorbar": {
             "outlinewidth": 0,
             "ticks": ""
            },
            "type": "contourcarpet"
           }
          ],
          "heatmap": [
           {
            "colorbar": {
             "outlinewidth": 0,
             "ticks": ""
            },
            "colorscale": [
             [
              0,
              "#0d0887"
             ],
             [
              0.1111111111111111,
              "#46039f"
             ],
             [
              0.2222222222222222,
              "#7201a8"
             ],
             [
              0.3333333333333333,
              "#9c179e"
             ],
             [
              0.4444444444444444,
              "#bd3786"
             ],
             [
              0.5555555555555556,
              "#d8576b"
             ],
             [
              0.6666666666666666,
              "#ed7953"
             ],
             [
              0.7777777777777778,
              "#fb9f3a"
             ],
             [
              0.8888888888888888,
              "#fdca26"
             ],
             [
              1,
              "#f0f921"
             ]
            ],
            "type": "heatmap"
           }
          ],
          "heatmapgl": [
           {
            "colorbar": {
             "outlinewidth": 0,
             "ticks": ""
            },
            "colorscale": [
             [
              0,
              "#0d0887"
             ],
             [
              0.1111111111111111,
              "#46039f"
             ],
             [
              0.2222222222222222,
              "#7201a8"
             ],
             [
              0.3333333333333333,
              "#9c179e"
             ],
             [
              0.4444444444444444,
              "#bd3786"
             ],
             [
              0.5555555555555556,
              "#d8576b"
             ],
             [
              0.6666666666666666,
              "#ed7953"
             ],
             [
              0.7777777777777778,
              "#fb9f3a"
             ],
             [
              0.8888888888888888,
              "#fdca26"
             ],
             [
              1,
              "#f0f921"
             ]
            ],
            "type": "heatmapgl"
           }
          ],
          "histogram": [
           {
            "marker": {
             "pattern": {
              "fillmode": "overlay",
              "size": 10,
              "solidity": 0.2
             }
            },
            "type": "histogram"
           }
          ],
          "histogram2d": [
           {
            "colorbar": {
             "outlinewidth": 0,
             "ticks": ""
            },
            "colorscale": [
             [
              0,
              "#0d0887"
             ],
             [
              0.1111111111111111,
              "#46039f"
             ],
             [
              0.2222222222222222,
              "#7201a8"
             ],
             [
              0.3333333333333333,
              "#9c179e"
             ],
             [
              0.4444444444444444,
              "#bd3786"
             ],
             [
              0.5555555555555556,
              "#d8576b"
             ],
             [
              0.6666666666666666,
              "#ed7953"
             ],
             [
              0.7777777777777778,
              "#fb9f3a"
             ],
             [
              0.8888888888888888,
              "#fdca26"
             ],
             [
              1,
              "#f0f921"
             ]
            ],
            "type": "histogram2d"
           }
          ],
          "histogram2dcontour": [
           {
            "colorbar": {
             "outlinewidth": 0,
             "ticks": ""
            },
            "colorscale": [
             [
              0,
              "#0d0887"
             ],
             [
              0.1111111111111111,
              "#46039f"
             ],
             [
              0.2222222222222222,
              "#7201a8"
             ],
             [
              0.3333333333333333,
              "#9c179e"
             ],
             [
              0.4444444444444444,
              "#bd3786"
             ],
             [
              0.5555555555555556,
              "#d8576b"
             ],
             [
              0.6666666666666666,
              "#ed7953"
             ],
             [
              0.7777777777777778,
              "#fb9f3a"
             ],
             [
              0.8888888888888888,
              "#fdca26"
             ],
             [
              1,
              "#f0f921"
             ]
            ],
            "type": "histogram2dcontour"
           }
          ],
          "mesh3d": [
           {
            "colorbar": {
             "outlinewidth": 0,
             "ticks": ""
            },
            "type": "mesh3d"
           }
          ],
          "parcoords": [
           {
            "line": {
             "colorbar": {
              "outlinewidth": 0,
              "ticks": ""
             }
            },
            "type": "parcoords"
           }
          ],
          "pie": [
           {
            "automargin": true,
            "type": "pie"
           }
          ],
          "scatter": [
           {
            "marker": {
             "colorbar": {
              "outlinewidth": 0,
              "ticks": ""
             }
            },
            "type": "scatter"
           }
          ],
          "scatter3d": [
           {
            "line": {
             "colorbar": {
              "outlinewidth": 0,
              "ticks": ""
             }
            },
            "marker": {
             "colorbar": {
              "outlinewidth": 0,
              "ticks": ""
             }
            },
            "type": "scatter3d"
           }
          ],
          "scattercarpet": [
           {
            "marker": {
             "colorbar": {
              "outlinewidth": 0,
              "ticks": ""
             }
            },
            "type": "scattercarpet"
           }
          ],
          "scattergeo": [
           {
            "marker": {
             "colorbar": {
              "outlinewidth": 0,
              "ticks": ""
             }
            },
            "type": "scattergeo"
           }
          ],
          "scattergl": [
           {
            "marker": {
             "colorbar": {
              "outlinewidth": 0,
              "ticks": ""
             }
            },
            "type": "scattergl"
           }
          ],
          "scattermapbox": [
           {
            "marker": {
             "colorbar": {
              "outlinewidth": 0,
              "ticks": ""
             }
            },
            "type": "scattermapbox"
           }
          ],
          "scatterpolar": [
           {
            "marker": {
             "colorbar": {
              "outlinewidth": 0,
              "ticks": ""
             }
            },
            "type": "scatterpolar"
           }
          ],
          "scatterpolargl": [
           {
            "marker": {
             "colorbar": {
              "outlinewidth": 0,
              "ticks": ""
             }
            },
            "type": "scatterpolargl"
           }
          ],
          "scatterternary": [
           {
            "marker": {
             "colorbar": {
              "outlinewidth": 0,
              "ticks": ""
             }
            },
            "type": "scatterternary"
           }
          ],
          "surface": [
           {
            "colorbar": {
             "outlinewidth": 0,
             "ticks": ""
            },
            "colorscale": [
             [
              0,
              "#0d0887"
             ],
             [
              0.1111111111111111,
              "#46039f"
             ],
             [
              0.2222222222222222,
              "#7201a8"
             ],
             [
              0.3333333333333333,
              "#9c179e"
             ],
             [
              0.4444444444444444,
              "#bd3786"
             ],
             [
              0.5555555555555556,
              "#d8576b"
             ],
             [
              0.6666666666666666,
              "#ed7953"
             ],
             [
              0.7777777777777778,
              "#fb9f3a"
             ],
             [
              0.8888888888888888,
              "#fdca26"
             ],
             [
              1,
              "#f0f921"
             ]
            ],
            "type": "surface"
           }
          ],
          "table": [
           {
            "cells": {
             "fill": {
              "color": "#EBF0F8"
             },
             "line": {
              "color": "white"
             }
            },
            "header": {
             "fill": {
              "color": "#C8D4E3"
             },
             "line": {
              "color": "white"
             }
            },
            "type": "table"
           }
          ]
         },
         "layout": {
          "annotationdefaults": {
           "arrowcolor": "#2a3f5f",
           "arrowhead": 0,
           "arrowwidth": 1
          },
          "autotypenumbers": "strict",
          "coloraxis": {
           "colorbar": {
            "outlinewidth": 0,
            "ticks": ""
           }
          },
          "colorscale": {
           "diverging": [
            [
             0,
             "#8e0152"
            ],
            [
             0.1,
             "#c51b7d"
            ],
            [
             0.2,
             "#de77ae"
            ],
            [
             0.3,
             "#f1b6da"
            ],
            [
             0.4,
             "#fde0ef"
            ],
            [
             0.5,
             "#f7f7f7"
            ],
            [
             0.6,
             "#e6f5d0"
            ],
            [
             0.7,
             "#b8e186"
            ],
            [
             0.8,
             "#7fbc41"
            ],
            [
             0.9,
             "#4d9221"
            ],
            [
             1,
             "#276419"
            ]
           ],
           "sequential": [
            [
             0,
             "#0d0887"
            ],
            [
             0.1111111111111111,
             "#46039f"
            ],
            [
             0.2222222222222222,
             "#7201a8"
            ],
            [
             0.3333333333333333,
             "#9c179e"
            ],
            [
             0.4444444444444444,
             "#bd3786"
            ],
            [
             0.5555555555555556,
             "#d8576b"
            ],
            [
             0.6666666666666666,
             "#ed7953"
            ],
            [
             0.7777777777777778,
             "#fb9f3a"
            ],
            [
             0.8888888888888888,
             "#fdca26"
            ],
            [
             1,
             "#f0f921"
            ]
           ],
           "sequentialminus": [
            [
             0,
             "#0d0887"
            ],
            [
             0.1111111111111111,
             "#46039f"
            ],
            [
             0.2222222222222222,
             "#7201a8"
            ],
            [
             0.3333333333333333,
             "#9c179e"
            ],
            [
             0.4444444444444444,
             "#bd3786"
            ],
            [
             0.5555555555555556,
             "#d8576b"
            ],
            [
             0.6666666666666666,
             "#ed7953"
            ],
            [
             0.7777777777777778,
             "#fb9f3a"
            ],
            [
             0.8888888888888888,
             "#fdca26"
            ],
            [
             1,
             "#f0f921"
            ]
           ]
          },
          "colorway": [
           "#636efa",
           "#EF553B",
           "#00cc96",
           "#ab63fa",
           "#FFA15A",
           "#19d3f3",
           "#FF6692",
           "#B6E880",
           "#FF97FF",
           "#FECB52"
          ],
          "font": {
           "color": "#2a3f5f"
          },
          "geo": {
           "bgcolor": "white",
           "lakecolor": "white",
           "landcolor": "#E5ECF6",
           "showlakes": true,
           "showland": true,
           "subunitcolor": "white"
          },
          "hoverlabel": {
           "align": "left"
          },
          "hovermode": "closest",
          "mapbox": {
           "style": "light"
          },
          "paper_bgcolor": "white",
          "plot_bgcolor": "#E5ECF6",
          "polar": {
           "angularaxis": {
            "gridcolor": "white",
            "linecolor": "white",
            "ticks": ""
           },
           "bgcolor": "#E5ECF6",
           "radialaxis": {
            "gridcolor": "white",
            "linecolor": "white",
            "ticks": ""
           }
          },
          "scene": {
           "xaxis": {
            "backgroundcolor": "#E5ECF6",
            "gridcolor": "white",
            "gridwidth": 2,
            "linecolor": "white",
            "showbackground": true,
            "ticks": "",
            "zerolinecolor": "white"
           },
           "yaxis": {
            "backgroundcolor": "#E5ECF6",
            "gridcolor": "white",
            "gridwidth": 2,
            "linecolor": "white",
            "showbackground": true,
            "ticks": "",
            "zerolinecolor": "white"
           },
           "zaxis": {
            "backgroundcolor": "#E5ECF6",
            "gridcolor": "white",
            "gridwidth": 2,
            "linecolor": "white",
            "showbackground": true,
            "ticks": "",
            "zerolinecolor": "white"
           }
          },
          "shapedefaults": {
           "line": {
            "color": "#2a3f5f"
           }
          },
          "ternary": {
           "aaxis": {
            "gridcolor": "white",
            "linecolor": "white",
            "ticks": ""
           },
           "baxis": {
            "gridcolor": "white",
            "linecolor": "white",
            "ticks": ""
           },
           "bgcolor": "#E5ECF6",
           "caxis": {
            "gridcolor": "white",
            "linecolor": "white",
            "ticks": ""
           }
          },
          "title": {
           "x": 0.05
          },
          "xaxis": {
           "automargin": true,
           "gridcolor": "white",
           "linecolor": "white",
           "ticks": "",
           "title": {
            "standoff": 15
           },
           "zerolinecolor": "white",
           "zerolinewidth": 2
          },
          "yaxis": {
           "automargin": true,
           "gridcolor": "white",
           "linecolor": "white",
           "ticks": "",
           "title": {
            "standoff": 15
           },
           "zerolinecolor": "white",
           "zerolinewidth": 2
          }
         }
        },
        "width": 1000,
        "xaxis": {
         "anchor": "y",
         "autorange": true,
         "domain": [
          0,
          1
         ],
         "range": [
          -133807.2487105598,
          1234286.2048753
         ],
         "title": {
          "text": "followers"
         },
         "type": "linear"
        },
        "yaxis": {
         "anchor": "x",
         "autorange": true,
         "domain": [
          0,
          1
         ],
         "range": [
          -2.8685026085058025,
          37.858888192195515
         ],
         "showticklabels": false,
         "tickfont": {
          "size": 14
         },
         "title": {
          "font": {
           "size": 16
          },
          "text": "retweet"
         },
         "type": "linear"
        }
       }
      },
      "image/png": "[encoded data removed]",
      "text/html": [
       "<div>                            <div id=\"5f06a9c2-949e-4cba-8abe-c938c57fa2f6\" class=\"plotly-graph-div\" style=\"height:1200px; width:1000px;\"></div>            <script type=\"text/javascript\">                require([\"plotly\"], function(Plotly) {                    window.PLOTLYENV=window.PLOTLYENV || {};                                    if (document.getElementById(\"5f06a9c2-949e-4cba-8abe-c938c57fa2f6\")) {                    Plotly.newPlot(                        \"5f06a9c2-949e-4cba-8abe-c938c57fa2f6\",                        [{\"hovertemplate\":\"<b>%{hovertext}</b><br><br>followers=%{x}<br>retweet=%{y}<br>retweetCount=%{marker.size}<extra></extra>\",\"hovertext\":[\"SerpenIllus\",\"LagerstatteJohn\",\"thejohnconway\",\"lifeofmanuh\",\"ildarotyrannus\",\"DavidEvans_ROM\",\"LikesPterosaurs\",\"dinosven\",\"Geology_History\",\"pdmannion\",\"OliverDemuth\",\"TanzaniaUpdates\",\"TanzaniaHistory\",\"alinemghilardi\",\"flyingreptiles\",\"JamiiForums\",\"Dave_Hone\",\"Dean_R_Lomax\",\"dinodadreviews\",\"msphuang\",\"Hakingowi\",\"TZEmbassyCN\",\"JamaleIjouiher\",\"David_Bressan\",\"King_Edmarka\",\"GeschichteFM\",\"bricksmashtv\",\"BdfJjl\",\"VincentReneleau\",\"JoaoVascoLeite\",\"Tweetisaurus\",\"nyrorosaurus\",\"GermanyTanzania\",\"BVisigodo\",\"Daniajinn\",\"MalukaKhamis\",\"vjcheng\",\"WMaliasili\",\"PD_Mocho\",\"GUnrecht\",\"esther_mmasi\",\"i_love_juju\",\"ChristianSidor\",\"AMBrandstetter\",\"TUBerlin\",\"flowermanase\",\"WWecker\",\"xplanatorium\",\"yerickonyerereT\",\"bertschulz\",\"paleokrahl\",\"JakeHRWilson\",\"dinojonrox\",\"TomHoltzPaleo\",\"KnappRew\",\"YBankole02\",\"Chris_Manias\",\"marioquiron\",\"Mgossi\",\"SLASHWILDLIFE\",\"Jordan_Mallon\",\"dustydino\",\"PembaLive\",\"TetZoo\",\"Rendedeer\",\"impelisa_travel\",\"RevMattK\",\"euleminerva\",\"MMarcosaurus\",\"christineax\",\"bwana_bayah\",\"BehavEcolPapers\",\"BellsproutArmy\",\"Cambroraster\",\"Colecionadores2\",\"bigbrotz\",\"SangitoE\",\"Immyrich2\",\"oselcz\",\"mfnberlin\",\"littlewisehen\",\"dylan44091709\",\"dr_r_fallon\",\"eBookBargainDls\",\"dinosauria_bot\",\"devinsaurusnext\",\"femke_holwerda\",\"excavatedegypt\",\"eventsintz\",\"deadtoothck\",\"donaldmajebele\",\"lafiladifer\",\"frank___furter\",\"tamati_biskit\",\"paleovert\",\"pegasaurus_42\",\"pklosko\",\"schiefgelesen\",\"schwarze0fm_bot\",\"scienceslam\",\"stevodarkly\",\"testeeves\",\"geschichtsadmin\",\"theImpalar\",\"thorkelyimo\",\"trzylfik\",\"ucl_discovery\",\"waytooshiny\",\"wessexbaryonyx\",\"yasebhase\",\"paleorob\",\"ohyeahfranzi\",\"odietrich_\",\"nakkyeo\",\"gimpasaura\",\"herrstang\",\"hrjkitten\",\"hydrarchos\",\"imhotep_gold\",\"javier_aeoa\",\"jeffalbert2hell\",\"jhettgreene\",\"jose_Zillah\",\"keystourstz\",\"kuzim_za\",\"la_lioness\",\"meszner\",\"motherovvinegar\",\"mpmartyniuk\",\"danielmadzia\",\"ABaillieStewart\",\"christian_am_i\",\"Life_Sciences_\",\"Fang83768513\",\"FlyingEagle8956\",\"Gabriela_Jean\",\"HabariTimes\",\"IndiaWAC\",\"IronhideArcee\",\"JSalasIIDinos\",\"JenLRossman\",\"JoschuaKnuppe\",\"JoshuaRojas19\",\"JuliotheArtist\",\"KBMusicmc\",\"KWhalord\",\"KennedyMmari\",\"KingRexy328\",\"FacepalmProf\",\"Elkeringhausen\",\"El_Pakozoico\",\"DGHTeV\",\"AkwilapoPatrick\",\"AlfredMoser\",\"ArBreatheWithUs\",\"ArtofFabricious\",\"AsPaleoGalega\",\"CornubiaGeol\",\"DarioEstraviz\",\"Duper_Aspergers\",\"DavidMbazza\",\"Dinobirdman3\",\"DinosaurBiology\",\"DinosaurBrendan\",\"Dinosauruslar\",\"DoubleBeam\",\"L_ssar\",\"Liquidodesign\",\"capstickquotes\",\"LongTany\",\"T3Fouinneteau\",\"TeaDrivenDev\",\"UtaliiTz\",\"Wilbright_jr\",\"WilliamBabey\",\"Yokomation\",\"Zegh8578\",\"ZoolJLinnSoc\",\"_pterojacktyl\",\"_salimjr\",\"agencecommunica\",\"altatoron\",\"amayor\",\"ameghiniana\",\"arungmeda\",\"ShelCompton\",\"SaraLutra\",\"Rohstahlski\",\"MyslCeska\",\"MannThisguy\",\"McBarakaBukoba\",\"Medienstuebchen\",\"MikeTaylor\",\"Ming_tfk27\",\"MwananchiNews\",\"PSigungu\",\"Randomdinos01\",\"Palaeo3D\",\"PalaeoPatch\",\"Phengarornis\",\"Philoceratops\",\"ProfPeterDoyle\",\"ProjektUzK100\",\"TendanganSepeda\"],\"legendgroup\":\"\",\"marker\":{\"color\":\"#636EFA\",\"size\":[307,237,170,117,75,75,69,64,62,53,42,40,36,34,28,26,20,17,17,16,16,14,14,13,13,11,10,10,10,9,9,8,8,7,6,6,6,6,5,5,5,4,4,4,4,3,3,3,3,3,3,2,2,2,2,2,2,2,2,2,2,2,1,1,1,1,1,1,1,1,1,1,1,1,1,1,1,1,1,1,1,0,0,0,0,0,0,0,0,0,0,0,0,0,0,0,0,0,0,0,0,0,0,0,0,0,0,0,0,0,0,0,0,0,0,0,0,0,0,0,0,0,0,0,0,0,0,0,0,0,0,0,0,0,0,0,0,0,0,0,0,0,0,0,0,0,0,0,0,0,0,0,0,0,0,0,0,0,0,0,0,0,0,0,0,0,0,0,0,0,0,0,0,0,0,0,0,0,0,0,0,0,0,0,0,0,0,0,0,0,0,0,0,0,0,0,0,0,0,0,0,0,0,0],\"sizemode\":\"area\",\"sizeref\":0.08527777777777777,\"symbol\":\"circle\"},\"mode\":\"markers\",\"name\":\"\",\"orientation\":\"v\",\"showlegend\":false,\"type\":\"scatter\",\"x\":[22768,2476,8732,847,1045,8791,2349,1261,19152,1622,1683,74050,35616,15289,2264,1143399,9885,11630,1210,37,340889,13770,608,5124,728,13885,481,308,1600,1099,8007,1157,23594,478,1580,1463,370,6105,1300,2143,2608,7923,2272,809,18943,202,4055,277,196757,1168,1051,29,892,15903,484,83,1857,13342,2457,5722,2398,8594,462,29089,73,19,886,4463,463,140,636,3869,329,381,5334,861,927,80,447,12391,29782,0,1015,302,6,602,2272,2884,499,209,377,1607,33,652,1126,536,291,1256,14,1712,245,1612,735,8619,12696,1283,1841,397,23,2594,1141,3100,4523,465,4373,1457,394,383,85,363,2037,263,207,724,1798,1152,8787,30,1005,358,409,147,5422,314,30,64,218,191,171,647,4087,8467,106,9362,1147,367,118167,5122,32,971,21164,954,47,31,942,879,151,2869,1794,785,57,245,986,361,176,2181,2429,53,554,261,110,932,1758,55403,1036,955,64,1464,14,12578,154,641,8126,853,93,1584,600,312,583,919,1137,325,4869,279,642393,125,561,1101,120,100,1645,17770,719,942],\"xaxis\":\"x\",\"y\":[34,4,6,4,10,5,12,0,2,3,2,16,3,3,1,5,2,8,4,3,2,0,5,3,0,1,3,1,1,1,2,8,0,1,2,2,0,0,1,0,3,2,0,0,0,0,0,0,1,0,1,0,0,0,1,2,2,2,3,0,0,2,0,2,1,0,0,0,0,0,1,0,0,0,0,1,0,0,0,0,0,0,1,0,0,0,1,0,0,0,0,1,0,2,0,4,0,1,0,0,0,0,1,0,0,1,0,1,1,0,0,2,1,2,0,0,1,1,0,1,1,0,0,0,1,1,0,1,1,0,0,0,0,1,1,0,0,0,0,1,0,0,4,0,0,1,0,2,0,0,0,0,0,0,0,0,0,0,0,0,0,0,0,0,1,0,3,0,1,5,0,1,0,2,2,1,1,0,0,1,0,1,0,1,0,1,0,0,0,0,0,0,1,0,1,0,1,1,1,0,0,0,0,0],\"yaxis\":\"y\"}],                        {\"height\":1200,\"legend\":{\"itemsizing\":\"constant\",\"orientation\":\"h\",\"title\":{\"text\":\"Cluster\"},\"tracegroupgap\":0,\"x\":1,\"xanchor\":\"right\",\"y\":1.02,\"yanchor\":\"bottom\"},\"margin\":{\"t\":60},\"template\":{\"data\":{\"bar\":[{\"error_x\":{\"color\":\"#2a3f5f\"},\"error_y\":{\"color\":\"#2a3f5f\"},\"marker\":{\"line\":{\"color\":\"#E5ECF6\",\"width\":0.5},\"pattern\":{\"fillmode\":\"overlay\",\"size\":10,\"solidity\":0.2}},\"type\":\"bar\"}],\"barpolar\":[{\"marker\":{\"line\":{\"color\":\"#E5ECF6\",\"width\":0.5},\"pattern\":{\"fillmode\":\"overlay\",\"size\":10,\"solidity\":0.2}},\"type\":\"barpolar\"}],\"carpet\":[{\"aaxis\":{\"endlinecolor\":\"#2a3f5f\",\"gridcolor\":\"white\",\"linecolor\":\"white\",\"minorgridcolor\":\"white\",\"startlinecolor\":\"#2a3f5f\"},\"baxis\":{\"endlinecolor\":\"#2a3f5f\",\"gridcolor\":\"white\",\"linecolor\":\"white\",\"minorgridcolor\":\"white\",\"startlinecolor\":\"#2a3f5f\"},\"type\":\"carpet\"}],\"choropleth\":[{\"colorbar\":{\"outlinewidth\":0,\"ticks\":\"\"},\"type\":\"choropleth\"}],\"contour\":[{\"colorbar\":{\"outlinewidth\":0,\"ticks\":\"\"},\"colorscale\":[[0.0,\"#0d0887\"],[0.1111111111111111,\"#46039f\"],[0.2222222222222222,\"#7201a8\"],[0.3333333333333333,\"#9c179e\"],[0.4444444444444444,\"#bd3786\"],[0.5555555555555556,\"#d8576b\"],[0.6666666666666666,\"#ed7953\"],[0.7777777777777778,\"#fb9f3a\"],[0.8888888888888888,\"#fdca26\"],[1.0,\"#f0f921\"]],\"type\":\"contour\"}],\"contourcarpet\":[{\"colorbar\":{\"outlinewidth\":0,\"ticks\":\"\"},\"type\":\"contourcarpet\"}],\"heatmap\":[{\"colorbar\":{\"outlinewidth\":0,\"ticks\":\"\"},\"colorscale\":[[0.0,\"#0d0887\"],[0.1111111111111111,\"#46039f\"],[0.2222222222222222,\"#7201a8\"],[0.3333333333333333,\"#9c179e\"],[0.4444444444444444,\"#bd3786\"],[0.5555555555555556,\"#d8576b\"],[0.6666666666666666,\"#ed7953\"],[0.7777777777777778,\"#fb9f3a\"],[0.8888888888888888,\"#fdca26\"],[1.0,\"#f0f921\"]],\"type\":\"heatmap\"}],\"heatmapgl\":[{\"colorbar\":{\"outlinewidth\":0,\"ticks\":\"\"},\"colorscale\":[[0.0,\"#0d0887\"],[0.1111111111111111,\"#46039f\"],[0.2222222222222222,\"#7201a8\"],[0.3333333333333333,\"#9c179e\"],[0.4444444444444444,\"#bd3786\"],[0.5555555555555556,\"#d8576b\"],[0.6666666666666666,\"#ed7953\"],[0.7777777777777778,\"#fb9f3a\"],[0.8888888888888888,\"#fdca26\"],[1.0,\"#f0f921\"]],\"type\":\"heatmapgl\"}],\"histogram\":[{\"marker\":{\"pattern\":{\"fillmode\":\"overlay\",\"size\":10,\"solidity\":0.2}},\"type\":\"histogram\"}],\"histogram2d\":[{\"colorbar\":{\"outlinewidth\":0,\"ticks\":\"\"},\"colorscale\":[[0.0,\"#0d0887\"],[0.1111111111111111,\"#46039f\"],[0.2222222222222222,\"#7201a8\"],[0.3333333333333333,\"#9c179e\"],[0.4444444444444444,\"#bd3786\"],[0.5555555555555556,\"#d8576b\"],[0.6666666666666666,\"#ed7953\"],[0.7777777777777778,\"#fb9f3a\"],[0.8888888888888888,\"#fdca26\"],[1.0,\"#f0f921\"]],\"type\":\"histogram2d\"}],\"histogram2dcontour\":[{\"colorbar\":{\"outlinewidth\":0,\"ticks\":\"\"},\"colorscale\":[[0.0,\"#0d0887\"],[0.1111111111111111,\"#46039f\"],[0.2222222222222222,\"#7201a8\"],[0.3333333333333333,\"#9c179e\"],[0.4444444444444444,\"#bd3786\"],[0.5555555555555556,\"#d8576b\"],[0.6666666666666666,\"#ed7953\"],[0.7777777777777778,\"#fb9f3a\"],[0.8888888888888888,\"#fdca26\"],[1.0,\"#f0f921\"]],\"type\":\"histogram2dcontour\"}],\"mesh3d\":[{\"colorbar\":{\"outlinewidth\":0,\"ticks\":\"\"},\"type\":\"mesh3d\"}],\"parcoords\":[{\"line\":{\"colorbar\":{\"outlinewidth\":0,\"ticks\":\"\"}},\"type\":\"parcoords\"}],\"pie\":[{\"automargin\":true,\"type\":\"pie\"}],\"scatter\":[{\"marker\":{\"colorbar\":{\"outlinewidth\":0,\"ticks\":\"\"}},\"type\":\"scatter\"}],\"scatter3d\":[{\"line\":{\"colorbar\":{\"outlinewidth\":0,\"ticks\":\"\"}},\"marker\":{\"colorbar\":{\"outlinewidth\":0,\"ticks\":\"\"}},\"type\":\"scatter3d\"}],\"scattercarpet\":[{\"marker\":{\"colorbar\":{\"outlinewidth\":0,\"ticks\":\"\"}},\"type\":\"scattercarpet\"}],\"scattergeo\":[{\"marker\":{\"colorbar\":{\"outlinewidth\":0,\"ticks\":\"\"}},\"type\":\"scattergeo\"}],\"scattergl\":[{\"marker\":{\"colorbar\":{\"outlinewidth\":0,\"ticks\":\"\"}},\"type\":\"scattergl\"}],\"scattermapbox\":[{\"marker\":{\"colorbar\":{\"outlinewidth\":0,\"ticks\":\"\"}},\"type\":\"scattermapbox\"}],\"scatterpolar\":[{\"marker\":{\"colorbar\":{\"outlinewidth\":0,\"ticks\":\"\"}},\"type\":\"scatterpolar\"}],\"scatterpolargl\":[{\"marker\":{\"colorbar\":{\"outlinewidth\":0,\"ticks\":\"\"}},\"type\":\"scatterpolargl\"}],\"scatterternary\":[{\"marker\":{\"colorbar\":{\"outlinewidth\":0,\"ticks\":\"\"}},\"type\":\"scatterternary\"}],\"surface\":[{\"colorbar\":{\"outlinewidth\":0,\"ticks\":\"\"},\"colorscale\":[[0.0,\"#0d0887\"],[0.1111111111111111,\"#46039f\"],[0.2222222222222222,\"#7201a8\"],[0.3333333333333333,\"#9c179e\"],[0.4444444444444444,\"#bd3786\"],[0.5555555555555556,\"#d8576b\"],[0.6666666666666666,\"#ed7953\"],[0.7777777777777778,\"#fb9f3a\"],[0.8888888888888888,\"#fdca26\"],[1.0,\"#f0f921\"]],\"type\":\"surface\"}],\"table\":[{\"cells\":{\"fill\":{\"color\":\"#EBF0F8\"},\"line\":{\"color\":\"white\"}},\"header\":{\"fill\":{\"color\":\"#C8D4E3\"},\"line\":{\"color\":\"white\"}},\"type\":\"table\"}]},\"layout\":{\"annotationdefaults\":{\"arrowcolor\":\"#2a3f5f\",\"arrowhead\":0,\"arrowwidth\":1},\"autotypenumbers\":\"strict\",\"coloraxis\":{\"colorbar\":{\"outlinewidth\":0,\"ticks\":\"\"}},\"colorscale\":{\"diverging\":[[0,\"#8e0152\"],[0.1,\"#c51b7d\"],[0.2,\"#de77ae\"],[0.3,\"#f1b6da\"],[0.4,\"#fde0ef\"],[0.5,\"#f7f7f7\"],[0.6,\"#e6f5d0\"],[0.7,\"#b8e186\"],[0.8,\"#7fbc41\"],[0.9,\"#4d9221\"],[1,\"#276419\"]],\"sequential\":[[0.0,\"#0d0887\"],[0.1111111111111111,\"#46039f\"],[0.2222222222222222,\"#7201a8\"],[0.3333333333333333,\"#9c179e\"],[0.4444444444444444,\"#bd3786\"],[0.5555555555555556,\"#d8576b\"],[0.6666666666666666,\"#ed7953\"],[0.7777777777777778,\"#fb9f3a\"],[0.8888888888888888,\"#fdca26\"],[1.0,\"#f0f921\"]],\"sequentialminus\":[[0.0,\"#0d0887\"],[0.1111111111111111,\"#46039f\"],[0.2222222222222222,\"#7201a8\"],[0.3333333333333333,\"#9c179e\"],[0.4444444444444444,\"#bd3786\"],[0.5555555555555556,\"#d8576b\"],[0.6666666666666666,\"#ed7953\"],[0.7777777777777778,\"#fb9f3a\"],[0.8888888888888888,\"#fdca26\"],[1.0,\"#f0f921\"]]},\"colorway\":[\"#636efa\",\"#EF553B\",\"#00cc96\",\"#ab63fa\",\"#FFA15A\",\"#19d3f3\",\"#FF6692\",\"#B6E880\",\"#FF97FF\",\"#FECB52\"],\"font\":{\"color\":\"#2a3f5f\"},\"geo\":{\"bgcolor\":\"white\",\"lakecolor\":\"white\",\"landcolor\":\"#E5ECF6\",\"showlakes\":true,\"showland\":true,\"subunitcolor\":\"white\"},\"hoverlabel\":{\"align\":\"left\"},\"hovermode\":\"closest\",\"mapbox\":{\"style\":\"light\"},\"paper_bgcolor\":\"white\",\"plot_bgcolor\":\"#E5ECF6\",\"polar\":{\"angularaxis\":{\"gridcolor\":\"white\",\"linecolor\":\"white\",\"ticks\":\"\"},\"bgcolor\":\"#E5ECF6\",\"radialaxis\":{\"gridcolor\":\"white\",\"linecolor\":\"white\",\"ticks\":\"\"}},\"scene\":{\"xaxis\":{\"backgroundcolor\":\"#E5ECF6\",\"gridcolor\":\"white\",\"gridwidth\":2,\"linecolor\":\"white\",\"showbackground\":true,\"ticks\":\"\",\"zerolinecolor\":\"white\"},\"yaxis\":{\"backgroundcolor\":\"#E5ECF6\",\"gridcolor\":\"white\",\"gridwidth\":2,\"linecolor\":\"white\",\"showbackground\":true,\"ticks\":\"\",\"zerolinecolor\":\"white\"},\"zaxis\":{\"backgroundcolor\":\"#E5ECF6\",\"gridcolor\":\"white\",\"gridwidth\":2,\"linecolor\":\"white\",\"showbackground\":true,\"ticks\":\"\",\"zerolinecolor\":\"white\"}},\"shapedefaults\":{\"line\":{\"color\":\"#2a3f5f\"}},\"ternary\":{\"aaxis\":{\"gridcolor\":\"white\",\"linecolor\":\"white\",\"ticks\":\"\"},\"baxis\":{\"gridcolor\":\"white\",\"linecolor\":\"white\",\"ticks\":\"\"},\"bgcolor\":\"#E5ECF6\",\"caxis\":{\"gridcolor\":\"white\",\"linecolor\":\"white\",\"ticks\":\"\"}},\"title\":{\"x\":0.05},\"xaxis\":{\"automargin\":true,\"gridcolor\":\"white\",\"linecolor\":\"white\",\"ticks\":\"\",\"title\":{\"standoff\":15},\"zerolinecolor\":\"white\",\"zerolinewidth\":2},\"yaxis\":{\"automargin\":true,\"gridcolor\":\"white\",\"linecolor\":\"white\",\"ticks\":\"\",\"title\":{\"standoff\":15},\"zerolinecolor\":\"white\",\"zerolinewidth\":2}}},\"width\":1000,\"xaxis\":{\"anchor\":\"y\",\"domain\":[0.0,1.0],\"title\":{\"text\":\"followers\"}},\"yaxis\":{\"anchor\":\"x\",\"domain\":[0.0,1.0],\"showticklabels\":false,\"tickfont\":{\"size\":14},\"title\":{\"font\":{\"size\":16},\"text\":\"retweet\"}}},                        {\"responsive\": true}                    ).then(function(){\n",
       "                            \n",
       "var gd = document.getElementById('5f06a9c2-949e-4cba-8abe-c938c57fa2f6');\n",
       "var x = new MutationObserver(function (mutations, observer) {{\n",
       "        var display = window.getComputedStyle(gd).display;\n",
       "        if (!display || display === 'none') {{\n",
       "            console.log([gd, 'removed!']);\n",
       "            Plotly.purge(gd);\n",
       "            observer.disconnect();\n",
       "        }}\n",
       "}});\n",
       "\n",
       "// Listen for the removal of the full notebook cells\n",
       "var notebookContainer = gd.closest('#notebook-container');\n",
       "if (notebookContainer) {{\n",
       "    x.observe(notebookContainer, {childList: true});\n",
       "}}\n",
       "\n",
       "// Listen for the clearing of the current output cell\n",
       "var outputEl = gd.closest('.output');\n",
       "if (outputEl) {{\n",
       "    x.observe(outputEl, {childList: true});\n",
       "}}\n",
       "\n",
       "                        })                };                });            </script>        </div>"
      ]
     },
     "metadata": {},
     "output_type": "display_data"
    }
   ],
   "source": [
    "draw_bubble(topInfl, 'followersCount', 'replyCount', 'username', size_ = 'retweetCount',  weight = 60, height=1200, marker_size=None, xaxis= \"followers\", yaxis = 'retweet')\n",
    "# fig.write_html(\"../viz_images/to/topInfluencers_tendaguru.html\")"
   ]
  },
  {
   "cell_type": "markdown",
   "id": "f9be0985-46b9-4860-b060-d0058f4656c1",
   "metadata": {},
   "source": [
    "## Google News"
   ]
  },
  {
   "cell_type": "code",
   "execution_count": 23,
   "id": "27802c25-faf5-41e9-ac12-46db4a343a3f",
   "metadata": {},
   "outputs": [],
   "source": [
    "tendaguru_news = pd.read_csv('../data/tendaguru_google_text_manual_clean.csv')"
   ]
  },
  {
   "cell_type": "code",
   "execution_count": 24,
   "id": "76a9bf1b-c27b-498a-b9de-c758dca2d1e2",
   "metadata": {},
   "outputs": [
    {
     "data": {
      "text/plain": [
       "(58, 7)"
      ]
     },
     "execution_count": 24,
     "metadata": {},
     "output_type": "execute_result"
    }
   ],
   "source": [
    "tendaguru_news.shape"
   ]
  },
  {
   "cell_type": "code",
   "execution_count": 26,
   "id": "16f74aa6-aee0-4d0f-b1d0-e1d0ddc81199",
   "metadata": {},
   "outputs": [
    {
     "data": {
      "text/html": [
       "<div>\n",
       "<style scoped>\n",
       "    .dataframe tbody tr th:only-of-type {\n",
       "        vertical-align: middle;\n",
       "    }\n",
       "\n",
       "    .dataframe tbody tr th {\n",
       "        vertical-align: top;\n",
       "    }\n",
       "\n",
       "    .dataframe thead th {\n",
       "        text-align: right;\n",
       "    }\n",
       "</style>\n",
       "<table border=\"1\" class=\"dataframe\">\n",
       "  <thead>\n",
       "    <tr style=\"text-align: right;\">\n",
       "      <th></th>\n",
       "      <th>Unnamed: 0</th>\n",
       "      <th>title</th>\n",
       "      <th>link</th>\n",
       "      <th>text</th>\n",
       "      <th>html_date</th>\n",
       "      <th>text_len</th>\n",
       "      <th>lemma_text</th>\n",
       "    </tr>\n",
       "  </thead>\n",
       "  <tbody>\n",
       "    <tr>\n",
       "      <th>0</th>\n",
       "      <td>0</td>\n",
       "      <td>Dinosaurs of Tendaguru - Wikipedia</td>\n",
       "      <td>https://en.wikipedia.org/wiki/Dinosaurs_of_Ten...</td>\n",
       "      <td>Dinosaurs of Tendaguru Dinosaurs of Tendaguru[...</td>\n",
       "      <td>2021-02-12</td>\n",
       "      <td>7819</td>\n",
       "      <td>dinosaur tendaguru dinosaur tendaguru1 origina...</td>\n",
       "    </tr>\n",
       "    <tr>\n",
       "      <th>1</th>\n",
       "      <td>1</td>\n",
       "      <td>Tendaguru Formation - Wikipedia</td>\n",
       "      <td>https://en.wikipedia.org/wiki/Tendaguru_Formation</td>\n",
       "      <td>Tendaguru Formation |Tendaguru Formation| |Typ...</td>\n",
       "      <td>2021-06-15</td>\n",
       "      <td>36692</td>\n",
       "      <td>tendaguru formation tendaguru formation typege...</td>\n",
       "    </tr>\n",
       "    <tr>\n",
       "      <th>2</th>\n",
       "      <td>2</td>\n",
       "      <td>Germany moves slowly on returning museum exhib...</td>\n",
       "      <td>https://www.theguardian.com/world/2018/may/17/...</td>\n",
       "      <td>Berlin’s longest-standing African is 13 metres...</td>\n",
       "      <td>2018-05-17</td>\n",
       "      <td>5660</td>\n",
       "      <td>berlin long stand african 13 metre tall carry ...</td>\n",
       "    </tr>\n",
       "    <tr>\n",
       "      <th>3</th>\n",
       "      <td>5</td>\n",
       "      <td>How the Berlin Natural History Museum is tackl...</td>\n",
       "      <td>https://www.berliner-zeitung.de/en/how-the-ber...</td>\n",
       "      <td>Berlin - Who are the rightful owners of the di...</td>\n",
       "      <td>2021-04-27</td>\n",
       "      <td>10423</td>\n",
       "      <td>berlin rightful owner dinosaur remains natural...</td>\n",
       "    </tr>\n",
       "    <tr>\n",
       "      <th>4</th>\n",
       "      <td>6</td>\n",
       "      <td>Dinosaurs of Tendaguru - NiNa.Az</td>\n",
       "      <td>http://wikipedia.us.nina.az/wiki/Dinosaurs_of_...</td>\n",
       "      <td>Dinosaurs of Tendaguru NiNa.Az NiNa.Az » Free ...</td>\n",
       "      <td>2019-09-24</td>\n",
       "      <td>13918</td>\n",
       "      <td>dinosaur tendaguru ninaaz ninaaz » free servic...</td>\n",
       "    </tr>\n",
       "  </tbody>\n",
       "</table>\n",
       "</div>"
      ],
      "text/plain": [
       "   Unnamed: 0                                              title  \\\n",
       "0           0                 Dinosaurs of Tendaguru - Wikipedia   \n",
       "1           1                    Tendaguru Formation - Wikipedia   \n",
       "2           2  Germany moves slowly on returning museum exhib...   \n",
       "3           5  How the Berlin Natural History Museum is tackl...   \n",
       "4           6                   Dinosaurs of Tendaguru - NiNa.Az   \n",
       "\n",
       "                                                link  \\\n",
       "0  https://en.wikipedia.org/wiki/Dinosaurs_of_Ten...   \n",
       "1  https://en.wikipedia.org/wiki/Tendaguru_Formation   \n",
       "2  https://www.theguardian.com/world/2018/may/17/...   \n",
       "3  https://www.berliner-zeitung.de/en/how-the-ber...   \n",
       "4  http://wikipedia.us.nina.az/wiki/Dinosaurs_of_...   \n",
       "\n",
       "                                                text   html_date  text_len  \\\n",
       "0  Dinosaurs of Tendaguru Dinosaurs of Tendaguru[...  2021-02-12      7819   \n",
       "1  Tendaguru Formation |Tendaguru Formation| |Typ...  2021-06-15     36692   \n",
       "2  Berlin’s longest-standing African is 13 metres...  2018-05-17      5660   \n",
       "3  Berlin - Who are the rightful owners of the di...  2021-04-27     10423   \n",
       "4  Dinosaurs of Tendaguru NiNa.Az NiNa.Az » Free ...  2019-09-24     13918   \n",
       "\n",
       "                                          lemma_text  \n",
       "0  dinosaur tendaguru dinosaur tendaguru1 origina...  \n",
       "1  tendaguru formation tendaguru formation typege...  \n",
       "2  berlin long stand african 13 metre tall carry ...  \n",
       "3  berlin rightful owner dinosaur remains natural...  \n",
       "4  dinosaur tendaguru ninaaz ninaaz » free servic...  "
      ]
     },
     "execution_count": 26,
     "metadata": {},
     "output_type": "execute_result"
    }
   ],
   "source": [
    "tendaguru_news.head()"
   ]
  },
  {
   "cell_type": "code",
   "execution_count": 27,
   "id": "527d0983-1e93-4f40-aeb0-b937b4176df6",
   "metadata": {},
   "outputs": [],
   "source": [
    "withDate = tendaguru_news.dropna()"
   ]
  },
  {
   "cell_type": "code",
   "execution_count": 29,
   "id": "7a38f0fb-6f4c-4f0b-8d08-97155449c344",
   "metadata": {},
   "outputs": [
    {
     "name": "stderr",
     "output_type": "stream",
     "text": [
      "<ipython-input-29-27dfb6e1900f>:1: SettingWithCopyWarning: \n",
      "A value is trying to be set on a copy of a slice from a DataFrame.\n",
      "Try using .loc[row_indexer,col_indexer] = value instead\n",
      "\n",
      "See the caveats in the documentation: https://pandas.pydata.org/pandas-docs/stable/user_guide/indexing.html#returning-a-view-versus-a-copy\n",
      "  withDate['year'] = withDate.html_date.apply(lambda x:x[:4])\n"
     ]
    }
   ],
   "source": [
    "withDate['year'] = withDate.html_date.apply(lambda x:x[:4])"
   ]
  },
  {
   "cell_type": "code",
   "execution_count": 56,
   "id": "c9e70326-24a7-4c90-9c3f-d55bfb93f594",
   "metadata": {},
   "outputs": [
    {
     "data": {
      "text/html": [
       "<div>\n",
       "<style scoped>\n",
       "    .dataframe tbody tr th:only-of-type {\n",
       "        vertical-align: middle;\n",
       "    }\n",
       "\n",
       "    .dataframe tbody tr th {\n",
       "        vertical-align: top;\n",
       "    }\n",
       "\n",
       "    .dataframe thead th {\n",
       "        text-align: right;\n",
       "    }\n",
       "</style>\n",
       "<table border=\"1\" class=\"dataframe\">\n",
       "  <thead>\n",
       "    <tr style=\"text-align: right;\">\n",
       "      <th></th>\n",
       "      <th>Unnamed: 0</th>\n",
       "      <th>title</th>\n",
       "      <th>link</th>\n",
       "      <th>text</th>\n",
       "      <th>html_date</th>\n",
       "      <th>text_len</th>\n",
       "      <th>lemma_text</th>\n",
       "    </tr>\n",
       "    <tr>\n",
       "      <th>year</th>\n",
       "      <th></th>\n",
       "      <th></th>\n",
       "      <th></th>\n",
       "      <th></th>\n",
       "      <th></th>\n",
       "      <th></th>\n",
       "      <th></th>\n",
       "    </tr>\n",
       "  </thead>\n",
       "  <tbody>\n",
       "    <tr>\n",
       "      <th>1995</th>\n",
       "      <td>2</td>\n",
       "      <td>2</td>\n",
       "      <td>2</td>\n",
       "      <td>2</td>\n",
       "      <td>2</td>\n",
       "      <td>2</td>\n",
       "      <td>2</td>\n",
       "    </tr>\n",
       "    <tr>\n",
       "      <th>2012</th>\n",
       "      <td>1</td>\n",
       "      <td>1</td>\n",
       "      <td>1</td>\n",
       "      <td>1</td>\n",
       "      <td>1</td>\n",
       "      <td>1</td>\n",
       "      <td>1</td>\n",
       "    </tr>\n",
       "    <tr>\n",
       "      <th>2013</th>\n",
       "      <td>1</td>\n",
       "      <td>1</td>\n",
       "      <td>1</td>\n",
       "      <td>1</td>\n",
       "      <td>1</td>\n",
       "      <td>1</td>\n",
       "      <td>1</td>\n",
       "    </tr>\n",
       "    <tr>\n",
       "      <th>2016</th>\n",
       "      <td>1</td>\n",
       "      <td>1</td>\n",
       "      <td>1</td>\n",
       "      <td>1</td>\n",
       "      <td>1</td>\n",
       "      <td>1</td>\n",
       "      <td>1</td>\n",
       "    </tr>\n",
       "    <tr>\n",
       "      <th>2017</th>\n",
       "      <td>2</td>\n",
       "      <td>2</td>\n",
       "      <td>2</td>\n",
       "      <td>2</td>\n",
       "      <td>2</td>\n",
       "      <td>2</td>\n",
       "      <td>2</td>\n",
       "    </tr>\n",
       "    <tr>\n",
       "      <th>2018</th>\n",
       "      <td>3</td>\n",
       "      <td>3</td>\n",
       "      <td>3</td>\n",
       "      <td>3</td>\n",
       "      <td>3</td>\n",
       "      <td>3</td>\n",
       "      <td>3</td>\n",
       "    </tr>\n",
       "    <tr>\n",
       "      <th>2019</th>\n",
       "      <td>10</td>\n",
       "      <td>10</td>\n",
       "      <td>10</td>\n",
       "      <td>10</td>\n",
       "      <td>10</td>\n",
       "      <td>10</td>\n",
       "      <td>10</td>\n",
       "    </tr>\n",
       "    <tr>\n",
       "      <th>2020</th>\n",
       "      <td>10</td>\n",
       "      <td>10</td>\n",
       "      <td>10</td>\n",
       "      <td>10</td>\n",
       "      <td>10</td>\n",
       "      <td>10</td>\n",
       "      <td>10</td>\n",
       "    </tr>\n",
       "    <tr>\n",
       "      <th>2021</th>\n",
       "      <td>23</td>\n",
       "      <td>23</td>\n",
       "      <td>23</td>\n",
       "      <td>23</td>\n",
       "      <td>23</td>\n",
       "      <td>23</td>\n",
       "      <td>23</td>\n",
       "    </tr>\n",
       "  </tbody>\n",
       "</table>\n",
       "</div>"
      ],
      "text/plain": [
       "      Unnamed: 0  title  link  text  html_date  text_len  lemma_text\n",
       "year                                                                \n",
       "1995           2      2     2     2          2         2           2\n",
       "2012           1      1     1     1          1         1           1\n",
       "2013           1      1     1     1          1         1           1\n",
       "2016           1      1     1     1          1         1           1\n",
       "2017           2      2     2     2          2         2           2\n",
       "2018           3      3     3     3          3         3           3\n",
       "2019          10     10    10    10         10        10          10\n",
       "2020          10     10    10    10         10        10          10\n",
       "2021          23     23    23    23         23        23          23"
      ]
     },
     "execution_count": 56,
     "metadata": {},
     "output_type": "execute_result"
    }
   ],
   "source": [
    "withDate.groupby('year').count()"
   ]
  },
  {
   "cell_type": "code",
   "execution_count": 37,
   "id": "cc734af3-1c6e-4145-8492-0cdae72bd007",
   "metadata": {},
   "outputs": [],
   "source": [
    "import pylab as pl"
   ]
  },
  {
   "cell_type": "code",
   "execution_count": 79,
   "id": "197134e8-8893-442a-9544-3b264041fab6",
   "metadata": {},
   "outputs": [
    {
     "data": {
      "image/png": "[encoded data removed]",
      "text/plain": [
       "<Figure size 432x288 with 1 Axes>"
      ]
     },
     "metadata": {
      "needs_background": "light"
     },
     "output_type": "display_data"
    }
   ],
   "source": [
    "withDate.groupby('year').count()['title'].plot(kind=\"bar\")\n",
    "pl.suptitle(\"Google news (Tendaguru Dinasaurs)\")\n",
    "plt.savefig('../viz_images/GoogleNews_tendaguru.png')"
   ]
  },
  {
   "cell_type": "markdown",
   "id": "cd08ee50-e5d8-4b05-b702-fe9337031d61",
   "metadata": {},
   "source": [
    "## Emotion Bar"
   ]
  },
  {
   "cell_type": "code",
   "execution_count": 33,
   "id": "a51e1b2e-f2e2-4a61-b650-d9fdbc5ac342",
   "metadata": {},
   "outputs": [
    {
     "name": "stdout",
     "output_type": "stream",
     "text": [
      "time taken to clean tweets: 38.16046977043152s. Use the [clean_text] column to perform your analysis/modeling on\n"
     ]
    }
   ],
   "source": [
    "tendaguru_news = ct.clean_tweets(tendaguru_news,content='text',col_name='clean_text',\n",
    "                general_clean=True,lemma=True,stem=False,remove_tag=True,remove_mention=True,\n",
    "                remove_emoji=False, remove_stopword=True,min_length=2, untokenized_return=True\n",
    "                )"
   ]
  },
  {
   "cell_type": "code",
   "execution_count": 34,
   "id": "85f6977e-ebb5-43ad-832d-2e9c31576156",
   "metadata": {},
   "outputs": [
    {
     "name": "stderr",
     "output_type": "stream",
     "text": [
      "[nltk_data] Downloading package stopwords to C:\\Users\\Njabulo\n",
      "[nltk_data]     Magd\\AppData\\Roaming\\nltk_data...\n",
      "[nltk_data]   Package stopwords is already up-to-date!\n",
      "[nltk_data] Downloading package punkt to C:\\Users\\Njabulo\n",
      "[nltk_data]     Magd\\AppData\\Roaming\\nltk_data...\n",
      "[nltk_data]   Package punkt is already up-to-date!\n",
      "[nltk_data] Downloading package wordnet to C:\\Users\\Njabulo\n",
      "[nltk_data]     Magd\\AppData\\Roaming\\nltk_data...\n",
      "[nltk_data]   Package wordnet is already up-to-date!\n"
     ]
    }
   ],
   "source": [
    "import text2emotion as te"
   ]
  },
  {
   "cell_type": "code",
   "execution_count": 36,
   "id": "87ce4ba5-4662-458f-b303-14991e08512c",
   "metadata": {},
   "outputs": [],
   "source": [
    "tendaguru_news[\"emotion_dict\"] = tendaguru_news['clean_text'].apply(lambda x: te.get_emotion(x))"
   ]
  },
  {
   "cell_type": "code",
   "execution_count": 40,
   "id": "91ca667a-3ae4-45aa-816d-f9d19aafed7d",
   "metadata": {},
   "outputs": [],
   "source": [
    "from collections import Counter"
   ]
  },
  {
   "cell_type": "code",
   "execution_count": 41,
   "id": "d5215922-6ba4-455b-af15-3ad0a2ef2998",
   "metadata": {},
   "outputs": [],
   "source": [
    "tendaguru_news['emotion_counter'] = tendaguru_news['emotion_dict'].apply(lambda x: Counter(x))"
   ]
  },
  {
   "cell_type": "code",
   "execution_count": 42,
   "id": "2339a28f-d0d8-4315-b91f-41772be3cb47",
   "metadata": {},
   "outputs": [],
   "source": [
    "def normalize(d, target=100):\n",
    "   raw = sum(d.values())\n",
    "   factor = target/raw\n",
    "   return {key:value*factor for key,value in d.items()}"
   ]
  },
  {
   "cell_type": "code",
   "execution_count": 43,
   "id": "d5d96131-dbe5-48d3-a8be-421170fd0b54",
   "metadata": {},
   "outputs": [],
   "source": [
    "gg_emo_dict = normalize(tendaguru_news['emotion_counter'].sum())"
   ]
  },
  {
   "cell_type": "code",
   "execution_count": 80,
   "id": "374a06d5-5acc-4928-87ba-4e7cb9a3b80a",
   "metadata": {},
   "outputs": [
    {
     "data": {
      "image/png": "[encoded data removed]",
      "text/plain": [
       "<Figure size 432x288 with 1 Axes>"
      ]
     },
     "metadata": {
      "needs_background": "light"
     },
     "output_type": "display_data"
    }
   ],
   "source": [
    "plt.bar(gg_emo_dict.keys(), gg_emo_dict.values())\n",
    "pl.suptitle(\"News Emotions(Tendaguru Dinasaurs)\")\n",
    "plt.savefig('../viz_images/newsEmotions_tendaguru.png')"
   ]
  },
  {
   "cell_type": "code",
   "execution_count": 45,
   "id": "5586aa27-b7db-4874-b6b9-b82bb3ef9ec0",
   "metadata": {},
   "outputs": [
    {
     "data": {
      "text/html": [
       "<div>\n",
       "<style scoped>\n",
       "    .dataframe tbody tr th:only-of-type {\n",
       "        vertical-align: middle;\n",
       "    }\n",
       "\n",
       "    .dataframe tbody tr th {\n",
       "        vertical-align: top;\n",
       "    }\n",
       "\n",
       "    .dataframe thead th {\n",
       "        text-align: right;\n",
       "    }\n",
       "</style>\n",
       "<table border=\"1\" class=\"dataframe\">\n",
       "  <thead>\n",
       "    <tr style=\"text-align: right;\">\n",
       "      <th></th>\n",
       "      <th>Unnamed: 0</th>\n",
       "      <th>title</th>\n",
       "      <th>link</th>\n",
       "      <th>text</th>\n",
       "      <th>html_date</th>\n",
       "      <th>text_len</th>\n",
       "      <th>lemma_text</th>\n",
       "      <th>clean_text</th>\n",
       "      <th>emotion_dict</th>\n",
       "      <th>emotion_counter</th>\n",
       "    </tr>\n",
       "  </thead>\n",
       "  <tbody>\n",
       "    <tr>\n",
       "      <th>0</th>\n",
       "      <td>0</td>\n",
       "      <td>Dinosaurs of Tendaguru - Wikipedia</td>\n",
       "      <td>https://en.wikipedia.org/wiki/Dinosaurs_of_Ten...</td>\n",
       "      <td>Dinosaurs of Tendaguru Dinosaurs of Tendaguru[...</td>\n",
       "      <td>2021-02-12</td>\n",
       "      <td>7819</td>\n",
       "      <td>dinosaur tendaguru dinosaur tendaguru1 origina...</td>\n",
       "      <td>dinosaur tendaguru dinosaur tendaguru1 origina...</td>\n",
       "      <td>{'Happy': 0.11, 'Angry': 0.04, 'Surprise': 0.1...</td>\n",
       "      <td>{'Happy': 0.11, 'Angry': 0.04, 'Surprise': 0.1...</td>\n",
       "    </tr>\n",
       "    <tr>\n",
       "      <th>1</th>\n",
       "      <td>1</td>\n",
       "      <td>Tendaguru Formation - Wikipedia</td>\n",
       "      <td>https://en.wikipedia.org/wiki/Tendaguru_Formation</td>\n",
       "      <td>Tendaguru Formation |Tendaguru Formation| |Typ...</td>\n",
       "      <td>2021-06-15</td>\n",
       "      <td>36692</td>\n",
       "      <td>tendaguru formation tendaguru formation typege...</td>\n",
       "      <td>tendaguru formation tendaguru formation typege...</td>\n",
       "      <td>{'Happy': 0.08, 'Angry': 0.05, 'Surprise': 0.1...</td>\n",
       "      <td>{'Happy': 0.08, 'Angry': 0.05, 'Surprise': 0.1...</td>\n",
       "    </tr>\n",
       "    <tr>\n",
       "      <th>2</th>\n",
       "      <td>2</td>\n",
       "      <td>Germany moves slowly on returning museum exhib...</td>\n",
       "      <td>https://www.theguardian.com/world/2018/may/17/...</td>\n",
       "      <td>Berlin’s longest-standing African is 13 metres...</td>\n",
       "      <td>2018-05-17</td>\n",
       "      <td>5660</td>\n",
       "      <td>berlin long stand african 13 metre tall carry ...</td>\n",
       "      <td>berlin long stand african 13 metre tall carry ...</td>\n",
       "      <td>{'Happy': 0.08, 'Angry': 0.01, 'Surprise': 0.2...</td>\n",
       "      <td>{'Happy': 0.08, 'Angry': 0.01, 'Surprise': 0.2...</td>\n",
       "    </tr>\n",
       "    <tr>\n",
       "      <th>3</th>\n",
       "      <td>5</td>\n",
       "      <td>How the Berlin Natural History Museum is tackl...</td>\n",
       "      <td>https://www.berliner-zeitung.de/en/how-the-ber...</td>\n",
       "      <td>Berlin - Who are the rightful owners of the di...</td>\n",
       "      <td>2021-04-27</td>\n",
       "      <td>10423</td>\n",
       "      <td>berlin rightful owner dinosaur remains natural...</td>\n",
       "      <td>berlin rightful owner dinosaur remains natural...</td>\n",
       "      <td>{'Happy': 0.1, 'Angry': 0.04, 'Surprise': 0.16...</td>\n",
       "      <td>{'Happy': 0.1, 'Angry': 0.04, 'Surprise': 0.16...</td>\n",
       "    </tr>\n",
       "    <tr>\n",
       "      <th>4</th>\n",
       "      <td>6</td>\n",
       "      <td>Dinosaurs of Tendaguru - NiNa.Az</td>\n",
       "      <td>http://wikipedia.us.nina.az/wiki/Dinosaurs_of_...</td>\n",
       "      <td>Dinosaurs of Tendaguru NiNa.Az NiNa.Az » Free ...</td>\n",
       "      <td>2019-09-24</td>\n",
       "      <td>13918</td>\n",
       "      <td>dinosaur tendaguru ninaaz ninaaz » free servic...</td>\n",
       "      <td>dinosaur tendaguru ninaaz ninaaz » free servic...</td>\n",
       "      <td>{'Happy': 0.14, 'Angry': 0.02, 'Surprise': 0.1...</td>\n",
       "      <td>{'Happy': 0.14, 'Angry': 0.02, 'Surprise': 0.1...</td>\n",
       "    </tr>\n",
       "  </tbody>\n",
       "</table>\n",
       "</div>"
      ],
      "text/plain": [
       "   Unnamed: 0                                              title  \\\n",
       "0           0                 Dinosaurs of Tendaguru - Wikipedia   \n",
       "1           1                    Tendaguru Formation - Wikipedia   \n",
       "2           2  Germany moves slowly on returning museum exhib...   \n",
       "3           5  How the Berlin Natural History Museum is tackl...   \n",
       "4           6                   Dinosaurs of Tendaguru - NiNa.Az   \n",
       "\n",
       "                                                link  \\\n",
       "0  https://en.wikipedia.org/wiki/Dinosaurs_of_Ten...   \n",
       "1  https://en.wikipedia.org/wiki/Tendaguru_Formation   \n",
       "2  https://www.theguardian.com/world/2018/may/17/...   \n",
       "3  https://www.berliner-zeitung.de/en/how-the-ber...   \n",
       "4  http://wikipedia.us.nina.az/wiki/Dinosaurs_of_...   \n",
       "\n",
       "                                                text   html_date  text_len  \\\n",
       "0  Dinosaurs of Tendaguru Dinosaurs of Tendaguru[...  2021-02-12      7819   \n",
       "1  Tendaguru Formation |Tendaguru Formation| |Typ...  2021-06-15     36692   \n",
       "2  Berlin’s longest-standing African is 13 metres...  2018-05-17      5660   \n",
       "3  Berlin - Who are the rightful owners of the di...  2021-04-27     10423   \n",
       "4  Dinosaurs of Tendaguru NiNa.Az NiNa.Az » Free ...  2019-09-24     13918   \n",
       "\n",
       "                                          lemma_text  \\\n",
       "0  dinosaur tendaguru dinosaur tendaguru1 origina...   \n",
       "1  tendaguru formation tendaguru formation typege...   \n",
       "2  berlin long stand african 13 metre tall carry ...   \n",
       "3  berlin rightful owner dinosaur remains natural...   \n",
       "4  dinosaur tendaguru ninaaz ninaaz » free servic...   \n",
       "\n",
       "                                          clean_text  \\\n",
       "0  dinosaur tendaguru dinosaur tendaguru1 origina...   \n",
       "1  tendaguru formation tendaguru formation typege...   \n",
       "2  berlin long stand african 13 metre tall carry ...   \n",
       "3  berlin rightful owner dinosaur remains natural...   \n",
       "4  dinosaur tendaguru ninaaz ninaaz » free servic...   \n",
       "\n",
       "                                        emotion_dict  \\\n",
       "0  {'Happy': 0.11, 'Angry': 0.04, 'Surprise': 0.1...   \n",
       "1  {'Happy': 0.08, 'Angry': 0.05, 'Surprise': 0.1...   \n",
       "2  {'Happy': 0.08, 'Angry': 0.01, 'Surprise': 0.2...   \n",
       "3  {'Happy': 0.1, 'Angry': 0.04, 'Surprise': 0.16...   \n",
       "4  {'Happy': 0.14, 'Angry': 0.02, 'Surprise': 0.1...   \n",
       "\n",
       "                                     emotion_counter  \n",
       "0  {'Happy': 0.11, 'Angry': 0.04, 'Surprise': 0.1...  \n",
       "1  {'Happy': 0.08, 'Angry': 0.05, 'Surprise': 0.1...  \n",
       "2  {'Happy': 0.08, 'Angry': 0.01, 'Surprise': 0.2...  \n",
       "3  {'Happy': 0.1, 'Angry': 0.04, 'Surprise': 0.16...  \n",
       "4  {'Happy': 0.14, 'Angry': 0.02, 'Surprise': 0.1...  "
      ]
     },
     "execution_count": 45,
     "metadata": {},
     "output_type": "execute_result"
    }
   ],
   "source": [
    "tendaguru_news.head()"
   ]
  },
  {
   "cell_type": "code",
   "execution_count": 55,
   "id": "6dcbf961-1307-4785-9840-272508fb7a21",
   "metadata": {},
   "outputs": [
    {
     "data": {
      "text/plain": [
       "0.54"
      ]
     },
     "execution_count": 55,
     "metadata": {},
     "output_type": "execute_result"
    }
   ],
   "source": [
    "max(tendaguru_news.iloc[0]['emotion_counter'].values())"
   ]
  },
  {
   "cell_type": "code",
   "execution_count": null,
   "id": "0742bd9e-3f9b-49fb-8681-2bf8428fe3af",
   "metadata": {},
   "outputs": [],
   "source": []
  }
 ],
 "metadata": {
  "kernelspec": {
   "display_name": "Python 3",
   "language": "python",
   "name": "python3"
  },
  "language_info": {
   "codemirror_mode": {
    "name": "ipython",
    "version": 3
   },
   "file_extension": ".py",
   "mimetype": "text/x-python",
   "name": "python",
   "nbconvert_exporter": "python",
   "pygments_lexer": "ipython3",
   "version": "3.8.8"
  }
 },
 "nbformat": 4,
 "nbformat_minor": 5
}
