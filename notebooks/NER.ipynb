{
 "cells": [
  {
   "cell_type": "markdown",
   "id": "9855fe2a-75d7-4cc7-a48b-e230b366551d",
   "metadata": {},
   "source": [
    "##### Import packages"
   ]
  },
  {
   "cell_type": "code",
   "execution_count": 2,
   "id": "b650f78e-bef5-4d5b-91b6-b13f2bd7af8a",
   "metadata": {},
   "outputs": [],
   "source": [
    "import pandas as pd\n",
    "import spacy \n",
    "from spacy import displacy"
   ]
  },
  {
   "cell_type": "code",
   "execution_count": 3,
   "id": "3adf7167-ca8c-49b9-b5e6-d1b2c433c778",
   "metadata": {},
   "outputs": [],
   "source": [
    "# !pip install https://github.com/explosion/spacy-models/releases/download/en_core_web_sm-2.2.0/en_core_web_sm-2.2.0.tar.gz"
   ]
  },
  {
   "cell_type": "markdown",
   "id": "4da61ab6-b7ec-46d0-9212-11d8d6626d25",
   "metadata": {},
   "source": [
    "##### Load spacy model"
   ]
  },
  {
   "cell_type": "code",
   "execution_count": 4,
   "id": "1659e2ab-8f37-4b3c-8330-36d757013266",
   "metadata": {},
   "outputs": [],
   "source": [
    "nlp = spacy.load(\"en_core_web_sm\")"
   ]
  },
  {
   "cell_type": "markdown",
   "id": "db15559e-a0a5-43aa-8908-d1454a90eec4",
   "metadata": {},
   "source": [
    "##### Test NER on random data"
   ]
  },
  {
   "cell_type": "markdown",
   "id": "03ed2fce-16fa-4dd7-ac29-be2f2efa97bc",
   "metadata": {},
   "source": [
    "Link to Spacy Named Entity documentation: https://spacy.io/usage/linguistic-features#named-entities"
   ]
  },
  {
   "cell_type": "code",
   "execution_count": 5,
   "id": "53a25ba2-a323-4adf-97fe-87e8d84e8510",
   "metadata": {},
   "outputs": [],
   "source": [
    "text = \"Apple acquired Zoom in China on Wednesday 6th May 2020.\\\n",
    "This news has made Apple and Google stock jump by 5% on Dow Jones Index in the \\\n",
    "United States of America\""
   ]
  },
  {
   "cell_type": "code",
   "execution_count": 6,
   "id": "7ec9c733-4fea-488f-b139-3461c4d7d022",
   "metadata": {},
   "outputs": [
    {
     "data": {
      "text/html": [
       "<div>\n",
       "<style scoped>\n",
       "    .dataframe tbody tr th:only-of-type {\n",
       "        vertical-align: middle;\n",
       "    }\n",
       "\n",
       "    .dataframe tbody tr th {\n",
       "        vertical-align: top;\n",
       "    }\n",
       "\n",
       "    .dataframe thead th {\n",
       "        text-align: right;\n",
       "    }\n",
       "</style>\n",
       "<table border=\"1\" class=\"dataframe\">\n",
       "  <thead>\n",
       "    <tr style=\"text-align: right;\">\n",
       "      <th></th>\n",
       "      <th>Entities</th>\n",
       "      <th>Labels</th>\n",
       "      <th>Position_Start</th>\n",
       "      <th>Position_End</th>\n",
       "    </tr>\n",
       "  </thead>\n",
       "  <tbody>\n",
       "    <tr>\n",
       "      <th>0</th>\n",
       "      <td>(Apple)</td>\n",
       "      <td>ORG</td>\n",
       "      <td>0</td>\n",
       "      <td>5</td>\n",
       "    </tr>\n",
       "    <tr>\n",
       "      <th>1</th>\n",
       "      <td>(Zoom)</td>\n",
       "      <td>ORG</td>\n",
       "      <td>15</td>\n",
       "      <td>19</td>\n",
       "    </tr>\n",
       "    <tr>\n",
       "      <th>2</th>\n",
       "      <td>(China)</td>\n",
       "      <td>GPE</td>\n",
       "      <td>23</td>\n",
       "      <td>28</td>\n",
       "    </tr>\n",
       "    <tr>\n",
       "      <th>3</th>\n",
       "      <td>(Wednesday, 6th)</td>\n",
       "      <td>DATE</td>\n",
       "      <td>32</td>\n",
       "      <td>45</td>\n",
       "    </tr>\n",
       "    <tr>\n",
       "      <th>4</th>\n",
       "      <td>(May)</td>\n",
       "      <td>DATE</td>\n",
       "      <td>46</td>\n",
       "      <td>49</td>\n",
       "    </tr>\n",
       "    <tr>\n",
       "      <th>5</th>\n",
       "      <td>(Apple)</td>\n",
       "      <td>ORG</td>\n",
       "      <td>74</td>\n",
       "      <td>79</td>\n",
       "    </tr>\n",
       "    <tr>\n",
       "      <th>6</th>\n",
       "      <td>(Google)</td>\n",
       "      <td>NORP</td>\n",
       "      <td>84</td>\n",
       "      <td>90</td>\n",
       "    </tr>\n",
       "    <tr>\n",
       "      <th>7</th>\n",
       "      <td>(5, %)</td>\n",
       "      <td>PERCENT</td>\n",
       "      <td>105</td>\n",
       "      <td>107</td>\n",
       "    </tr>\n",
       "    <tr>\n",
       "      <th>8</th>\n",
       "      <td>(Dow, Jones)</td>\n",
       "      <td>ORG</td>\n",
       "      <td>111</td>\n",
       "      <td>120</td>\n",
       "    </tr>\n",
       "    <tr>\n",
       "      <th>9</th>\n",
       "      <td>(the, United, States, of, America)</td>\n",
       "      <td>GPE</td>\n",
       "      <td>130</td>\n",
       "      <td>158</td>\n",
       "    </tr>\n",
       "  </tbody>\n",
       "</table>\n",
       "</div>"
      ],
      "text/plain": [
       "                             Entities   Labels  Position_Start  Position_End\n",
       "0                             (Apple)      ORG               0             5\n",
       "1                              (Zoom)      ORG              15            19\n",
       "2                             (China)      GPE              23            28\n",
       "3                    (Wednesday, 6th)     DATE              32            45\n",
       "4                               (May)     DATE              46            49\n",
       "5                             (Apple)      ORG              74            79\n",
       "6                            (Google)     NORP              84            90\n",
       "7                              (5, %)  PERCENT             105           107\n",
       "8                        (Dow, Jones)      ORG             111           120\n",
       "9  (the, United, States, of, America)      GPE             130           158"
      ]
     },
     "execution_count": 6,
     "metadata": {},
     "output_type": "execute_result"
    }
   ],
   "source": [
    "def NER(text):\n",
    "    \"\"\"Takes in a string of text and returns a dataframe of all named entities\n",
    "    \n",
    "        Args:\n",
    "            :param text: string, a string containing entire corpus\n",
    "    \"\"\"\n",
    "    nlp = spacy.load(\"en_core_web_sm\")\n",
    "    doc = nlp(text)\n",
    "\n",
    "    entities = []\n",
    "    labels = []\n",
    "    position_start = []\n",
    "    position_end = []\n",
    "\n",
    "    for ent in doc.ents:\n",
    "        entities.append(ent)\n",
    "        labels.append(ent.label_)\n",
    "        position_start.append(ent.start_char)\n",
    "        position_end.append(ent.end_char)\n",
    "\n",
    "    df = pd.DataFrame({'Entities':entities,'Labels':labels,'Position_Start':position_start, 'Position_End':position_end})\n",
    "\n",
    "    return df\n",
    "\n",
    "NER(text)"
   ]
  },
  {
   "cell_type": "code",
   "execution_count": 7,
   "id": "51adc006-6982-4de8-8132-a783ad491501",
   "metadata": {},
   "outputs": [
    {
     "data": {
      "text/plain": [
       "'Nationalities or religious or political groups'"
      ]
     },
     "execution_count": 7,
     "metadata": {},
     "output_type": "execute_result"
    }
   ],
   "source": [
    "# Can use explain method for any label you don't understand\n",
    "spacy.explain(\"NORP\")"
   ]
  },
  {
   "cell_type": "markdown",
   "id": "5a1483b6-b81a-467e-b272-7ea90e37bf89",
   "metadata": {},
   "source": [
    "##### Import dataset"
   ]
  },
  {
   "cell_type": "code",
   "execution_count": 9,
   "id": "45c4a2b0-efcd-44a6-8efe-9a7085275dc5",
   "metadata": {},
   "outputs": [],
   "source": [
    "benin_bronze = pd.read_json('../data/benin-bronze.json', lines=True)\n",
    "benin_bronzes = pd.read_json('../data/benin-bronzes.json', lines=True)"
   ]
  },
  {
   "cell_type": "markdown",
   "id": "69cfd0b1-0e22-4b38-96f5-228327a7accc",
   "metadata": {},
   "source": [
    "##### Concat the 2 datasets"
   ]
  },
  {
   "cell_type": "code",
   "execution_count": 10,
   "id": "d858c8ef-b7d3-4822-8a6f-081799815596",
   "metadata": {},
   "outputs": [
    {
     "data": {
      "text/plain": [
       "(16374, 28)"
      ]
     },
     "execution_count": 10,
     "metadata": {},
     "output_type": "execute_result"
    }
   ],
   "source": [
    "bb_df = pd.concat([benin_bronze, benin_bronzes])\n",
    "bb_df.shape"
   ]
  },
  {
   "cell_type": "code",
   "execution_count": 11,
   "id": "b349aaae-8af1-4233-9221-b1b5220c64fb",
   "metadata": {},
   "outputs": [
    {
     "data": {
      "text/plain": [
       "1121    University of Aberdeen to return Benin bronze ...\n",
       "8920    Hold up!😳 So British curators want to \"loan\" N...\n",
       "4282    Stupid debate! The Benin Bronze BELONGS TO THE...\n",
       "5417    @MorticiaAddie Even the Benin bronzes which th...\n",
       "5910    Cambridge college's Stolen Benin bronze cocker...\n",
       "6686    So they still haven’t returned the benin bronz...\n",
       "9546    Western museums try to forge deal with west Af...\n",
       "2294    African Benin Bronze cats/Royal leopards https...\n",
       "7098    Philadelphia Museum Director Offers Apologies,...\n",
       "5198    The British Museum will return bronze sculptur...\n",
       "Name: content, dtype: object"
      ]
     },
     "execution_count": 11,
     "metadata": {},
     "output_type": "execute_result"
    }
   ],
   "source": [
    "bb_df.content.sample(10)"
   ]
  },
  {
   "cell_type": "markdown",
   "id": "a1436f57-f0c9-4ee1-8a81-2aa0449c98dc",
   "metadata": {},
   "source": [
    "##### Join content column into a single string corpus"
   ]
  },
  {
   "cell_type": "code",
   "execution_count": 15,
   "id": "efc598eb-9790-4b3d-b61d-75e558766804",
   "metadata": {},
   "outputs": [],
   "source": [
    "# prepaaring data for NER function\n",
    "corpus = ''.join(list(bb_df.content))"
   ]
  },
  {
   "cell_type": "code",
   "execution_count": 18,
   "id": "79f024a1-f1ca-4967-a7e6-cb94c59c9da8",
   "metadata": {},
   "outputs": [
    {
     "data": {
      "text/plain": [
       "2657106"
      ]
     },
     "execution_count": 18,
     "metadata": {},
     "output_type": "execute_result"
    }
   ],
   "source": [
    "len(corpus)"
   ]
  },
  {
   "cell_type": "markdown",
   "id": "5ebfdd42-4607-494e-82b4-307632ace77d",
   "metadata": {},
   "source": [
    "Note: I didn't clean the content column because I was worried about removing some of the mentioned entities."
   ]
  },
  {
   "cell_type": "markdown",
   "id": "09e948fa-8553-481a-91b4-1a2de3bdc674",
   "metadata": {},
   "source": [
    "##### Run the NER (named entity recognition) function"
   ]
  },
  {
   "cell_type": "markdown",
   "id": "5d08f40c-f754-44e4-bfcf-bf59830f1241",
   "metadata": {},
   "source": [
    "Currently investigating how to solve the spacy limitation that len(text) <= 1 000 000, if greater than 1 000 000 we run into memory error."
   ]
  },
  {
   "cell_type": "code",
   "execution_count": 19,
   "id": "b9bc0ee0-655c-4006-b31d-b52e9d515d6d",
   "metadata": {},
   "outputs": [
    {
     "data": {
      "text/html": [
       "<div>\n",
       "<style scoped>\n",
       "    .dataframe tbody tr th:only-of-type {\n",
       "        vertical-align: middle;\n",
       "    }\n",
       "\n",
       "    .dataframe tbody tr th {\n",
       "        vertical-align: top;\n",
       "    }\n",
       "\n",
       "    .dataframe thead th {\n",
       "        text-align: right;\n",
       "    }\n",
       "</style>\n",
       "<table border=\"1\" class=\"dataframe\">\n",
       "  <thead>\n",
       "    <tr style=\"text-align: right;\">\n",
       "      <th></th>\n",
       "      <th>Entities</th>\n",
       "      <th>Labels</th>\n",
       "      <th>Position_Start</th>\n",
       "      <th>Position_End</th>\n",
       "    </tr>\n",
       "  </thead>\n",
       "  <tbody>\n",
       "    <tr>\n",
       "      <th>0</th>\n",
       "      <td>(Benin, Kingdom)</td>\n",
       "      <td>GPE</td>\n",
       "      <td>15</td>\n",
       "      <td>28</td>\n",
       "    </tr>\n",
       "    <tr>\n",
       "      <th>1</th>\n",
       "      <td>(Nigeria)</td>\n",
       "      <td>GPE</td>\n",
       "      <td>32</td>\n",
       "      <td>39</td>\n",
       "    </tr>\n",
       "    <tr>\n",
       "      <th>2</th>\n",
       "      <td>(today)</td>\n",
       "      <td>DATE</td>\n",
       "      <td>177</td>\n",
       "      <td>182</td>\n",
       "    </tr>\n",
       "    <tr>\n",
       "      <th>3</th>\n",
       "      <td>(Museum)</td>\n",
       "      <td>ORG</td>\n",
       "      <td>194</td>\n",
       "      <td>200</td>\n",
       "    </tr>\n",
       "    <tr>\n",
       "      <th>4</th>\n",
       "      <td>(Germany)</td>\n",
       "      <td>GPE</td>\n",
       "      <td>223</td>\n",
       "      <td>230</td>\n",
       "    </tr>\n",
       "    <tr>\n",
       "      <th>...</th>\n",
       "      <td>...</td>\n",
       "      <td>...</td>\n",
       "      <td>...</td>\n",
       "      <td>...</td>\n",
       "    </tr>\n",
       "    <tr>\n",
       "      <th>19609</th>\n",
       "      <td>(https://t.co/EpyLNQdyT5German)</td>\n",
       "      <td>ORG</td>\n",
       "      <td>999392</td>\n",
       "      <td>999421</td>\n",
       "    </tr>\n",
       "    <tr>\n",
       "      <th>19610</th>\n",
       "      <td>(https://t.co/005sEOv1Bq)</td>\n",
       "      <td>GPE</td>\n",
       "      <td>999629</td>\n",
       "      <td>999652</td>\n",
       "    </tr>\n",
       "    <tr>\n",
       "      <th>19611</th>\n",
       "      <td>(GermanyInAfrica)</td>\n",
       "      <td>GPE</td>\n",
       "      <td>999654</td>\n",
       "      <td>999669</td>\n",
       "    </tr>\n",
       "    <tr>\n",
       "      <th>19612</th>\n",
       "      <td>(#)</td>\n",
       "      <td>CARDINAL</td>\n",
       "      <td>999670</td>\n",
       "      <td>999671</td>\n",
       "    </tr>\n",
       "    <tr>\n",
       "      <th>19613</th>\n",
       "      <td>(BeninBronzes)</td>\n",
       "      <td>ORG</td>\n",
       "      <td>999671</td>\n",
       "      <td>999683</td>\n",
       "    </tr>\n",
       "  </tbody>\n",
       "</table>\n",
       "<p>19614 rows × 4 columns</p>\n",
       "</div>"
      ],
      "text/plain": [
       "                              Entities    Labels  Position_Start  Position_End\n",
       "0                     (Benin, Kingdom)       GPE              15            28\n",
       "1                            (Nigeria)       GPE              32            39\n",
       "2                              (today)      DATE             177           182\n",
       "3                             (Museum)       ORG             194           200\n",
       "4                            (Germany)       GPE             223           230\n",
       "...                                ...       ...             ...           ...\n",
       "19609  (https://t.co/EpyLNQdyT5German)       ORG          999392        999421\n",
       "19610        (https://t.co/005sEOv1Bq)       GPE          999629        999652\n",
       "19611                (GermanyInAfrica)       GPE          999654        999669\n",
       "19612                              (#)  CARDINAL          999670        999671\n",
       "19613                   (BeninBronzes)       ORG          999671        999683\n",
       "\n",
       "[19614 rows x 4 columns]"
      ]
     },
     "execution_count": 19,
     "metadata": {},
     "output_type": "execute_result"
    }
   ],
   "source": [
    "NER(corpus[:1000000])"
   ]
  },
  {
   "cell_type": "code",
   "execution_count": 20,
   "id": "fc6e6133-bbfe-4a42-8216-37e5ee9ad33c",
   "metadata": {},
   "outputs": [],
   "source": [
    "from collections import Counter"
   ]
  },
  {
   "cell_type": "code",
   "execution_count": 22,
   "id": "fc92deda-5026-42fb-9572-885f3ae6513b",
   "metadata": {},
   "outputs": [
    {
     "data": {
      "text/plain": [
       "[('Nigeria', 3),\n",
       " ('Benin', 2),\n",
       " ('Germany', 2),\n",
       " ('Berlin', 1),\n",
       " ('UK', 1),\n",
       " ('https://t.co/R6I85PCgNwWas', 1),\n",
       " ('Ep7', 1),\n",
       " ('@DavidOlusoga', 1),\n",
       " ('Mexico', 1),\n",
       " ('German', 1),\n",
       " ('Benin City', 1),\n",
       " ('Monika Grütters', 1),\n",
       " ('Benin Bronzes', 1),\n",
       " ('16th century', 1),\n",
       " ('Benin kingdom', 1),\n",
       " ('today', 1),\n",
       " ('Ife Pays N24', 1),\n",
       " ('Bride Price', 1),\n",
       " ('UK museum', 1),\n",
       " ('Benin https://t.co/sdcLPVJjUu', 1),\n",
       " ('the Benin Bronzes', 1),\n",
       " ('150 years', 1),\n",
       " ('Nelson Mandela', 1),\n",
       " ('work?The British Museum', 1),\n",
       " ('European', 1),\n",
       " ('1897', 1),\n",
       " ('the kingdom of Benin', 1)]"
      ]
     },
     "execution_count": 22,
     "metadata": {},
     "output_type": "execute_result"
    }
   ],
   "source": [
    "items = [x.text for x in doc.ents]\n",
    "Counter(items).most_common(100)"
   ]
  },
  {
   "cell_type": "code",
   "execution_count": null,
   "id": "8d9785e3-ccd7-4145-9b2a-0b2cc3942ede",
   "metadata": {},
   "outputs": [],
   "source": []
  }
 ],
 "metadata": {
  "kernelspec": {
   "display_name": "Python 3",
   "language": "python",
   "name": "python3"
  },
  "language_info": {
   "codemirror_mode": {
    "name": "ipython",
    "version": 3
   },
   "file_extension": ".py",
   "mimetype": "text/x-python",
   "name": "python",
   "nbconvert_exporter": "python",
   "pygments_lexer": "ipython3",
   "version": "3.8.8"
  }
 },
 "nbformat": 4,
 "nbformat_minor": 5
}
