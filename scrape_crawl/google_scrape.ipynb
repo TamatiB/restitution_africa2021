{
 "cells": [
  {
   "cell_type": "code",
   "execution_count": 1,
   "id": "25200368",
   "metadata": {},
   "outputs": [],
   "source": [
    "import json"
   ]
  },
  {
   "cell_type": "code",
   "execution_count": 2,
   "id": "7dc2cc4a",
   "metadata": {},
   "outputs": [],
   "source": [
    "import base64\n",
    "import trafilatura"
   ]
  },
  {
   "cell_type": "code",
   "execution_count": 3,
   "id": "86271813",
   "metadata": {},
   "outputs": [],
   "source": [
    "import requests\n",
    "from bs4 import BeautifulSoup\n",
    "import re\n",
    "import urllib.parse\n",
    "from urllib.parse import urlparse\n",
    "\n",
    "from requests_html import HTML\n",
    "from requests_html import HTMLSession\n",
    "import pandas as pd"
   ]
  },
  {
   "cell_type": "code",
   "execution_count": 4,
   "id": "f20c33ac",
   "metadata": {},
   "outputs": [],
   "source": [
    "from htmldate import find_date"
   ]
  },
  {
   "cell_type": "code",
   "execution_count": 68,
   "id": "cfea5610",
   "metadata": {},
   "outputs": [],
   "source": [
    "from bs4 import BeautifulSoup\n",
    "import requests, urllib.parse\n",
    "import lxml\n",
    "\n",
    "def get_extracted_data_from_url(url):\n",
    "\n",
    "    headers = {\n",
    "        \"User-Agent\":\n",
    "        \"Mozilla/5.0 (Windows NT 10.0; Win64; x64) AppleWebKit/537.36 (KHTML, like Gecko) Chrome/70.0.3538.102 Safari/537.36 Edge/18.19582\"\n",
    "    }\n",
    "    response = requests.get(url, headers=headers).text\n",
    "\n",
    "    soup = BeautifulSoup(response, 'lxml')\n",
    "    articles = []\n",
    "    for container in soup.findAll('div', class_='tF2Cxc'):\n",
    "        article = {}\n",
    "        article['title'] = container.find('h3', class_='LC20lb DKV0Md').text\n",
    "        try:\n",
    "            article['datesum'] = container.find('span', class_='f').text\n",
    "        except AttributeError:\n",
    "            pass\n",
    "        article['link'] = container.a['href']\n",
    "        articles.append(article)\n",
    "\n",
    "    return articles, soup.select_one('a#pnnext')\n",
    "\n",
    "\n",
    "def scrape(query, next_page_node):\n",
    "    \n",
    "    if next_page_node is None:\n",
    "        articles, next_page_node = get_extracted_data_from_url(\n",
    "            'https://google.com/search?hl=en-US&q={}'.format(query))\n",
    "        data = articles\n",
    "    else:\n",
    "        data = []\n",
    "    \n",
    "    for i in range(15):\n",
    "        # scraping breaks beyond 15 pages at a time\n",
    "        try:\n",
    "            next_page_url = urllib.parse.urljoin('https://www.google.com', next_page_node['href'])\n",
    "            articles, next_page_node = get_extracted_data_from_url(next_page_url)\n",
    "            data = data+articles\n",
    "        except TypeError:\n",
    "            print('scraping stopped at {}th page'.format(i))\n",
    "            break\n",
    "    return data, next_page_node"
   ]
  },
  {
   "cell_type": "code",
   "execution_count": 37,
   "id": "9b4254de",
   "metadata": {},
   "outputs": [],
   "source": [
    "def get_source(url):\n",
    "    \"\"\"Return the source code for the provided URL. \n",
    "\n",
    "    Args: \n",
    "        url (string): URL of the page to scrape.\n",
    "\n",
    "    Returns:\n",
    "        response (object): HTTP response object from requests_html. \n",
    "    \"\"\"\n",
    "\n",
    "    try:\n",
    "        session = HTMLSession()\n",
    "        response = session.get(url)\n",
    "        return response\n",
    "\n",
    "    except requests.exceptions.RequestException as e:\n",
    "        print(e)"
   ]
  },
  {
   "cell_type": "code",
   "execution_count": 38,
   "id": "d04b1035",
   "metadata": {},
   "outputs": [],
   "source": [
    "# this seems to work for all, which is nice but need to get metadata as well\n",
    "\n",
    "def beautifulsoup_extract_text_fallback(response_content):\n",
    "    \n",
    "    '''\n",
    "    This is a fallback function, so that we can always return a value for text content.\n",
    "    Even for when both Trafilatura and BeautifulSoup are unable to extract the text from a \n",
    "    single URL.\n",
    "    '''\n",
    "    \n",
    "    # Create the beautifulsoup object:\n",
    "    soup = BeautifulSoup(response_content, 'html.parser')\n",
    "    \n",
    "    # Finding the text:\n",
    "    text = soup.find_all(text=True)\n",
    "    \n",
    "    # Remove unwanted tag elements:\n",
    "    cleaned_text = ''\n",
    "    blacklist = [\n",
    "        '[document]',\n",
    "        'noscript',\n",
    "        'header',\n",
    "        'html',\n",
    "        'meta',\n",
    "        'head', \n",
    "        'input',\n",
    "        'script',\n",
    "        'style',]\n",
    "\n",
    "    # Then we will loop over every item in the extract text and make sure that the beautifulsoup4 tag\n",
    "    # is NOT in the blacklist\n",
    "    for item in text:\n",
    "        if item.parent.name not in blacklist:\n",
    "            cleaned_text += '{} '.format(item)\n",
    "            \n",
    "    # Remove any tab separation and strip the text:\n",
    "    cleaned_text = cleaned_text.replace('\\t', '')\n",
    "    return cleaned_text.strip()\n",
    "    \n",
    "\n",
    "def extract_text_from_single_web_page(url):\n",
    "    \n",
    "    downloaded_url = trafilatura.fetch_url(url)\n",
    "    try:\n",
    "        a = trafilatura.extract(downloaded_url, output_format='json', with_metadata=True, include_comments = False,\n",
    "                            date_extraction_params={'extensive_search': True, 'original_date': True})\n",
    "    except AttributeError:\n",
    "        a = trafilatura.extract(downloaded_url, output_format='json', with_metadata=True,\n",
    "                            date_extraction_params={'extensive_search': True, 'original_date': True})\n",
    "    if a:\n",
    "        json_output = json.loads(a)\n",
    "        return json_output['text']\n",
    "        #return json_output\n",
    "    else:\n",
    "        try:\n",
    "            resp = requests.get(url)\n",
    "            # We will only extract the text from successful requests:\n",
    "            if resp.status_code == 200:\n",
    "                return beautifulsoup_extract_text_fallback(resp.content)\n",
    "            else:\n",
    "                # This line will handle for any failures in both the Trafilature and BeautifulSoup4 functions:\n",
    "                return np.nan\n",
    "        # Handling for any URLs that don't have the correct protocol\n",
    "        except MissingSchema:\n",
    "            return np.nan"
   ]
  },
  {
   "cell_type": "code",
   "execution_count": 135,
   "id": "9cf8fc2f",
   "metadata": {},
   "outputs": [],
   "source": [
    "def get_text_frm_url(x):\n",
    "    #ans = get_source(x)\n",
    "    #page_html = ans.content.decode(\"utf-8\")\n",
    "    #soup = BeautifulSoup(page_html, 'html.parser')\n",
    "    try:\n",
    "        text = extract_text_from_single_web_page(url=x)\n",
    "    except e:\n",
    "        text = None\n",
    "        print(x)\n",
    "        print(e)\n",
    "    return text"
   ]
  },
  {
   "cell_type": "code",
   "execution_count": 40,
   "id": "bd343528",
   "metadata": {},
   "outputs": [],
   "source": [
    "def get_html_date(x):\n",
    "    try:\n",
    "        date = find_date(x)\n",
    "        return date\n",
    "    except:\n",
    "        return None"
   ]
  },
  {
   "cell_type": "code",
   "execution_count": 41,
   "id": "484798b2",
   "metadata": {},
   "outputs": [],
   "source": [
    "#if its an important media cite it is likely to return these\n",
    "def get_more_meta(df):\n",
    "    \n",
    "    soup = BeautifulSoup(df['link'])\n",
    "    try:\n",
    "        data = json.loads(soup.find('script', type='application/ld+json').text)\n",
    "        datePublished = data['datePublished']\n",
    "        publisher = data['publisher']\n",
    "        author = data['author']\n",
    "        \n",
    "    except:\n",
    "        datePublished = 'unknown'\n",
    "        publisher = 'unknown'\n",
    "        author = 'unknown'\n",
    "    df['datePublished'] = datePublished\n",
    "    df['publisher'] = publisher\n",
    "    df['author'] = author\n",
    "    \n",
    "    return df"
   ]
  },
  {
   "cell_type": "markdown",
   "id": "b26d9381",
   "metadata": {},
   "source": [
    "# Get Google Search URLs"
   ]
  },
  {
   "cell_type": "markdown",
   "id": "248014ff",
   "metadata": {},
   "source": [
    "We dont want to scrape too many at the same time, so what we will do is 10 pages at a time and process them inbetween (fetch the article content) before we scrape google again for the next 10 pages"
   ]
  },
  {
   "cell_type": "code",
   "execution_count": 88,
   "id": "1f812530",
   "metadata": {},
   "outputs": [],
   "source": [
    "scraped, next_page_node = scrape('Benin Bronzes Restitution', None)"
   ]
  },
  {
   "cell_type": "code",
   "execution_count": 96,
   "id": "97a9771d",
   "metadata": {},
   "outputs": [],
   "source": [
    "scraped2, next_page_node = scrape('Benin Bronzes Restitution', next_page_node)"
   ]
  },
  {
   "cell_type": "code",
   "execution_count": 97,
   "id": "adf46530",
   "metadata": {},
   "outputs": [],
   "source": [
    "scraped = scraped + scraped2"
   ]
  },
  {
   "cell_type": "code",
   "execution_count": 81,
   "id": "d65431e0",
   "metadata": {},
   "outputs": [],
   "source": [
    "df = pd.DataFrame(scraped)"
   ]
  },
  {
   "cell_type": "markdown",
   "id": "9953d2e1",
   "metadata": {},
   "source": [
    "## Check for duplicate article links in the scrape and remove them"
   ]
  },
  {
   "cell_type": "code",
   "execution_count": 82,
   "id": "83d49993",
   "metadata": {},
   "outputs": [
    {
     "data": {
      "text/plain": [
       "(1760, 2)"
      ]
     },
     "execution_count": 82,
     "metadata": {},
     "output_type": "execute_result"
    }
   ],
   "source": [
    "df.shape"
   ]
  },
  {
   "cell_type": "code",
   "execution_count": 83,
   "id": "9e0f7aeb",
   "metadata": {},
   "outputs": [],
   "source": [
    "deduped = df.drop_duplicates()"
   ]
  },
  {
   "cell_type": "code",
   "execution_count": 84,
   "id": "87854ed9",
   "metadata": {},
   "outputs": [
    {
     "data": {
      "text/plain": [
       "(172, 2)"
      ]
     },
     "execution_count": 84,
     "metadata": {},
     "output_type": "execute_result"
    }
   ],
   "source": [
    "deduped.shape"
   ]
  },
  {
   "cell_type": "markdown",
   "id": "fca620ab",
   "metadata": {},
   "source": [
    "We scraped lots of pages but a lot of the search results were the same article. If it were not the same article, the google search title and link to article would not be the same"
   ]
  },
  {
   "cell_type": "code",
   "execution_count": 87,
   "id": "36b9db71",
   "metadata": {},
   "outputs": [],
   "source": [
    "#write to file so we dont lose them\n",
    "deduped.to_csv(\"bb_google_titlelink172.csv\")"
   ]
  },
  {
   "cell_type": "markdown",
   "id": "318d0ca6",
   "metadata": {},
   "source": [
    "# Get Article content and dates and extra info if possible"
   ]
  },
  {
   "cell_type": "markdown",
   "id": "aaf75098",
   "metadata": {},
   "source": [
    "So when I tried to run the 140 result df, it broke and I gor nothing. So I am being extra careful running everything piece by piece so that it will work. First I divided the df into 9 bits (groups of 20). The first run did not take long at all for the zero df, will see how the others go"
   ]
  },
  {
   "cell_type": "code",
   "execution_count": 101,
   "id": "5478335e",
   "metadata": {},
   "outputs": [],
   "source": [
    "import numpy as np"
   ]
  },
  {
   "cell_type": "code",
   "execution_count": 48,
   "id": "0b05a2b0",
   "metadata": {},
   "outputs": [],
   "source": [
    "df = deduped"
   ]
  },
  {
   "cell_type": "code",
   "execution_count": 103,
   "id": "4ba6a7a3",
   "metadata": {},
   "outputs": [],
   "source": [
    "n = 20\n",
    "dfs = []\n",
    "for g, df in deduped.groupby(np.arange(len(deduped)) // n):\n",
    "    dfs.append(df)"
   ]
  },
  {
   "cell_type": "code",
   "execution_count": 113,
   "id": "01c4408e",
   "metadata": {},
   "outputs": [
    {
     "data": {
      "text/plain": [
       "9"
      ]
     },
     "execution_count": 113,
     "metadata": {},
     "output_type": "execute_result"
    }
   ],
   "source": [
    "len(dfs)"
   ]
  },
  {
   "cell_type": "code",
   "execution_count": 136,
   "id": "eec7961b",
   "metadata": {},
   "outputs": [],
   "source": [
    "zero = dfs[6]\n",
    "zero['text'] = zero['link'].apply(lambda x: get_text_frm_url(x))\n",
    "zero['html_date'] = zero['link'].apply(lambda x: get_html_date(x))"
   ]
  },
  {
   "cell_type": "code",
   "execution_count": 138,
   "id": "366d70f4",
   "metadata": {},
   "outputs": [],
   "source": [
    "one = dfs[7]\n",
    "one['text'] = one['link'].apply(lambda x: get_text_frm_url(x))\n",
    "one['html_date'] = one['link'].apply(lambda x: get_html_date(x))"
   ]
  },
  {
   "cell_type": "code",
   "execution_count": 139,
   "id": "1f9bc5e2",
   "metadata": {},
   "outputs": [],
   "source": [
    "two = dfs[8]\n",
    "two['text'] = two['link'].apply(lambda x: get_text_frm_url(x))\n",
    "two['html_date'] = two['link'].apply(lambda x: get_html_date(x))"
   ]
  },
  {
   "cell_type": "code",
   "execution_count": 141,
   "id": "1422533d",
   "metadata": {},
   "outputs": [],
   "source": [
    "final_df = pd.concat([zero, one, two])"
   ]
  },
  {
   "cell_type": "code",
   "execution_count": 144,
   "id": "dfd34b67",
   "metadata": {},
   "outputs": [],
   "source": [
    "final_df.to_csv('bb_google_content172.csv')"
   ]
  },
  {
   "cell_type": "code",
   "execution_count": 145,
   "id": "b7c00dab",
   "metadata": {},
   "outputs": [
    {
     "data": {
      "text/html": [
       "<div>\n",
       "<style scoped>\n",
       "    .dataframe tbody tr th:only-of-type {\n",
       "        vertical-align: middle;\n",
       "    }\n",
       "\n",
       "    .dataframe tbody tr th {\n",
       "        vertical-align: top;\n",
       "    }\n",
       "\n",
       "    .dataframe thead th {\n",
       "        text-align: right;\n",
       "    }\n",
       "</style>\n",
       "<table border=\"1\" class=\"dataframe\">\n",
       "  <thead>\n",
       "    <tr style=\"text-align: right;\">\n",
       "      <th></th>\n",
       "      <th>title</th>\n",
       "      <th>link</th>\n",
       "      <th>text</th>\n",
       "      <th>date</th>\n",
       "      <th>html_date</th>\n",
       "    </tr>\n",
       "  </thead>\n",
       "  <tbody>\n",
       "    <tr>\n",
       "      <th>0</th>\n",
       "      <td>Benin Bronzes: Germany to return looted artefa...</td>\n",
       "      <td>https://www.bbc.com/news/world-africa-56949003</td>\n",
       "      <td>Benin Bronzes: Germany to return looted artefa...</td>\n",
       "      <td>2021-04-30</td>\n",
       "      <td>2021-04-30</td>\n",
       "    </tr>\n",
       "    <tr>\n",
       "      <th>1</th>\n",
       "      <td>Fate of looted Benin Bronzes intensifies debat...</td>\n",
       "      <td>https://www.ft.com/content/ee754d39-e171-4c36-...</td>\n",
       "      <td>Subscribe to read | Financial Times Accessibil...</td>\n",
       "      <td>2021-03-26</td>\n",
       "      <td>2021-03-26</td>\n",
       "    </tr>\n",
       "    <tr>\n",
       "      <th>2</th>\n",
       "      <td>Nigeria welcomes Germany′s decision to return ...</td>\n",
       "      <td>https://www.dw.com/en/nigeria-welcomes-germany...</td>\n",
       "      <td>German cultural and political leaders have rea...</td>\n",
       "      <td>2017-07-11</td>\n",
       "      <td>2017-07-11</td>\n",
       "    </tr>\n",
       "    <tr>\n",
       "      <th>3</th>\n",
       "      <td>Effort to Return Benin Bronzes to Africa Remai...</td>\n",
       "      <td>https://www.voanews.com/europe/effort-return-b...</td>\n",
       "      <td>LONDON - The promise to return several Benin B...</td>\n",
       "      <td>2020-01-17</td>\n",
       "      <td>2020-01-17</td>\n",
       "    </tr>\n",
       "    <tr>\n",
       "      <th>4</th>\n",
       "      <td>Germany first to hand back Benin bronzes loote...</td>\n",
       "      <td>https://www.theguardian.com/world/2021/apr/30/...</td>\n",
       "      <td>Germany is to become the first country to hand...</td>\n",
       "      <td>2021-04-30</td>\n",
       "      <td>2021-04-30</td>\n",
       "    </tr>\n",
       "    <tr>\n",
       "      <th>...</th>\n",
       "      <td>...</td>\n",
       "      <td>...</td>\n",
       "      <td>...</td>\n",
       "      <td>...</td>\n",
       "      <td>...</td>\n",
       "    </tr>\n",
       "    <tr>\n",
       "      <th>1135</th>\n",
       "      <td>Review: 'Loot' Tells of the Benin Bronzes from...</td>\n",
       "      <td>https://www.artnews.com/art-news/news/loot-bar...</td>\n",
       "      <td>In 1974, the Nigerian government asked the Bri...</td>\n",
       "      <td>NaN</td>\n",
       "      <td>2021-05-03</td>\n",
       "    </tr>\n",
       "    <tr>\n",
       "      <th>1171</th>\n",
       "      <td>The Benin Bronzes: Towards the Resolution of a...</td>\n",
       "      <td>https://morningside-alliance.org/event/the-ben...</td>\n",
       "      <td>NaN</td>\n",
       "      <td>NaN</td>\n",
       "      <td>None</td>\n",
       "    </tr>\n",
       "    <tr>\n",
       "      <th>1173</th>\n",
       "      <td>The week in art news – staff accuse Barbican C...</td>\n",
       "      <td>https://www.apollo-magazine.com/art-news-barbi...</td>\n",
       "      <td>Current and former staff at the Barbican Centr...</td>\n",
       "      <td>NaN</td>\n",
       "      <td>2021-06-11</td>\n",
       "    </tr>\n",
       "    <tr>\n",
       "      <th>1178</th>\n",
       "      <td>Columbia University Italian Academy: The Benin...</td>\n",
       "      <td>https://medren.columbia.edu/news/columbia-univ...</td>\n",
       "      <td>The Benin Bronzes were looted in 1897 from the...</td>\n",
       "      <td>NaN</td>\n",
       "      <td>2021-04-09</td>\n",
       "    </tr>\n",
       "    <tr>\n",
       "      <th>1400</th>\n",
       "      <td>The Brutish Museums: The Benin Bronzes, Coloni...</td>\n",
       "      <td>https://www.amazon.ca/Brutish-Museums-Colonial...</td>\n",
       "      <td>The centre-piece, the prize exhibit of the boo...</td>\n",
       "      <td>NaN</td>\n",
       "      <td>2021-03-12</td>\n",
       "    </tr>\n",
       "  </tbody>\n",
       "</table>\n",
       "<p>172 rows × 5 columns</p>\n",
       "</div>"
      ],
      "text/plain": [
       "                                                  title  \\\n",
       "0     Benin Bronzes: Germany to return looted artefa...   \n",
       "1     Fate of looted Benin Bronzes intensifies debat...   \n",
       "2     Nigeria welcomes Germany′s decision to return ...   \n",
       "3     Effort to Return Benin Bronzes to Africa Remai...   \n",
       "4     Germany first to hand back Benin bronzes loote...   \n",
       "...                                                 ...   \n",
       "1135  Review: 'Loot' Tells of the Benin Bronzes from...   \n",
       "1171  The Benin Bronzes: Towards the Resolution of a...   \n",
       "1173  The week in art news – staff accuse Barbican C...   \n",
       "1178  Columbia University Italian Academy: The Benin...   \n",
       "1400  The Brutish Museums: The Benin Bronzes, Coloni...   \n",
       "\n",
       "                                                   link  \\\n",
       "0        https://www.bbc.com/news/world-africa-56949003   \n",
       "1     https://www.ft.com/content/ee754d39-e171-4c36-...   \n",
       "2     https://www.dw.com/en/nigeria-welcomes-germany...   \n",
       "3     https://www.voanews.com/europe/effort-return-b...   \n",
       "4     https://www.theguardian.com/world/2021/apr/30/...   \n",
       "...                                                 ...   \n",
       "1135  https://www.artnews.com/art-news/news/loot-bar...   \n",
       "1171  https://morningside-alliance.org/event/the-ben...   \n",
       "1173  https://www.apollo-magazine.com/art-news-barbi...   \n",
       "1178  https://medren.columbia.edu/news/columbia-univ...   \n",
       "1400  https://www.amazon.ca/Brutish-Museums-Colonial...   \n",
       "\n",
       "                                                   text        date  \\\n",
       "0     Benin Bronzes: Germany to return looted artefa...  2021-04-30   \n",
       "1     Subscribe to read | Financial Times Accessibil...  2021-03-26   \n",
       "2     German cultural and political leaders have rea...  2017-07-11   \n",
       "3     LONDON - The promise to return several Benin B...  2020-01-17   \n",
       "4     Germany is to become the first country to hand...  2021-04-30   \n",
       "...                                                 ...         ...   \n",
       "1135  In 1974, the Nigerian government asked the Bri...         NaN   \n",
       "1171                                                NaN         NaN   \n",
       "1173  Current and former staff at the Barbican Centr...         NaN   \n",
       "1178  The Benin Bronzes were looted in 1897 from the...         NaN   \n",
       "1400  The centre-piece, the prize exhibit of the boo...         NaN   \n",
       "\n",
       "       html_date  \n",
       "0     2021-04-30  \n",
       "1     2021-03-26  \n",
       "2     2017-07-11  \n",
       "3     2020-01-17  \n",
       "4     2021-04-30  \n",
       "...          ...  \n",
       "1135  2021-05-03  \n",
       "1171        None  \n",
       "1173  2021-06-11  \n",
       "1178  2021-04-09  \n",
       "1400  2021-03-12  \n",
       "\n",
       "[172 rows x 5 columns]"
      ]
     },
     "execution_count": 145,
     "metadata": {},
     "output_type": "execute_result"
    }
   ],
   "source": [
    "final_df"
   ]
  },
  {
   "cell_type": "markdown",
   "id": "659cded7",
   "metadata": {},
   "source": [
    "# Clean Article text and load to dataframe"
   ]
  },
  {
   "cell_type": "code",
   "execution_count": 4,
   "id": "7a8d4f17",
   "metadata": {},
   "outputs": [],
   "source": [
    "import nltk\n",
    "import pandas as pd\n",
    "import CleanTweets as ct"
   ]
  },
  {
   "cell_type": "code",
   "execution_count": 9,
   "id": "a411d77f",
   "metadata": {},
   "outputs": [],
   "source": [
    "df = pd.read_csv('bb_google_content172.csv', index_col=0)"
   ]
  },
  {
   "cell_type": "code",
   "execution_count": 12,
   "id": "ad323fd9",
   "metadata": {},
   "outputs": [
    {
     "data": {
      "text/html": [
       "<div>\n",
       "<style scoped>\n",
       "    .dataframe tbody tr th:only-of-type {\n",
       "        vertical-align: middle;\n",
       "    }\n",
       "\n",
       "    .dataframe tbody tr th {\n",
       "        vertical-align: top;\n",
       "    }\n",
       "\n",
       "    .dataframe thead th {\n",
       "        text-align: right;\n",
       "    }\n",
       "</style>\n",
       "<table border=\"1\" class=\"dataframe\">\n",
       "  <thead>\n",
       "    <tr style=\"text-align: right;\">\n",
       "      <th></th>\n",
       "      <th>title</th>\n",
       "      <th>link</th>\n",
       "      <th>text</th>\n",
       "      <th>date</th>\n",
       "      <th>html_date</th>\n",
       "    </tr>\n",
       "  </thead>\n",
       "  <tbody>\n",
       "    <tr>\n",
       "      <th>0</th>\n",
       "      <td>Benin Bronzes: Germany to return looted artefa...</td>\n",
       "      <td>https://www.bbc.com/news/world-africa-56949003</td>\n",
       "      <td>Benin Bronzes: Germany to return looted artefa...</td>\n",
       "      <td>2021-04-30</td>\n",
       "      <td>2021-04-30</td>\n",
       "    </tr>\n",
       "    <tr>\n",
       "      <th>1</th>\n",
       "      <td>Fate of looted Benin Bronzes intensifies debat...</td>\n",
       "      <td>https://www.ft.com/content/ee754d39-e171-4c36-...</td>\n",
       "      <td>Subscribe to read | Financial Times Accessibil...</td>\n",
       "      <td>2021-03-26</td>\n",
       "      <td>2021-03-26</td>\n",
       "    </tr>\n",
       "    <tr>\n",
       "      <th>2</th>\n",
       "      <td>Nigeria welcomes Germany′s decision to return ...</td>\n",
       "      <td>https://www.dw.com/en/nigeria-welcomes-germany...</td>\n",
       "      <td>German cultural and political leaders have rea...</td>\n",
       "      <td>2017-07-11</td>\n",
       "      <td>2017-07-11</td>\n",
       "    </tr>\n",
       "    <tr>\n",
       "      <th>3</th>\n",
       "      <td>Effort to Return Benin Bronzes to Africa Remai...</td>\n",
       "      <td>https://www.voanews.com/europe/effort-return-b...</td>\n",
       "      <td>LONDON - The promise to return several Benin B...</td>\n",
       "      <td>2020-01-17</td>\n",
       "      <td>2020-01-17</td>\n",
       "    </tr>\n",
       "    <tr>\n",
       "      <th>4</th>\n",
       "      <td>Germany first to hand back Benin bronzes loote...</td>\n",
       "      <td>https://www.theguardian.com/world/2021/apr/30/...</td>\n",
       "      <td>Germany is to become the first country to hand...</td>\n",
       "      <td>2021-04-30</td>\n",
       "      <td>2021-04-30</td>\n",
       "    </tr>\n",
       "  </tbody>\n",
       "</table>\n",
       "</div>"
      ],
      "text/plain": [
       "                                               title  \\\n",
       "0  Benin Bronzes: Germany to return looted artefa...   \n",
       "1  Fate of looted Benin Bronzes intensifies debat...   \n",
       "2  Nigeria welcomes Germany′s decision to return ...   \n",
       "3  Effort to Return Benin Bronzes to Africa Remai...   \n",
       "4  Germany first to hand back Benin bronzes loote...   \n",
       "\n",
       "                                                link  \\\n",
       "0     https://www.bbc.com/news/world-africa-56949003   \n",
       "1  https://www.ft.com/content/ee754d39-e171-4c36-...   \n",
       "2  https://www.dw.com/en/nigeria-welcomes-germany...   \n",
       "3  https://www.voanews.com/europe/effort-return-b...   \n",
       "4  https://www.theguardian.com/world/2021/apr/30/...   \n",
       "\n",
       "                                                text        date   html_date  \n",
       "0  Benin Bronzes: Germany to return looted artefa...  2021-04-30  2021-04-30  \n",
       "1  Subscribe to read | Financial Times Accessibil...  2021-03-26  2021-03-26  \n",
       "2  German cultural and political leaders have rea...  2017-07-11  2017-07-11  \n",
       "3  LONDON - The promise to return several Benin B...  2020-01-17  2020-01-17  \n",
       "4  Germany is to become the first country to hand...  2021-04-30  2021-04-30  "
      ]
     },
     "execution_count": 12,
     "metadata": {},
     "output_type": "execute_result"
    }
   ],
   "source": [
    "df.head()"
   ]
  },
  {
   "cell_type": "code",
   "execution_count": 15,
   "id": "27c985af",
   "metadata": {},
   "outputs": [
    {
     "name": "stdout",
     "output_type": "stream",
     "text": [
      "time taken to clean tweets: 20.657857179641724s. Use the [lemma_text] column to perform your analysis/modeling on\n"
     ]
    }
   ],
   "source": [
    "df = ct.clean_tweets(df,'text','lemma_text',\n",
    "                general_clean=True,lemma=True,stem=False,remove_tag=False,remove_mention=False,\n",
    "                remove_emoji=False, remove_stopword=True,min_length=1, untokenized_return=True)"
   ]
  },
  {
   "cell_type": "code",
   "execution_count": 16,
   "id": "559a027e",
   "metadata": {},
   "outputs": [
    {
     "name": "stdout",
     "output_type": "stream",
     "text": [
      "time taken to clean tweets: 3.1677749156951904s. Use the [stem_text] column to perform your analysis/modeling on\n"
     ]
    }
   ],
   "source": [
    "df = ct.clean_tweets(df,'text','stem_text',\n",
    "                general_clean=True,lemma=False,stem=True,remove_tag=False,remove_mention=False,\n",
    "                remove_emoji=False, remove_stopword=True,min_length=1, untokenized_return=True)"
   ]
  },
  {
   "cell_type": "code",
   "execution_count": 18,
   "id": "7d8a4020",
   "metadata": {},
   "outputs": [],
   "source": [
    "df.to_csv('bb_google_content172_cleaned.csv')"
   ]
  },
  {
   "cell_type": "markdown",
   "id": "ae47dffb",
   "metadata": {},
   "source": [
    "# Playground"
   ]
  },
  {
   "cell_type": "code",
   "execution_count": 87,
   "id": "7704a6f7",
   "metadata": {},
   "outputs": [],
   "source": [
    "def ordinary(soup):\n",
    "\n",
    "    # kill all script and style elements\n",
    "    for script in soup([\"script\", \"style\"]):\n",
    "        script.extract()    # rip it out\n",
    "\n",
    "    # get text\n",
    "    text = soup.body.get_text(separator=' ')\n",
    "\n",
    "    # break into lines and remove leading and trailing space on each\n",
    "    lines = (line.strip() for line in text.splitlines())\n",
    "    # break multi-headlines into a line each\n",
    "    chunks = (phrase.strip() for line in lines for phrase in line.split(\"  \"))\n",
    "    # drop blank lines\n",
    "    text = '\\n'.join(chunk for chunk in chunks if chunk)\n",
    "\n",
    "    return text"
   ]
  },
  {
   "cell_type": "code",
   "execution_count": 131,
   "id": "724af6a3",
   "metadata": {},
   "outputs": [],
   "source": [
    "def bcc_get_p(soup):\n",
    "    # for BBC articles\n",
    "    # retrieve all of the paragraph tags\n",
    "    #paragraphs = soup.find('article').find_all('p') \n",
    "    paragraphs = soup.find_all('p') \n",
    "    text = ' '.join(paragraph.text for paragraph in paragraphs)\n",
    "    headings = soup.find_all('h1')\n",
    "    print(headings)\n",
    "    text2 = ' '.join(heading.text for heading in headings)\n",
    "    full_text = text + text2\n",
    "    return full_text"
   ]
  },
  {
   "cell_type": "code",
   "execution_count": 120,
   "id": "a04c153e",
   "metadata": {},
   "outputs": [],
   "source": [
    "# BCC and CNN\n",
    "article = {}\n",
    "article['publisher'] = data['publisher']\n",
    "article['author'] = data['author']\n",
    "article['url'] = data['url']\n",
    "article['datePublished'] = data['datePublished']\n",
    "article['text'] = ordinary(soup)"
   ]
  },
  {
   "cell_type": "code",
   "execution_count": 142,
   "id": "70f07b01",
   "metadata": {},
   "outputs": [
    {
     "name": "stdout",
     "output_type": "stream",
     "text": [
      "[<h1 class=\"page-header__title\"><span>Effort to Return Benin Bronzes to Africa Remains Ongoing Challenge</span>\n",
      "</h1>]\n"
     ]
    },
    {
     "data": {
      "text/plain": [
       "\" LONDON - The promise to return several Benin Bronzes from three Western institutions to the former Kingdom of Benin in Nigeria was celebrated by many. But returning all the artifacts looted by British soldiers 125 years ago will continue to be a challenge. In recent weeks, a university in Scotland and museums in Germany and Britain pledged to repatriate the Benin Bronzes they own.\\xa0\\xa0\\xa0 The restitution is hugely symbolic to Timothy Awoyemi, a British-born Nigerian who helped repatriate two Benin Bronzes in 2014 from a private collector whose grandfather had been part of the 19th century looting. Awoyemi says he was elated when he heard about the latest returns.\\xa0 “They stole it so it makes me happy, because the stolen artifacts are going to be returned back to where they rightly belong,” he said.\\xa0\\xa0 British soldiers looted the Kingdom of Benin in what is currently Edo state in Nigeria, during a punitive military expedition in 1897. The high valued plaques, masks and sculptures functioned as an historical archive to the Benin royal palace. The sculptures made of brass, bronze and ivory are now owned and displayed across Western museums and institutions.\\xa0\\xa0\\xa0 Oxford Professor Dan Hicks is the curator of the Pitts River Museum, which holds 145 Benin objects. He authored a book about the bronzes, and says the displays of stolen art in Western museums continues to hurt people in the present.\\xa0 “The dispossession of arts and culture was a central sort of part of how military operations that sought to remove sovereignty, and sought to destroy traditional religion, and sought to remove identity, culture. That was a central part of what the Europeans were doing in the 1880s, 1890s across Africa,” he said.\\xa0\\xa0 Hicks says the argument that Western museums would be emptied out or shut down is unlikely as restitution needs a case by case approach.\\xa0\\xa0\\xa0 Thousands of bronzes from the former Benin empire are held in private collections and in over 160 museums around the world. Most have offered to discuss loaning the bronzes instead of repatriation.\\xa0\\xa0\\xa0 The British Museum in London holds about 900 Benin objects, the largest collection in the world. Its website reads no formal written request has been received for the return of the entire Benin collection, despite the bronzes being filed under “contested objects.” \\xa0Additionally, laws would need to be changed because British national collections are prohibited from giving away their collection.\\xa0\\xa0\\xa0 The African Foundation for Development, Afford, is a British based charity, which, for the past year, has investigated the challenges and obstacles related to returning African artifacts.\\xa0\\xa0\\xa0 Executive director Onyekachi Wambu says that even if the national collections aren’t willing or able to repatriate, there are many more places and people owning Benin Bronzes.\\xa0 “There's lots of different museums around the country, which have their own collections, and they're not covered by the law. There are others that are in private collections, and those are going to be much more difficult to do because, you know, those people sometimes don't want to do it,” he said.\\xa0\\xa0 It’s said over 90 percent of African cultural legacy is held outside the continent. \\xa0 Although many Western countries have laws ensuring the return of Nazi-looted art, this approach has not been extended when it comes to art stolen from Africa and other parts of the world.\\xa0 \\xa0 \\xa0Effort to Return Benin Bronzes to Africa Remains Ongoing Challenge\\n\""
      ]
     },
     "execution_count": 142,
     "metadata": {},
     "output_type": "execute_result"
    }
   ],
   "source": [
    "bcc_get_p(soup)"
   ]
  },
  {
   "cell_type": "code",
   "execution_count": 143,
   "id": "60879672",
   "metadata": {},
   "outputs": [
    {
     "data": {
      "text/plain": [
       "\"Skip to main content\\nOpen main navigation\\nLive TV\\nFull Schedule\\nAll Programs\\nLive Radio\\nFull Schedule\\nAll Programs\\nUnited States\\nUS Politics\\nImmigration\\nAll About America\\nScience & Health\\nSilicon Valley & Technology\\nWorld\\nAfrica\\nThe Americas\\nEast Asia Pacific\\nEurope\\nExtremism Watch\\nMiddle East\\nSouth & Central Asia\\nVOA News on China\\nVOA News on Iran\\nSections\\nArts & Culture\\nDay in Photos\\nEconomy & Business\\nPress Freedom\\nPlugged in with Greta Van Susteren\\nVOA StudentU\\nVOA Connect\\nRefugees\\nFEATURED\\nUS News\\nPress Freedom\\nVOA News on Iran\\nCOVID-19 Pandemic\\nSearch\\nSearch VOA News\\nSearch\\nLang\\nLive TV\\nLive TV\\nFull Schedule\\nAll Programs\\nLive Radio\\nLive Radio\\nFull Schedule\\nAll Programs\\nEnglish\\nEnglish\\nvoanews.com\\nLearning English\\nlearningenglish.voanews.com\\nEastern & Central Europe\\nShqip\\nzeriamerikes.com\\nBosanski\\nba.voanews.com\\nΕλληνικά\\ngr.voanews.com\\nМакедонски\\nmk.voanews.com\\nSrpski\\nglasamerike.net\\nУкраїнська\\nukrainian.voanews.com\\nEurasia\\nՀայերեն\\namerikayidzayn.com\\nAzerbaijani\\namerikaninsesi.org\\nქართული\\namerikiskhma.com\\nРусский\\ngolosameriki.com\\nCentral Asia\\nO‘zbek\\u200e\\namerikaovozi.com\\nSouth Asia\\nবাংলা\\nvoabangla.com\\nدری\\ndarivoa.com\\nپښتو\\npashtovoa.com\\nوی او اې ډيوه ريډیو\\nvoadeewanews.com\\nارد\\nurduvoa.com\\nEast & Southeast Asia\\nျမန္မာ\\nburmese.voanews.com\\n粤语\\nvoacantonese.com\\n中文\\nvoachinese.com\\nBahasa Indonesia\\nvoaindonesia.com\\nខ្មែរ\\nkhmer.voanews.com\\nKhmer\\nvoacambodia.com\\n한국어\\nvoakorea.com\\nລາວ\\nlao.voanews.com\\nไทย\\nvoathai.com\\nབོད་ཡིག\\nvoatibetan.com\\nTiếng Việt\\nvoatiengviet.com\\nAfrica\\nAfaan Oromoo\\nvoaafaanoromoo.com\\nአማርኛ\\namharic.voanews.com\\nBambara\\nvoabambara.com\\nFrançais\\nvoaafrique.com\\nHausa\\nvoahausa.com\\nKinyarwanda / Kirundi\\nradiyoyacuvoa.com\\nNdebele\\nvoandebele.com\\nPortuguês\\nvoaportugues.com\\nShona\\nvoashona.com\\nSoomaaliga\\nvoasomali.com\\nKiswahili\\nvoaswahili.com\\nትግርኛ\\ntigrigna.voanews.com\\nZimbabwe\\nvoazimbabwe.com\\nMiddle East/North Africa\\nفارسی\\nir.voanews.com\\nكوردی\\ndengiamerika.com\\nKurdi\\ndengeamerika.com\\nTürkçe\\namerikaninsesi.com\\nLatin America\\nCreole\\nvoanouvel.com\\nEspañol\\nvoanoticias.com\\nShare on Facebook\\nShare on Twitter\\nShare via Email\\nPrint this page\\nEurope\\nEffort to Return Benin Bronzes to Africa Remains Ongoing Challenge\\nBy\\nMarthe van der Wolf\\nApril 06, 2021 01:42 PM\\nShare on Facebook\\nShare on Twitter\\nShare via Email\\nPrint this page\\nNeil Curtis, head of Museums and Special Collections is seen with one of the Benin bronze depicting the Oba of Benin at The Sir Duncan Rice Library, the University of Aberdeen, Scotland, March 17, 2021. (University of Aberdeen/Handout via Reuters)\\nLONDON - The promise to return several Benin Bronzes from three Western institutions to the former Kingdom of Benin in Nigeria was celebrated by many. But returning all the artifacts looted by British soldiers 125 years ago will continue to be a challenge.\\nIn recent weeks, a university in Scotland and museums in Germany and Britain pledged to repatriate the Benin Bronzes they own.\\nThe restitution is hugely symbolic to Timothy Awoyemi, a British-born Nigerian who helped repatriate two Benin Bronzes in 2014 from a private collector whose grandfather had been part of the 19th century looting. Awoyemi says he was elated when he heard about the latest returns.\\n“They stole it so it makes me happy, because the stolen artifacts are going to be returned back to where they rightly belong,” he said.\\nBritish soldiers looted the Kingdom of Benin in what is currently Edo state in Nigeria, during a punitive military expedition in 1897. The high valued plaques, masks and sculptures functioned as an historical archive to the Benin royal palace. The sculptures made of brass, bronze and ivory are now owned and displayed across Western museums and institutions.\\nFILE - Steve Dunstone, of the Richard Lander Society, holds 2 bronze artefacts taken away during the British invasion of Benin in 1897, and returned to Benin by a British pensioner, during a ceremony in Benin City, Nigeria, June 20, 2014. Oxford Professor Dan Hicks is the curator of the Pitts River Museum, which holds 145 Benin objects. He authored a book about the bronzes, and says the displays of stolen art in Western museums continues to hurt people in the present.\\n“The dispossession of arts and culture was a central sort of part of how military operations that sought to remove sovereignty, and sought to destroy traditional religion, and sought to remove identity, culture. That was a central part of what the Europeans were doing in the 1880s, 1890s across Africa,” he said.\\nHicks says the argument that Western museums would be emptied out or shut down is unlikely as restitution needs a case by case approach.\\nThousands of bronzes from the former Benin empire are held in private collections and in over 160 museums around the world. Most have offered to discuss loaning the bronzes instead of repatriation.\\nThe British Museum in London holds about 900 Benin objects, the largest collection in the world. Its website reads no formal written request has been received for the return of the entire Benin collection, despite the bronzes being filed under “contested objects.” \\xa0Additionally, laws would need to be changed because British national collections are prohibited from giving away their collection.\\nThe African Foundation for Development, Afford, is a British based charity, which, for the past year, has investigated the challenges and obstacles related to returning African artifacts.\\nExecutive director Onyekachi Wambu says that even if the national collections aren’t willing or able to repatriate, there are many more places and people owning Benin Bronzes.\\n“There's lots of different museums around the country, which have their own collections, and they're not covered by the law. There are others that are in private collections, and those are going to be much more difficult to do because, you know, those people sometimes don't want to do it,” he said.\\nFILE - A visitor looks at two heads of a royal ancestor from the former Benin Kingdom displayed at the Quai Branly Museum in Paris, France, Nov. 23, 2018. It’s said over 90 percent of African cultural legacy is held outside the continent.\\nAlthough many Western countries have laws ensuring the return of Nazi-looted art, this approach has not been extended when it comes to art stolen from Africa and other parts of the world.\\nRelated Stories\\nArts & Culture\\nBenin Museum Celebrates Return of Precious Artifacts from France\\nThe private donation of more than two dozen royal scepters comes as the country still awaits the French government's restitution of colonial artifacts\\nBy\\nLisa Bryant\\nFri, 01/17/2020 - 07:39 PM\\nArts & Culture\\nFrance to Fast-Track Return of Artifacts from Benin\\nEurope is believed to house about 90 percent of Africa's cultural heritage\\nBy\\nLisa Bryant\\nThu, 07/04/2019 - 06:29 PM\\nArts & Culture\\nFrance Returns 26 Artworks to Benin as Report Urges Restitution\\nFrance will return 26 works of art to Benin, Emmanuel Macron's office said Friday, as the French president took delivery of a report recommending the widespread return of cultural artifacts removed from Africa during the colonial era.\\nThe report by Senegalese economist\\xa0Felwine\\xa0Sarr and French art historian Benedicte Savoy marked a potential…\\nBy\\nMarthe van der Wolf\\nLinkedIn\\nFacebook\\nLatest News\\nEurope\\nTurkish Agents Capture Nephew of US-Based Cleric Overseas\\nEurope\\nTurkey's Erdogan Under Renewed Pressure Following Mafia Boss Allegations\\nEurope\\nRussia's Newsru Media Outlet Announces Closure, Blames Political Situation\\nEurope\\nUS Spied on Merkel, Other Europeans Through Danish Cables, Broadcaster DR Alleges\\nEurope\\nFar-Right Party, Centrist Group Gain Big in Cyprus Poll\\nTwitter\\nInstagram\\nFacebook\\nYouTube\\nRSS\\nPodcasts\\nSwitch to Dark mode\\nSwitch to Light mode\\nSearch VOA News\\nSearch\\nUnited States\\nUS Politics\\nImmigration\\nAll About America\\nSilicon Valley and Technology\\nWorld News\\nAfrica\\nThe Americas\\nEast Asia Pacific\\nEurope\\nMiddle East\\nSouth & Central Asia\\nSections\\nArts & Culture\\nDay in Photos\\nEconomy & Business\\nExtremism Watch\\nPress Freedom\\nScience & Health\\nVOA StudentU\\nVOA Connect\\nRefugees\\nVoice of America\\nAbout VOA\\nContact VOA\\nTerms of Use and Privacy Notice\\nAccessibility\\nGet Our Mobile App\\nUsage Requests\\nVOA Around the World\\nVOA Pronunciation Guide\\nMedia Relations\\nListen on the radio\\nSatellite Schedule\\nSubscribe to Our Newsletters\\nEditorials\""
      ]
     },
     "execution_count": 143,
     "metadata": {},
     "output_type": "execute_result"
    }
   ],
   "source": [
    "ordinary(soup)"
   ]
  },
  {
   "cell_type": "code",
   "execution_count": 112,
   "id": "7305cbb0",
   "metadata": {},
   "outputs": [
    {
     "data": {
      "text/plain": [
       "{'publisher': {'@type': 'Organization',\n",
       "  'name': 'CNN',\n",
       "  'logo': {'@type': 'ImageObject',\n",
       "   'url': 'https://dynaimage.cdn.cnn.com/cnn/q_auto,h_60/https%3A%2F%2Fi2.cdn.turner.com%2Fcnn%2F2017%2Fimages%2F09%2F14%2Flogo-cnnstyle.png'}},\n",
       " 'author': {'@type': 'Person', 'name': 'Kieron Monks, CNN'},\n",
       " 'url': 'https://www.cnn.com/style/article/benin-bronzes-germany-restitution/index.html',\n",
       " 'datePublished': '2021-04-30T03:03:12Z',\n",
       " 'text': \"Skip to main content\\nOpen main navigation\\nLive TV\\nFull Schedule\\nAll Programs\\nLive Radio\\nFull Schedule\\nAll Programs\\nUnited States\\nUS Politics\\nImmigration\\nAll About America\\nScience & Health\\nSilicon Valley & Technology\\nWorld\\nAfrica\\nThe Americas\\nEast Asia Pacific\\nEurope\\nExtremism Watch\\nMiddle East\\nSouth & Central Asia\\nVOA News on China\\nVOA News on Iran\\nSections\\nArts & Culture\\nDay in Photos\\nEconomy & Business\\nPress Freedom\\nPlugged in with Greta Van Susteren\\nVOA StudentU\\nVOA Connect\\nRefugees\\nFEATURED\\nUS News\\nPress Freedom\\nVOA News on Iran\\nCOVID-19 Pandemic\\nSearch\\nSearch VOA News\\nSearch\\nLang\\nLive TV\\nLive TV\\nFull Schedule\\nAll Programs\\nLive Radio\\nLive Radio\\nFull Schedule\\nAll Programs\\nEnglish\\nEnglish\\nvoanews.com\\nLearning English\\nlearningenglish.voanews.com\\nEastern & Central Europe\\nShqip\\nzeriamerikes.com\\nBosanski\\nba.voanews.com\\nΕλληνικά\\ngr.voanews.com\\nМакедонски\\nmk.voanews.com\\nSrpski\\nglasamerike.net\\nУкраїнська\\nukrainian.voanews.com\\nEurasia\\nՀայերեն\\namerikayidzayn.com\\nAzerbaijani\\namerikaninsesi.org\\nქართული\\namerikiskhma.com\\nРусский\\ngolosameriki.com\\nCentral Asia\\nO‘zbek\\u200e\\namerikaovozi.com\\nSouth Asia\\nবাংলা\\nvoabangla.com\\nدری\\ndarivoa.com\\nپښتو\\npashtovoa.com\\nوی او اې ډيوه ريډیو\\nvoadeewanews.com\\nارد\\nurduvoa.com\\nEast & Southeast Asia\\nျမန္မာ\\nburmese.voanews.com\\n粤语\\nvoacantonese.com\\n中文\\nvoachinese.com\\nBahasa Indonesia\\nvoaindonesia.com\\nខ្មែរ\\nkhmer.voanews.com\\nKhmer\\nvoacambodia.com\\n한국어\\nvoakorea.com\\nລາວ\\nlao.voanews.com\\nไทย\\nvoathai.com\\nབོད་ཡིག\\nvoatibetan.com\\nTiếng Việt\\nvoatiengviet.com\\nAfrica\\nAfaan Oromoo\\nvoaafaanoromoo.com\\nአማርኛ\\namharic.voanews.com\\nBambara\\nvoabambara.com\\nFrançais\\nvoaafrique.com\\nHausa\\nvoahausa.com\\nKinyarwanda / Kirundi\\nradiyoyacuvoa.com\\nNdebele\\nvoandebele.com\\nPortuguês\\nvoaportugues.com\\nShona\\nvoashona.com\\nSoomaaliga\\nvoasomali.com\\nKiswahili\\nvoaswahili.com\\nትግርኛ\\ntigrigna.voanews.com\\nZimbabwe\\nvoazimbabwe.com\\nMiddle East/North Africa\\nفارسی\\nir.voanews.com\\nكوردی\\ndengiamerika.com\\nKurdi\\ndengeamerika.com\\nTürkçe\\namerikaninsesi.com\\nLatin America\\nCreole\\nvoanouvel.com\\nEspañol\\nvoanoticias.com\\nShare on Facebook\\nShare on Twitter\\nShare via Email\\nPrint this page\\nEurope\\nEffort to Return Benin Bronzes to Africa Remains Ongoing Challenge\\nBy\\nMarthe van der Wolf\\nApril 06, 2021 01:42 PM\\nShare on Facebook\\nShare on Twitter\\nShare via Email\\nPrint this page\\nNeil Curtis, head of Museums and Special Collections is seen with one of the Benin bronze depicting the Oba of Benin at The Sir Duncan Rice Library, the University of Aberdeen, Scotland, March 17, 2021. (University of Aberdeen/Handout via Reuters)\\nLONDON - The promise to return several Benin Bronzes from three Western institutions to the former Kingdom of Benin in Nigeria was celebrated by many. But returning all the artifacts looted by British soldiers 125 years ago will continue to be a challenge.\\nIn recent weeks, a university in Scotland and museums in Germany and Britain pledged to repatriate the Benin Bronzes they own.\\nThe restitution is hugely symbolic to Timothy Awoyemi, a British-born Nigerian who helped repatriate two Benin Bronzes in 2014 from a private collector whose grandfather had been part of the 19th century looting. Awoyemi says he was elated when he heard about the latest returns.\\n“They stole it so it makes me happy, because the stolen artifacts are going to be returned back to where they rightly belong,” he said.\\nBritish soldiers looted the Kingdom of Benin in what is currently Edo state in Nigeria, during a punitive military expedition in 1897. The high valued plaques, masks and sculptures functioned as an historical archive to the Benin royal palace. The sculptures made of brass, bronze and ivory are now owned and displayed across Western museums and institutions.\\nFILE - Steve Dunstone, of the Richard Lander Society, holds 2 bronze artefacts taken away during the British invasion of Benin in 1897, and returned to Benin by a British pensioner, during a ceremony in Benin City, Nigeria, June 20, 2014. Oxford Professor Dan Hicks is the curator of the Pitts River Museum, which holds 145 Benin objects. He authored a book about the bronzes, and says the displays of stolen art in Western museums continues to hurt people in the present.\\n“The dispossession of arts and culture was a central sort of part of how military operations that sought to remove sovereignty, and sought to destroy traditional religion, and sought to remove identity, culture. That was a central part of what the Europeans were doing in the 1880s, 1890s across Africa,” he said.\\nHicks says the argument that Western museums would be emptied out or shut down is unlikely as restitution needs a case by case approach.\\nThousands of bronzes from the former Benin empire are held in private collections and in over 160 museums around the world. Most have offered to discuss loaning the bronzes instead of repatriation.\\nThe British Museum in London holds about 900 Benin objects, the largest collection in the world. Its website reads no formal written request has been received for the return of the entire Benin collection, despite the bronzes being filed under “contested objects.” \\xa0Additionally, laws would need to be changed because British national collections are prohibited from giving away their collection.\\nThe African Foundation for Development, Afford, is a British based charity, which, for the past year, has investigated the challenges and obstacles related to returning African artifacts.\\nExecutive director Onyekachi Wambu says that even if the national collections aren’t willing or able to repatriate, there are many more places and people owning Benin Bronzes.\\n“There's lots of different museums around the country, which have their own collections, and they're not covered by the law. There are others that are in private collections, and those are going to be much more difficult to do because, you know, those people sometimes don't want to do it,” he said.\\nFILE - A visitor looks at two heads of a royal ancestor from the former Benin Kingdom displayed at the Quai Branly Museum in Paris, France, Nov. 23, 2018. It’s said over 90 percent of African cultural legacy is held outside the continent.\\nAlthough many Western countries have laws ensuring the return of Nazi-looted art, this approach has not been extended when it comes to art stolen from Africa and other parts of the world.\\nRelated Stories\\nArts & Culture\\nBenin Museum Celebrates Return of Precious Artifacts from France\\nThe private donation of more than two dozen royal scepters comes as the country still awaits the French government's restitution of colonial artifacts\\nBy\\nLisa Bryant\\nFri, 01/17/2020 - 07:39 PM\\nArts & Culture\\nFrance to Fast-Track Return of Artifacts from Benin\\nEurope is believed to house about 90 percent of Africa's cultural heritage\\nBy\\nLisa Bryant\\nThu, 07/04/2019 - 06:29 PM\\nArts & Culture\\nFrance Returns 26 Artworks to Benin as Report Urges Restitution\\nFrance will return 26 works of art to Benin, Emmanuel Macron's office said Friday, as the French president took delivery of a report recommending the widespread return of cultural artifacts removed from Africa during the colonial era.\\nThe report by Senegalese economist\\xa0Felwine\\xa0Sarr and French art historian Benedicte Savoy marked a potential…\\nBy\\nMarthe van der Wolf\\nLinkedIn\\nFacebook\\nLatest News\\nEurope\\nTurkish Agents Capture Nephew of US-Based Cleric Overseas\\nEurope\\nTurkey's Erdogan Under Renewed Pressure Following Mafia Boss Allegations\\nEurope\\nRussia's Newsru Media Outlet Announces Closure, Blames Political Situation\\nEurope\\nUS Spied on Merkel, Other Europeans Through Danish Cables, Broadcaster DR Alleges\\nEurope\\nFar-Right Party, Centrist Group Gain Big in Cyprus Poll\\nTwitter\\nInstagram\\nFacebook\\nYouTube\\nRSS\\nPodcasts\\nSwitch to Dark mode\\nSwitch to Light mode\\nSearch VOA News\\nSearch\\nUnited States\\nUS Politics\\nImmigration\\nAll About America\\nSilicon Valley and Technology\\nWorld News\\nAfrica\\nThe Americas\\nEast Asia Pacific\\nEurope\\nMiddle East\\nSouth & Central Asia\\nSections\\nArts & Culture\\nDay in Photos\\nEconomy & Business\\nExtremism Watch\\nPress Freedom\\nScience & Health\\nVOA StudentU\\nVOA Connect\\nRefugees\\nVoice of America\\nAbout VOA\\nContact VOA\\nTerms of Use and Privacy Notice\\nAccessibility\\nGet Our Mobile App\\nUsage Requests\\nVOA Around the World\\nVOA Pronunciation Guide\\nMedia Relations\\nListen on the radio\\nSatellite Schedule\\nSubscribe to Our Newsletters\\nEditorials\"}"
      ]
     },
     "execution_count": 112,
     "metadata": {},
     "output_type": "execute_result"
    }
   ],
   "source": [
    "article"
   ]
  },
  {
   "cell_type": "markdown",
   "id": "d9385628",
   "metadata": {},
   "source": [
    "My update:\n",
    "    "
   ]
  }
 ],
 "metadata": {
  "kernelspec": {
   "display_name": "Python 3",
   "language": "python",
   "name": "python3"
  },
  "language_info": {
   "codemirror_mode": {
    "name": "ipython",
    "version": 3
   },
   "file_extension": ".py",
   "mimetype": "text/x-python",
   "name": "python",
   "nbconvert_exporter": "python",
   "pygments_lexer": "ipython3",
   "version": "3.8.10"
  }
 },
 "nbformat": 4,
 "nbformat_minor": 5
}
